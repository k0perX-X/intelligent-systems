{
 "cells": [
  {
   "cell_type": "code",
   "execution_count": 1,
   "outputs": [],
   "source": [
    "import pickle\n",
    "import barley_break\n",
    "import pandas as pd\n",
    "import numpy as np"
   ],
   "metadata": {
    "collapsed": false,
    "ExecuteTime": {
     "end_time": "2023-12-16T18:19:37.956285700Z",
     "start_time": "2023-12-16T18:19:37.373560800Z"
    }
   },
   "id": "ba96cd154f34d6e8"
  },
  {
   "cell_type": "code",
   "execution_count": 2,
   "outputs": [
    {
     "name": "stdout",
     "output_type": "stream",
     "text": [
      "[UP, UP, LEFT, DOWN, RIGHT, RIGHT, DOWN]\n",
      "7\n",
      "11\n"
     ]
    }
   ],
   "source": [
    "first = np.matrix(\"2, 4, 3; 1, 8, 5; 7, 0, 6\")\n",
    "values = barley_break.get_tree(first)\n",
    "r, steps, b = values\n",
    "print(b.directions[1:])\n",
    "print(len(b.directions) - 1)\n",
    "print(steps)"
   ],
   "metadata": {
    "collapsed": false,
    "ExecuteTime": {
     "end_time": "2023-12-16T18:19:39.184764100Z",
     "start_time": "2023-12-16T18:19:38.210348400Z"
    }
   },
   "id": "51a4e3c3018692e0"
  },
  {
   "cell_type": "code",
   "execution_count": 3,
   "outputs": [
    {
     "data": {
      "text/plain": "[[[2 4 3]\n  [1 8 5]\n  [7 0 6]],\n [[2 4 3]\n  [1 0 5]\n  [7 8 6]],\n [[2 4 3]\n  [1 5 0]\n  [7 8 6]],\n [[2 4 3]\n  [1 5 6]\n  [7 8 0]],\n [[2 4 3]\n  [1 5 6]\n  [7 0 8]],\n [[2 0 3]\n  [1 4 5]\n  [7 8 6]],\n [[0 2 3]\n  [1 4 5]\n  [7 8 6]],\n [[1 2 3]\n  [0 4 5]\n  [7 8 6]],\n [[1 2 3]\n  [4 0 5]\n  [7 8 6]],\n [[1 2 3]\n  [4 5 0]\n  [7 8 6]],\n [[1 2 3]\n  [4 5 6]\n  [7 8 0]]]"
     },
     "execution_count": 3,
     "metadata": {},
     "output_type": "execute_result"
    }
   ],
   "source": [
    "barley_break.path_branches"
   ],
   "metadata": {
    "collapsed": false,
    "ExecuteTime": {
     "end_time": "2023-12-16T18:19:53.360552Z",
     "start_time": "2023-12-16T18:19:53.344594200Z"
    }
   },
   "id": "2d63bcd0728f70bd"
  },
  {
   "cell_type": "code",
   "execution_count": 5,
   "outputs": [
    {
     "data": {
      "text/plain": "[None, UP, UP, LEFT, DOWN, RIGHT, RIGHT, DOWN]"
     },
     "execution_count": 5,
     "metadata": {},
     "output_type": "execute_result"
    }
   ],
   "source": [],
   "metadata": {
    "collapsed": false,
    "ExecuteTime": {
     "end_time": "2023-12-16T18:21:26.766588100Z",
     "start_time": "2023-12-16T18:21:26.751980700Z"
    }
   },
   "id": "df0ae69ee7cf513a"
  }
 ],
 "metadata": {
  "kernelspec": {
   "display_name": "Python 3",
   "language": "python",
   "name": "python3"
  },
  "language_info": {
   "codemirror_mode": {
    "name": "ipython",
    "version": 2
   },
   "file_extension": ".py",
   "mimetype": "text/x-python",
   "name": "python",
   "nbconvert_exporter": "python",
   "pygments_lexer": "ipython2",
   "version": "2.7.6"
  }
 },
 "nbformat": 4,
 "nbformat_minor": 5
}
