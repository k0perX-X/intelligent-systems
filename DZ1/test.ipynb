{
 "cells": [
  {
   "cell_type": "code",
   "execution_count": 191,
   "id": "initial_id",
   "metadata": {
    "collapsed": true,
    "ExecuteTime": {
     "end_time": "2023-09-13T12:08:53.538332Z",
     "start_time": "2023-09-13T12:08:53.527834300Z"
    }
   },
   "outputs": [],
   "source": [
    "import numpy as np\n",
    "import pandas as pd\n",
    "import numba\n",
    "import random\n",
    "import queue\n",
    "from typing import Dict\n",
    "from pprint import pprint"
   ]
  },
  {
   "cell_type": "code",
   "execution_count": 192,
   "outputs": [],
   "source": [
    "T = tuple[int, int]\n",
    "step_number: int = 0\n",
    "\n",
    "@numba.njit()\n",
    "def func(matrix: np.matrix, h: int, current_step: int) -> T:\n",
    "    # height, weight = matrix.shape\n",
    "    global step_number\n",
    "    reshaped = matrix.reshape(-1)\n",
    "    f: int = matrix.size - 1\n",
    "    for i in range(1, reshaped.size):\n",
    "        if reshaped[0, i - 1] == i:\n",
    "            f -= 1\n",
    "    # print(f, h, current_step)\n",
    "    step_number += 1\n",
    "    return f, step_number\n",
    "\n",
    "@numba.njit()\n",
    "def condition_for_exiting(result_of_func: T, h: int):\n",
    "    return True if result_of_func[0] == 0 else False\n",
    "\n"
   ],
   "metadata": {
    "collapsed": false,
    "ExecuteTime": {
     "end_time": "2023-09-13T12:08:53.539331700Z",
     "start_time": "2023-09-13T12:08:53.533868100Z"
    }
   },
   "id": "b650e68921f6d3e0"
  },
  {
   "cell_type": "code",
   "execution_count": 193,
   "outputs": [
    {
     "name": "stderr",
     "output_type": "stream",
     "text": [
      "C:\\Users\\kolya\\AppData\\Local\\Temp\\ipykernel_3552\\3549605128.py:3: NumbaDeprecationWarning: \u001B[1mThe 'nopython' keyword argument was not supplied to the 'numba.jit' decorator. The implicit default value for this argument is currently False, but it will be changed to True in Numba 0.59.0. See https://numba.readthedocs.io/en/stable/reference/deprecation.html#deprecation-of-object-mode-fall-back-behaviour-when-using-jit for details.\u001B[0m\n",
      "  @numba.jit(parallel=True)\n"
     ]
    }
   ],
   "source": [
    "Tree = Dict[int, tuple[np.matrix, 'Tree']]\n",
    "\n",
    "@numba.jit(parallel=True)\n",
    "def get_tree(height: int, weight: int) -> Tree:\n",
    "    l = list(range(0, height * weight))\n",
    "    random.shuffle(l)\n",
    "    first = np.matrix(l).reshape(height, weight)\n",
    "    f = func(first, 0, -1)\n",
    "    tree = (None, {-1: (first, dict())})\n",
    "    q = queue.PriorityQueue()\n",
    "    path = [-1]  # 0 ← 1 ↑ 2 → 3 ↓\n",
    "    q.put((f, first, path))\n",
    "    while not condition_for_exiting(f, len(path) - 1) and q.qsize() != 0:\n",
    "        el = q.get()\n",
    "        matrix: np.matrix = el[1]\n",
    "        path: list = el[2]\n",
    "        index = np.argwhere(matrix == 0).reshape(-1)\n",
    "        prev_step = path[-1]\n",
    "        prev_step_tree = tree\n",
    "        for i in path:\n",
    "            prev_step_tree = prev_step_tree[1][i]\n",
    "        if prev_step != 0 and index[1] != 0:\n",
    "            new_matrix = matrix.copy()\n",
    "            new_matrix[index] = new_matrix[index[0], index[1] - 1]\n",
    "            new_matrix[index[0], index[1] - 1] = 0\n",
    "            new_path = path + [0]\n",
    "            q.put((func(new_matrix, len(path) - 1, 0), new_matrix, new_path))\n",
    "            prev_step_tree[1][0] = (new_matrix, dict())\n",
    "        if prev_step != 1 and index[0] != 0:\n",
    "            new_matrix = matrix.copy()\n",
    "            new_matrix[index] = new_matrix[index[0] - 1, index[1]]\n",
    "            new_matrix[index[0] - 1, index[1]] = 0\n",
    "            new_path = path + [1]\n",
    "            q.put((func(new_matrix, len(path) - 1, 1), new_matrix, new_path))\n",
    "            prev_step_tree[1][1] = (new_matrix, dict())\n",
    "        if prev_step != 2 and index[1] != weight - 1:\n",
    "            new_matrix = matrix.copy()\n",
    "            new_matrix[index] = new_matrix[index[0], index[1] + 1]\n",
    "            new_matrix[index[0], index[1] + 1] = 0\n",
    "            new_path = path + [2]\n",
    "            q.put((func(new_matrix, len(path) - 1, 2), new_matrix, new_path))\n",
    "            prev_step_tree[1][2] = (new_matrix, dict())\n",
    "        if prev_step != 3 and index[0] != height - 1:\n",
    "            new_matrix = matrix.copy()\n",
    "            new_matrix[index] = new_matrix[index[0] + 1, index[1]]\n",
    "            new_matrix[index[0] + 1, index[1]] = 0\n",
    "            new_path = path + [3]\n",
    "            q.put((func(new_matrix, len(path) - 1, 3), new_matrix, new_path))\n",
    "            prev_step_tree[1][3] = (new_matrix, dict())\n",
    "    return tree[1]"
   ],
   "metadata": {
    "collapsed": false,
    "ExecuteTime": {
     "end_time": "2023-09-13T12:08:53.551566600Z",
     "start_time": "2023-09-13T12:08:53.543854700Z"
    }
   },
   "id": "37500d7bf7ac5f43"
  },
  {
   "cell_type": "code",
   "execution_count": 194,
   "outputs": [
    {
     "name": "stderr",
     "output_type": "stream",
     "text": [
      "C:\\Users\\kolya\\AppData\\Local\\Temp\\ipykernel_3552\\3549605128.py:3: NumbaWarning: \u001B[1m\n",
      "Compilation is falling back to object mode WITH looplifting enabled because Function \"get_tree\" failed type inference due to: \u001B[1m\u001B[1m\u001B[1mNo implementation of function Function(<bound method Random.shuffle of <random.Random object at 0x00000280A089E460>>) found for signature:\n",
      " \n",
      " >>> shuffle(list(int64)<iv=None>)\n",
      " \n",
      "There are 2 candidate implementations:\n",
      "\u001B[1m  - Of which 2 did not match due to:\n",
      "  Overload in function 'shuffle_impl': File: numba\\cpython\\randomimpl.py: Line 1857.\n",
      "    With argument(s): '(list(int64)<iv=None>)':\u001B[0m\n",
      "\u001B[1m   Rejected as the implementation raised a specific error:\n",
      "     TypeError: The argument to shuffle() should be a buffer type\u001B[0m\n",
      "  raised from C:\\Users\\kolya\\PycharmProjects\\intelligent-systems\\venv\\Lib\\site-packages\\numba\\cpython\\randomimpl.py:1832\n",
      "\u001B[0m\n",
      "\u001B[0m\u001B[1mDuring: resolving callee type: Function(<bound method Random.shuffle of <random.Random object at 0x00000280A089E460>>)\u001B[0m\n",
      "\u001B[0m\u001B[1mDuring: typing of call at C:\\Users\\kolya\\AppData\\Local\\Temp\\ipykernel_3552\\3549605128.py (6)\n",
      "\u001B[0m\n",
      "\u001B[1m\n",
      "File \"..\\..\\..\\AppData\\Local\\Temp\\ipykernel_3552\\3549605128.py\", line 6:\u001B[0m\n",
      "\u001B[1m<source missing, REPL/exec in use?>\u001B[0m\n",
      "\u001B[0m\n",
      "  @numba.jit(parallel=True)\n",
      "C:\\Users\\kolya\\PycharmProjects\\intelligent-systems\\venv\\Lib\\site-packages\\numba\\core\\object_mode_passes.py:151: NumbaWarning: \u001B[1mFunction \"get_tree\" was compiled in object mode without forceobj=True.\n",
      "\u001B[1m\n",
      "File \"..\\..\\..\\AppData\\Local\\Temp\\ipykernel_3552\\3549605128.py\", line 3:\u001B[0m\n",
      "\u001B[1m<source missing, REPL/exec in use?>\u001B[0m\n",
      "\u001B[0m\n",
      "  warnings.warn(errors.NumbaWarning(warn_msg,\n",
      "C:\\Users\\kolya\\PycharmProjects\\intelligent-systems\\venv\\Lib\\site-packages\\numba\\core\\object_mode_passes.py:161: NumbaDeprecationWarning: \u001B[1m\n",
      "Fall-back from the nopython compilation path to the object mode compilation path has been detected. This is deprecated behaviour that will be removed in Numba 0.59.0.\n",
      "\n",
      "For more information visit https://numba.readthedocs.io/en/stable/reference/deprecation.html#deprecation-of-object-mode-fall-back-behaviour-when-using-jit\n",
      "\u001B[1m\n",
      "File \"..\\..\\..\\AppData\\Local\\Temp\\ipykernel_3552\\3549605128.py\", line 3:\u001B[0m\n",
      "\u001B[1m<source missing, REPL/exec in use?>\u001B[0m\n",
      "\u001B[0m\n",
      "  warnings.warn(errors.NumbaDeprecationWarning(msg,\n"
     ]
    },
    {
     "ename": "UnsupportedError",
     "evalue": "Failed in nopython mode pipeline (step: analyzing bytecode)\n\u001B[1mUse of unsupported opcode (STORE_GLOBAL) found\n\u001B[1m\nFile \"..\\..\\..\\AppData\\Local\\Temp\\ipykernel_3552\\887309397.py\", line 14:\u001B[0m\n\u001B[1m<source missing, REPL/exec in use?>\u001B[0m\n\u001B[0m",
     "output_type": "error",
     "traceback": [
      "\u001B[1;31m---------------------------------------------------------------------------\u001B[0m",
      "\u001B[1;31mUnsupportedError\u001B[0m                          Traceback (most recent call last)",
      "Cell \u001B[1;32mIn[194], line 1\u001B[0m\n\u001B[1;32m----> 1\u001B[0m tree \u001B[38;5;241m=\u001B[39m \u001B[43mget_tree\u001B[49m\u001B[43m(\u001B[49m\u001B[38;5;241;43m4\u001B[39;49m\u001B[43m,\u001B[49m\u001B[43m \u001B[49m\u001B[38;5;241;43m4\u001B[39;49m\u001B[43m)\u001B[49m\n\u001B[0;32m      2\u001B[0m pprint(tree)\n\u001B[0;32m      3\u001B[0m step_number\n",
      "File \u001B[1;32m~\\PycharmProjects\\intelligent-systems\\venv\\Lib\\site-packages\\numba\\core\\dispatcher.py:471\u001B[0m, in \u001B[0;36m_DispatcherBase._compile_for_args\u001B[1;34m(self, *args, **kws)\u001B[0m\n\u001B[0;32m    468\u001B[0m     error_rewrite(e, \u001B[38;5;124m'\u001B[39m\u001B[38;5;124mtyping\u001B[39m\u001B[38;5;124m'\u001B[39m)\n\u001B[0;32m    469\u001B[0m \u001B[38;5;28;01mexcept\u001B[39;00m errors\u001B[38;5;241m.\u001B[39mUnsupportedError \u001B[38;5;28;01mas\u001B[39;00m e:\n\u001B[0;32m    470\u001B[0m     \u001B[38;5;66;03m# Something unsupported is present in the user code, add help info\u001B[39;00m\n\u001B[1;32m--> 471\u001B[0m     \u001B[43merror_rewrite\u001B[49m\u001B[43m(\u001B[49m\u001B[43me\u001B[49m\u001B[43m,\u001B[49m\u001B[43m \u001B[49m\u001B[38;5;124;43m'\u001B[39;49m\u001B[38;5;124;43munsupported_error\u001B[39;49m\u001B[38;5;124;43m'\u001B[39;49m\u001B[43m)\u001B[49m\n\u001B[0;32m    472\u001B[0m \u001B[38;5;28;01mexcept\u001B[39;00m (errors\u001B[38;5;241m.\u001B[39mNotDefinedError, errors\u001B[38;5;241m.\u001B[39mRedefinedError,\n\u001B[0;32m    473\u001B[0m         errors\u001B[38;5;241m.\u001B[39mVerificationError) \u001B[38;5;28;01mas\u001B[39;00m e:\n\u001B[0;32m    474\u001B[0m     \u001B[38;5;66;03m# These errors are probably from an issue with either the code\u001B[39;00m\n\u001B[0;32m    475\u001B[0m     \u001B[38;5;66;03m# supplied being syntactically or otherwise invalid\u001B[39;00m\n\u001B[0;32m    476\u001B[0m     error_rewrite(e, \u001B[38;5;124m'\u001B[39m\u001B[38;5;124minterpreter\u001B[39m\u001B[38;5;124m'\u001B[39m)\n",
      "File \u001B[1;32m~\\PycharmProjects\\intelligent-systems\\venv\\Lib\\site-packages\\numba\\core\\dispatcher.py:409\u001B[0m, in \u001B[0;36m_DispatcherBase._compile_for_args.<locals>.error_rewrite\u001B[1;34m(e, issue_type)\u001B[0m\n\u001B[0;32m    407\u001B[0m     \u001B[38;5;28;01mraise\u001B[39;00m e\n\u001B[0;32m    408\u001B[0m \u001B[38;5;28;01melse\u001B[39;00m:\n\u001B[1;32m--> 409\u001B[0m     \u001B[38;5;28;01mraise\u001B[39;00m e\u001B[38;5;241m.\u001B[39mwith_traceback(\u001B[38;5;28;01mNone\u001B[39;00m)\n",
      "\u001B[1;31mUnsupportedError\u001B[0m: Failed in nopython mode pipeline (step: analyzing bytecode)\n\u001B[1mUse of unsupported opcode (STORE_GLOBAL) found\n\u001B[1m\nFile \"..\\..\\..\\AppData\\Local\\Temp\\ipykernel_3552\\887309397.py\", line 14:\u001B[0m\n\u001B[1m<source missing, REPL/exec in use?>\u001B[0m\n\u001B[0m"
     ]
    }
   ],
   "source": [
    "tree = get_tree(4, 4)\n",
    "pprint(tree)\n",
    "step_number"
   ],
   "metadata": {
    "collapsed": false,
    "ExecuteTime": {
     "end_time": "2023-09-13T12:08:55.556006100Z",
     "start_time": "2023-09-13T12:08:53.548566300Z"
    }
   },
   "id": "452d258c9c28c7a9"
  },
  {
   "cell_type": "code",
   "execution_count": null,
   "outputs": [],
   "source": [
    "tree[-1][0].size"
   ],
   "metadata": {
    "collapsed": false,
    "ExecuteTime": {
     "end_time": "2023-09-13T12:08:55.561566900Z",
     "start_time": "2023-09-13T12:08:55.558005700Z"
    }
   },
   "id": "fe75ed5a5323e470"
  },
  {
   "cell_type": "code",
   "execution_count": 213,
   "outputs": [
    {
     "data": {
      "text/plain": "(3, 3)"
     },
     "execution_count": 213,
     "metadata": {},
     "output_type": "execute_result"
    }
   ],
   "source": [
    "m = np.matrix(\"1, 2, 3; 4, 0, 6; 7, 8, 5\")\n",
    "# func(np.matrix(\"1, 2; 3, 0\"))\n",
    "height, weight = m.shape\n",
    "height, weight"
   ],
   "metadata": {
    "collapsed": false,
    "ExecuteTime": {
     "end_time": "2023-09-13T12:42:19.147673900Z",
     "start_time": "2023-09-13T12:42:19.140272700Z"
    }
   },
   "id": "981b3933af097eeb"
  },
  {
   "cell_type": "code",
   "execution_count": 214,
   "outputs": [
    {
     "data": {
      "text/plain": "matrix([[1, 2, 3, 4, 0, 6, 7, 8, 5]])"
     },
     "execution_count": 214,
     "metadata": {},
     "output_type": "execute_result"
    }
   ],
   "source": [
    "m.reshape(-1)"
   ],
   "metadata": {
    "collapsed": false,
    "ExecuteTime": {
     "end_time": "2023-09-13T12:42:19.381630800Z",
     "start_time": "2023-09-13T12:42:19.372211700Z"
    }
   },
   "id": "23a8f1f8b21aaae4"
  },
  {
   "cell_type": "code",
   "execution_count": 215,
   "outputs": [
    {
     "data": {
      "text/plain": "matrix([[1, 2, 3],\n        [4, 0, 6],\n        [7, 8, 5]])"
     },
     "execution_count": 215,
     "metadata": {},
     "output_type": "execute_result"
    }
   ],
   "source": [
    "m2 = m.copy()\n",
    "m2"
   ],
   "metadata": {
    "collapsed": false,
    "ExecuteTime": {
     "end_time": "2023-09-13T12:42:19.610545700Z",
     "start_time": "2023-09-13T12:42:19.601448700Z"
    }
   },
   "id": "38d0fa14d18d86be"
  },
  {
   "cell_type": "code",
   "execution_count": 216,
   "outputs": [
    {
     "data": {
      "text/plain": "(matrix([[1, 2, 3],\n         [0, 4, 6],\n         [7, 8, 5]]),\n matrix([[1, 2, 3],\n         [4, 0, 6],\n         [7, 8, 5]]))"
     },
     "execution_count": 216,
     "metadata": {},
     "output_type": "execute_result"
    }
   ],
   "source": [
    "m2[1,1] = m2[1, 0]\n",
    "m2[1, 0] = 0\n",
    "m2, m"
   ],
   "metadata": {
    "collapsed": false,
    "ExecuteTime": {
     "end_time": "2023-09-13T12:42:19.878717400Z",
     "start_time": "2023-09-13T12:42:19.855518700Z"
    }
   },
   "id": "6b7dd3037bd4e64d"
  },
  {
   "cell_type": "code",
   "execution_count": 217,
   "outputs": [
    {
     "data": {
      "text/plain": "(matrix([[1, 2, 3],\n         [0, 4, 4],\n         [7, 8, 5]]),\n matrix([[1, 2, 3],\n         [4, 0, 6],\n         [7, 8, 5]]))"
     },
     "execution_count": 217,
     "metadata": {},
     "output_type": "execute_result"
    }
   ],
   "source": [
    "index = np.argwhere(m == 0).reshape(-1)\n",
    "m1 = m.copy()\n",
    "m1[index] = m1[index[0], index[1] - 1]\n",
    "m1[index[0], index[1] - 1] = 0\n",
    "m1, m"
   ],
   "metadata": {
    "collapsed": false,
    "ExecuteTime": {
     "end_time": "2023-09-13T12:42:20.113690700Z",
     "start_time": "2023-09-13T12:42:20.100541300Z"
    }
   },
   "id": "b53379e8647c7ec9"
  },
  {
   "cell_type": "code",
   "execution_count": 220,
   "outputs": [
    {
     "name": "stdout",
     "output_type": "stream",
     "text": [
      "matrix([[1, 2, 3],\n",
      "        [4, 0, 6],\n",
      "        [7, 8, 5]])\n",
      "matrix([[1, 2, 3],\n",
      "        [0, 4, 6],\n",
      "        [7, 8, 5]])\n",
      "matrix([[1, 0, 3],\n",
      "        [4, 2, 6],\n",
      "        [7, 8, 5]])\n",
      "matrix([[1, 2, 3],\n",
      "        [4, 6, 0],\n",
      "        [7, 8, 5]])\n",
      "matrix([[1, 2, 3],\n",
      "        [4, 8, 6],\n",
      "        [7, 0, 5]])\n"
     ]
    }
   ],
   "source": [
    "matrix = m\n",
    "pprint(matrix)\n",
    "new_matrix = matrix.copy()\n",
    "new_matrix[index[0], index[1]] = new_matrix[index[0], index[1] - 1]\n",
    "new_matrix[index[0], index[1] - 1] = 0\n",
    "pprint(new_matrix)\n",
    "new_matrix = matrix.copy()\n",
    "new_matrix[index[0], index[1]] = new_matrix[index[0] - 1, index[1]]\n",
    "new_matrix[index[0] - 1, index[1]] = 0\n",
    "pprint(new_matrix)\n",
    "new_matrix = matrix.copy()\n",
    "new_matrix[index[0], index[1]] = new_matrix[index[0], index[1] + 1]\n",
    "new_matrix[index[0], index[1] + 1] = 0\n",
    "pprint(new_matrix)\n",
    "new_matrix = matrix.copy()\n",
    "new_matrix[index[0], index[1]] = new_matrix[index[0] + 1, index[1]]\n",
    "new_matrix[index[0] + 1, index[1]] = 0\n",
    "pprint(new_matrix)"
   ],
   "metadata": {
    "collapsed": false,
    "ExecuteTime": {
     "end_time": "2023-09-13T12:43:37.047211100Z",
     "start_time": "2023-09-13T12:43:37.039259600Z"
    }
   },
   "id": "97b25063ba736960"
  },
  {
   "cell_type": "code",
   "execution_count": 224,
   "outputs": [
    {
     "data": {
      "text/plain": "True"
     },
     "execution_count": 224,
     "metadata": {},
     "output_type": "execute_result"
    }
   ],
   "source": [
    "def func(matrix: np.matrix, h: int, current_step: int) -> T:\n",
    "    # height, weight = matrix.shape\n",
    "    f: int = matrix.size - 1\n",
    "    reshaped = matrix.reshape(-1)\n",
    "    for i in range(1, reshaped.size):\n",
    "        if reshaped[int(0), i - 1] == i:\n",
    "            f -= 1\n",
    "    # print(f, h, current_step)\n",
    "    return f, h, current_step\n",
    "\n",
    "def condition_for_exiting(result_of_func: T, h: int, step_number: int):\n",
    "    return True if result_of_func[0] == 0 else False\n",
    "\n",
    "condition_for_exiting(func(np.matrix(\"1, 2; 3, 0\"), 0, 0), None, None)"
   ],
   "metadata": {
    "collapsed": false,
    "ExecuteTime": {
     "end_time": "2023-09-13T12:46:58.554609400Z",
     "start_time": "2023-09-13T12:46:58.548229Z"
    }
   },
   "id": "314b6ed9e0845b14"
  },
  {
   "cell_type": "code",
   "execution_count": 230,
   "outputs": [],
   "source": [
    "m3 = np.matrix(\"1, 2; 3, 0\")\n",
    "m4 = np.matrix(\"1, 2; 3, 0\")"
   ],
   "metadata": {
    "collapsed": false,
    "ExecuteTime": {
     "end_time": "2023-09-13T12:55:42.759272300Z",
     "start_time": "2023-09-13T12:55:42.747376200Z"
    }
   },
   "id": "dc43be88210f9e8e"
  },
  {
   "cell_type": "code",
   "execution_count": 236,
   "outputs": [
    {
     "data": {
      "text/plain": "True"
     },
     "execution_count": 236,
     "metadata": {},
     "output_type": "execute_result"
    }
   ],
   "source": [
    "m3.tobytes() == m4.tobytes()"
   ],
   "metadata": {
    "collapsed": false,
    "ExecuteTime": {
     "end_time": "2023-09-13T12:57:40.929873Z",
     "start_time": "2023-09-13T12:57:40.919827100Z"
    }
   },
   "id": "558454c7651ae2f1"
  },
  {
   "cell_type": "code",
   "execution_count": 232,
   "outputs": [
    {
     "ename": "TypeError",
     "evalue": "unhashable type: 'numpy.ndarray'",
     "output_type": "error",
     "traceback": [
      "\u001B[1;31m---------------------------------------------------------------------------\u001B[0m",
      "\u001B[1;31mTypeError\u001B[0m                                 Traceback (most recent call last)",
      "Cell \u001B[1;32mIn[232], line 1\u001B[0m\n\u001B[1;32m----> 1\u001B[0m \u001B[38;5;28;43mhash\u001B[39;49m\u001B[43m(\u001B[49m\u001B[43mm3\u001B[49m\u001B[43m)\u001B[49m, \u001B[38;5;28mhash\u001B[39m(m4), \u001B[38;5;28mhash\u001B[39m(m3) \u001B[38;5;241m==\u001B[39m \u001B[38;5;28mhash\u001B[39m(m4)\n",
      "\u001B[1;31mTypeError\u001B[0m: unhashable type: 'numpy.ndarray'"
     ]
    }
   ],
   "source": [
    "hash(m3), hash(m4), hash(m3) == hash(m4)"
   ],
   "metadata": {
    "collapsed": false,
    "ExecuteTime": {
     "end_time": "2023-09-13T12:55:43.475370500Z",
     "start_time": "2023-09-13T12:55:43.448491900Z"
    }
   },
   "id": "1c9cb31e69d507f0"
  },
  {
   "cell_type": "code",
   "execution_count": 239,
   "outputs": [
    {
     "data": {
      "text/plain": "int"
     },
     "execution_count": 239,
     "metadata": {},
     "output_type": "execute_result"
    }
   ],
   "source": [
    "type(hash(m3.tobytes()))"
   ],
   "metadata": {
    "collapsed": false,
    "ExecuteTime": {
     "end_time": "2023-09-13T13:25:32.988935500Z",
     "start_time": "2023-09-13T13:25:32.978624400Z"
    }
   },
   "id": "d10882406eb837f8"
  },
  {
   "cell_type": "code",
   "execution_count": 245,
   "outputs": [],
   "source": [
    "mem: memoryview = m3.data"
   ],
   "metadata": {
    "collapsed": false,
    "ExecuteTime": {
     "end_time": "2023-09-13T13:30:44.065090700Z",
     "start_time": "2023-09-13T13:30:44.063071800Z"
    }
   },
   "id": "cb7edb08ea77bafe"
  },
  {
   "cell_type": "code",
   "execution_count": 250,
   "outputs": [
    {
     "data": {
      "text/plain": "memoryview"
     },
     "execution_count": 250,
     "metadata": {},
     "output_type": "execute_result"
    }
   ],
   "source": [
    "mem"
   ],
   "metadata": {
    "collapsed": false,
    "ExecuteTime": {
     "end_time": "2023-09-13T13:32:05.222636Z",
     "start_time": "2023-09-13T13:32:05.214520400Z"
    }
   },
   "id": "1e70fd10e4a8c38a"
  },
  {
   "cell_type": "code",
   "execution_count": null,
   "outputs": [],
   "source": [],
   "metadata": {
    "collapsed": false
   },
   "id": "c04eda84997d2e27"
  }
 ],
 "metadata": {
  "kernelspec": {
   "display_name": "Python 3",
   "language": "python",
   "name": "python3"
  },
  "language_info": {
   "codemirror_mode": {
    "name": "ipython",
    "version": 2
   },
   "file_extension": ".py",
   "mimetype": "text/x-python",
   "name": "python",
   "nbconvert_exporter": "python",
   "pygments_lexer": "ipython2",
   "version": "2.7.6"
  }
 },
 "nbformat": 4,
 "nbformat_minor": 5
}
