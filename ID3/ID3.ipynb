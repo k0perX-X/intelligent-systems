{
 "cells": [
  {
   "cell_type": "code",
   "execution_count": 1,
   "id": "initial_id",
   "metadata": {
    "collapsed": true,
    "ExecuteTime": {
     "end_time": "2023-12-07T20:23:25.290585800Z",
     "start_time": "2023-12-07T20:23:25.285576500Z"
    }
   },
   "outputs": [],
   "source": [
    "import pandas as pd\n",
    "import numpy as np\n",
    "import graphviz\n",
    "from treelib import Node, Tree"
   ]
  },
  {
   "cell_type": "code",
   "execution_count": 2,
   "outputs": [
    {
     "data": {
      "text/plain": "    Outlook Temperature Humidity    Wind Play Tennis\n0     Sunny         Hot     High    Weak          No\n1     Sunny         Hot     High  Strong          No\n2  Overcast         Hot     High    Weak         Yes\n3      Rain        Mild     High    Weak         Yes\n4      Rain        Cool   Normal    Weak         Yes",
      "text/html": "<div>\n<style scoped>\n    .dataframe tbody tr th:only-of-type {\n        vertical-align: middle;\n    }\n\n    .dataframe tbody tr th {\n        vertical-align: top;\n    }\n\n    .dataframe thead th {\n        text-align: right;\n    }\n</style>\n<table border=\"1\" class=\"dataframe\">\n  <thead>\n    <tr style=\"text-align: right;\">\n      <th></th>\n      <th>Outlook</th>\n      <th>Temperature</th>\n      <th>Humidity</th>\n      <th>Wind</th>\n      <th>Play Tennis</th>\n    </tr>\n  </thead>\n  <tbody>\n    <tr>\n      <th>0</th>\n      <td>Sunny</td>\n      <td>Hot</td>\n      <td>High</td>\n      <td>Weak</td>\n      <td>No</td>\n    </tr>\n    <tr>\n      <th>1</th>\n      <td>Sunny</td>\n      <td>Hot</td>\n      <td>High</td>\n      <td>Strong</td>\n      <td>No</td>\n    </tr>\n    <tr>\n      <th>2</th>\n      <td>Overcast</td>\n      <td>Hot</td>\n      <td>High</td>\n      <td>Weak</td>\n      <td>Yes</td>\n    </tr>\n    <tr>\n      <th>3</th>\n      <td>Rain</td>\n      <td>Mild</td>\n      <td>High</td>\n      <td>Weak</td>\n      <td>Yes</td>\n    </tr>\n    <tr>\n      <th>4</th>\n      <td>Rain</td>\n      <td>Cool</td>\n      <td>Normal</td>\n      <td>Weak</td>\n      <td>Yes</td>\n    </tr>\n  </tbody>\n</table>\n</div>"
     },
     "execution_count": 2,
     "metadata": {},
     "output_type": "execute_result"
    }
   ],
   "source": [
    "train_data_m = pd.read_csv(\"PlayTennis.csv\") \n",
    "train_data_m.head() "
   ],
   "metadata": {
    "collapsed": false,
    "ExecuteTime": {
     "end_time": "2023-12-07T20:23:25.306028800Z",
     "start_time": "2023-12-07T20:23:25.289584800Z"
    }
   },
   "id": "6339705b9fd689cb"
  },
  {
   "cell_type": "markdown",
   "source": [
    "```\n",
    "Total row = 14\n",
    "Row with \"Yes\" class = 9\n",
    "Row with \"No\" class = 5\n",
    "Complete entropy of dataset is -\n",
    "H(S) = - p(Yes) * log2(p(Yes)) - p(No) * log2(p(No))\n",
    "     = - (9/14) * log2(9/14) - (5/14) * log2(5/14)\n",
    "     = - (-0.41) - (-0.53)\n",
    "     = 0.94"
   ],
   "metadata": {
    "collapsed": false
   },
   "id": "36d2a6e642ef61c6"
  },
  {
   "cell_type": "code",
   "execution_count": 3,
   "outputs": [],
   "source": [
    "def calc_total_entropy(train_data, label, class_list):\n",
    "    total_row = train_data.shape[0] #the total size of the dataset\n",
    "    total_entr = 0\n",
    "    \n",
    "    for c in class_list: #for each class in the label\n",
    "        total_class_count = train_data[train_data[label] == c].shape[0] #number of the class\n",
    "        total_class_entr = - (total_class_count/total_row)*np.log2(total_class_count/total_row) #entropy of the class\n",
    "        total_entr += total_class_entr #adding the class entropy to the total entropy of the dataset\n",
    "    \n",
    "    return total_entr"
   ],
   "metadata": {
    "collapsed": false,
    "ExecuteTime": {
     "end_time": "2023-12-07T20:23:25.322136500Z",
     "start_time": "2023-12-07T20:23:25.306028800Z"
    }
   },
   "id": "3bc0f2f81eb98904"
  },
  {
   "cell_type": "markdown",
   "source": [
    "```\n",
    "Categorical values of Outlook - Sunny, Overcast and Rain\n",
    "Total count of row containing:\n",
    "  Sunny = 5\n",
    "  Sunny & Yes = 2\n",
    "  Sunny & No = 3\n",
    ">> H(Outlook=Sunny) = -(2/5)*log(2/5)-(3/5)*log(3/5) = 0.971\n",
    "Total count of row containing:  \n",
    "  Rain = 5\n",
    "  Rain & Yes = 3\n",
    "  Rain & No = 2\n",
    ">> H(Outlook=Rain) = -(3/5)*log(3/5)-(2/5)*log(2/5) = 0.971\n",
    "Total count of row containing:  \n",
    "  Overcast = 4\n",
    "  Overcast & Yes = 4\n",
    "  Overcast & No = 0\n",
    ">> H(Outlook=Overcast) = -(4/4)*log(4/4)-0 = 0"
   ],
   "metadata": {
    "collapsed": false
   },
   "id": "5bc6a8dbe47baa11"
  },
  {
   "cell_type": "code",
   "execution_count": 4,
   "outputs": [],
   "source": [
    "def calc_entropy(feature_value_data, label, class_list):\n",
    "    class_count = feature_value_data.shape[0]\n",
    "    entropy = 0\n",
    "    \n",
    "    for c in class_list:\n",
    "        label_class_count = feature_value_data[feature_value_data[label] == c].shape[0] #row count of class c \n",
    "        entropy_class = 0\n",
    "        if label_class_count != 0:\n",
    "            probability_class = label_class_count/class_count #probability of the class\n",
    "            entropy_class = - probability_class * np.log2(probability_class)  #entropy\n",
    "        entropy += entropy_class\n",
    "    return entropy"
   ],
   "metadata": {
    "collapsed": false,
    "ExecuteTime": {
     "end_time": "2023-12-07T20:23:25.322136500Z",
     "start_time": "2023-12-07T20:23:25.312332600Z"
    }
   },
   "id": "1ec3b23fe76bead7"
  },
  {
   "cell_type": "markdown",
   "source": [
    "```\n",
    "I(Outlook) = p(Sunny) * H(Outlook=Sunny) + p(Rain) * H(Outlook=Rain) + p(Overcast) * H(Outlook=Overcast)\n",
    "= (5/14)*0.971 + (5/14)*0.971 + (4/14)*0\n",
    "= 0.693\n",
    "Information Gain = H(S) - I(Outlook)\n",
    "                 = 0.94 - 0.693\n",
    "                 = 0.247"
   ],
   "metadata": {
    "collapsed": false
   },
   "id": "372b656165571896"
  },
  {
   "cell_type": "code",
   "execution_count": 5,
   "outputs": [],
   "source": [
    "def calc_info_gain(feature_name, train_data, label, class_list):\n",
    "    feature_value_list = train_data[feature_name].unique() #unqiue values of the feature\n",
    "    total_row = train_data.shape[0]\n",
    "    feature_info = 0.0\n",
    "    \n",
    "    for feature_value in feature_value_list:\n",
    "        feature_value_data = train_data[train_data[feature_name] == feature_value] #filtering rows with that feature_value\n",
    "        feature_value_count = feature_value_data.shape[0]\n",
    "        feature_value_entropy = calc_entropy(feature_value_data, label, class_list) #calculcating entropy for the feature value\n",
    "        feature_value_probability = feature_value_count/total_row\n",
    "        feature_info += feature_value_probability * feature_value_entropy #calculating information of the feature value\n",
    "        \n",
    "    return calc_total_entropy(train_data, label, class_list) - feature_info #calculating information gain by subtracting"
   ],
   "metadata": {
    "collapsed": false,
    "ExecuteTime": {
     "end_time": "2023-12-07T20:23:25.322136500Z",
     "start_time": "2023-12-07T20:23:25.318624700Z"
    }
   },
   "id": "da731f84a090b0d1"
  },
  {
   "cell_type": "markdown",
   "source": [
    "```\n",
    "Information gain:\n",
    "  Outlook = 0.247 (Highest value)\n",
    "  Temperature = 0.0292\n",
    "  Humidity = 0.153\n",
    "  Wind = 0.048"
   ],
   "metadata": {
    "collapsed": false
   },
   "id": "d2ec6c1558f96e7d"
  },
  {
   "cell_type": "code",
   "execution_count": 6,
   "outputs": [],
   "source": [
    "def find_most_informative_feature(train_data, label, class_list):\n",
    "    feature_list = train_data.columns.drop(label) #finding the feature names in the dataset\n",
    "                                            #N.B. label is not a feature, so dropping it\n",
    "    max_info_gain = -1\n",
    "    max_info_feature = None\n",
    "    \n",
    "    for feature in feature_list:  #for each feature in the dataset\n",
    "        feature_info_gain = calc_info_gain(feature, train_data, label, class_list)\n",
    "        if max_info_gain < feature_info_gain: #selecting feature name with highest information gain\n",
    "            max_info_gain = feature_info_gain\n",
    "            max_info_feature = feature\n",
    "            \n",
    "    return max_info_feature"
   ],
   "metadata": {
    "collapsed": false,
    "ExecuteTime": {
     "end_time": "2023-12-07T20:23:25.365569400Z",
     "start_time": "2023-12-07T20:23:25.323144Z"
    }
   },
   "id": "aae3048b4ca4ca75"
  },
  {
   "cell_type": "code",
   "execution_count": 7,
   "outputs": [],
   "source": [
    "def generate_sub_tree(feature_name, train_data, label, class_list):\n",
    "    feature_value_count_dict = train_data[feature_name].value_counts(sort=False) #dictionary of the count of unqiue feature value\n",
    "    tree = {} #sub tree or node\n",
    "    \n",
    "    for feature_value, count in feature_value_count_dict.items():\n",
    "        feature_value_data = train_data[train_data[feature_name] == feature_value] #dataset with only feature_name = feature_value\n",
    "        \n",
    "        assigned_to_node = False #flag for tracking feature_value is pure class or not\n",
    "        for c in class_list: #for each class\n",
    "            class_count = feature_value_data[feature_value_data[label] == c].shape[0] #count of class c\n",
    "\n",
    "            if class_count == count: #count of (feature_value = count) of class (pure class)\n",
    "                tree[feature_value] = c #adding node to the tree\n",
    "                train_data = train_data[train_data[feature_name] != feature_value] #removing rows with feature_value\n",
    "                assigned_to_node = True\n",
    "        if not assigned_to_node: #not pure class\n",
    "            tree[feature_value] = \"?\" #as feature_value is not a pure class, it should be expanded further, \n",
    "                                      #so the branch is marking with ?\n",
    "            \n",
    "    return tree, train_data"
   ],
   "metadata": {
    "collapsed": false,
    "ExecuteTime": {
     "end_time": "2023-12-07T20:23:25.366726800Z",
     "start_time": "2023-12-07T20:23:25.326387Z"
    }
   },
   "id": "b280a6bef8695593"
  },
  {
   "cell_type": "code",
   "execution_count": 8,
   "outputs": [],
   "source": [
    "def make_tree(root, prev_feature_value, train_data, label, class_list):\n",
    "    if train_data.shape[0] != 0: #if dataset becomes enpty after updating\n",
    "        max_info_feature = find_most_informative_feature(train_data, label, class_list) #most informative feature\n",
    "        tree, train_data = generate_sub_tree(max_info_feature, train_data, label, class_list) #getting tree node and updated dataset\n",
    "        next_root = None\n",
    "        \n",
    "        if prev_feature_value != None: #add to intermediate node of the tree\n",
    "            root[prev_feature_value] = dict()\n",
    "            root[prev_feature_value][max_info_feature] = tree\n",
    "            next_root = root[prev_feature_value][max_info_feature]\n",
    "        else: #add to root of the tree\n",
    "            root[max_info_feature] = tree\n",
    "            next_root = root[max_info_feature]\n",
    "        \n",
    "        for node, branch in list(next_root.items()): #iterating the tree node\n",
    "            if branch == \"?\": #if it is expandable\n",
    "                feature_value_data = train_data[train_data[max_info_feature] == node] #using the updated dataset\n",
    "                make_tree(next_root, node, feature_value_data, label, class_list) #recursive call with updated dataset"
   ],
   "metadata": {
    "collapsed": false,
    "ExecuteTime": {
     "end_time": "2023-12-07T20:23:25.404169600Z",
     "start_time": "2023-12-07T20:23:25.333883700Z"
    }
   },
   "id": "92df6f0d544456ba"
  },
  {
   "cell_type": "code",
   "execution_count": 9,
   "outputs": [],
   "source": [
    "def id3(train_data_m, label):\n",
    "    train_data = train_data_m.copy() #getting a copy of the dataset\n",
    "    tree = {} #tree which will be updated\n",
    "    class_list = train_data[label].unique() #getting unqiue classes of the label\n",
    "    make_tree(tree, None, train_data, label, class_list) #start calling recursion\n",
    "    return tree"
   ],
   "metadata": {
    "collapsed": false,
    "ExecuteTime": {
     "end_time": "2023-12-07T20:23:25.427175900Z",
     "start_time": "2023-12-07T20:23:25.342057700Z"
    }
   },
   "id": "96dacb4c3204ce98"
  },
  {
   "cell_type": "code",
   "execution_count": 10,
   "outputs": [],
   "source": [
    "tree = id3(train_data_m, 'Play Tennis')"
   ],
   "metadata": {
    "collapsed": false,
    "ExecuteTime": {
     "end_time": "2023-12-07T20:23:25.429174800Z",
     "start_time": "2023-12-07T20:23:25.347569700Z"
    }
   },
   "id": "c88b73eec0c675a7"
  },
  {
   "cell_type": "code",
   "execution_count": 11,
   "outputs": [
    {
     "name": "stdout",
     "output_type": "stream",
     "text": [
      "{'Outlook': {'Sunny': {'Humidity': {'High': 'No', 'Normal': 'Yes'}},\n",
      "             'Overcast': 'Yes',\n",
      "             'Rain': {'Wind': {'Weak': 'Yes', 'Strong': 'No'}}}}\n"
     ]
    }
   ],
   "source": [
    "from pprint import pp\n",
    "pp(tree)"
   ],
   "metadata": {
    "collapsed": false,
    "ExecuteTime": {
     "end_time": "2023-12-07T20:23:25.472710400Z",
     "start_time": "2023-12-07T20:23:25.370242800Z"
    }
   },
   "id": "672d1a6ec14f6c3a"
  },
  {
   "cell_type": "code",
   "execution_count": 12,
   "outputs": [],
   "source": [
    "# def create_tree(dict_tree: dict):\n",
    "#     tree = Tree()\n",
    "#     \n",
    "#     def add_node(dict_tree: dict, ids: dict, parent_node = None):\n",
    "#         for key, val in dict_tree.items():\n",
    "#             if key not in ids:\n",
    "#                 ids[key] = 1\n",
    "#             tree.create_node(key, key + str(ids[key]), parent=parent_node)\n",
    "#             ids[key] += 1\n",
    "#             if type(val) == str:\n",
    "#                 if val not in ids:\n",
    "#                     ids[val] = 1\n",
    "#                 tree.create_node(val, val + str(ids[val]), parent=key + str(ids[key] - 1))\n",
    "#                 ids[val] += 1\n",
    "#             elif type(val) == dict:\n",
    "#                 add_node(dict_tree=val, ids=ids, parent_node=key + str(ids[key] - 1))\n",
    "#                 \n",
    "#     add_node(dict_tree, {})\n",
    "#     return tree"
   ],
   "metadata": {
    "collapsed": false
   },
   "id": "8b483e04234d8830"
  },
  {
   "cell_type": "code",
   "execution_count": 178,
   "outputs": [],
   "source": [
    "def create_tree(dict_tree: dict, columns: set):\n",
    "    tree = graphviz.Digraph('tree', engine=\"neato\")  # ['circo', 'dot', 'fdp', 'neato', 'osage', 'patchwork', 'sfdp', 'twopi']\n",
    "    tree.attr(rankdir='LR', size='20,20')\n",
    "    tree.attr('node', shape='rectangle')\n",
    "    \n",
    "    def add_node(dict_tree: dict, ids: dict, parent_node = None):\n",
    "        for key, val in dict_tree.items():\n",
    "            if key not in ids:\n",
    "                ids[key] = 1\n",
    "            tree.node(key + str(ids[key]), key, shape=\"ellipse\" if key in columns else None)\n",
    "            tree.edge(parent_node, key + str(ids[key]), constraint='false')\n",
    "            ids[key] += 1\n",
    "            if type(val) == str:\n",
    "                if val not in ids:\n",
    "                    ids[val] = 1\n",
    "                tree.node(val + str(ids[val]), val, shape=\"egg\")\n",
    "                tree.edge(key + str(ids[key] - 1), val + str(ids[val]))\n",
    "                ids[val] += 1\n",
    "            elif type(val) == dict:\n",
    "                add_node(dict_tree=val, ids=ids, parent_node=key + str(ids[key] - 1))\n",
    "                \n",
    "    ids = {}\n",
    "    for key, val in dict_tree.items():\n",
    "        ids[key] = 1\n",
    "        tree.node(key + str(ids[key] - 1), key, shape=\"ellipse\" if key in columns else None)\n",
    "        add_node(val, ids, key + str(ids[key] - 1))\n",
    "    return tree"
   ],
   "metadata": {
    "collapsed": false,
    "ExecuteTime": {
     "end_time": "2023-12-07T21:03:30.092650Z",
     "start_time": "2023-12-07T21:03:30.081459400Z"
    }
   },
   "id": "203af13af58c7c54"
  },
  {
   "cell_type": "code",
   "execution_count": 179,
   "outputs": [],
   "source": [
    "tree_view = create_tree(tree, columns=set(list(train_data_m.columns)))"
   ],
   "metadata": {
    "collapsed": false,
    "ExecuteTime": {
     "end_time": "2023-12-07T21:03:30.242763700Z",
     "start_time": "2023-12-07T21:03:30.232405800Z"
    }
   },
   "id": "32ca3d65fae38ca3"
  },
  {
   "cell_type": "code",
   "execution_count": 180,
   "outputs": [
    {
     "data": {
      "image/svg+xml": "<?xml version=\"1.0\" encoding=\"UTF-8\" standalone=\"no\"?>\n<!DOCTYPE svg PUBLIC \"-//W3C//DTD SVG 1.1//EN\"\n \"http://www.w3.org/Graphics/SVG/1.1/DTD/svg11.dtd\">\n<!-- Generated by graphviz version 9.0.0 (20230911.1827)\n -->\n<!-- Title: tree Pages: 1 -->\n<svg width=\"433pt\" height=\"622pt\"\n viewBox=\"0.00 0.00 433.08 622.29\" xmlns=\"http://www.w3.org/2000/svg\" xmlns:xlink=\"http://www.w3.org/1999/xlink\">\n<g id=\"graph0\" class=\"graph\" transform=\"scale(1 1) rotate(0) translate(4 618.29)\">\n<title>tree</title>\n<polygon fill=\"white\" stroke=\"none\" points=\"-4,4 -4,-618.29 429.08,-618.29 429.08,4 -4,4\"/>\n<!-- Outlook0 -->\n<g id=\"node1\" class=\"node\">\n<title>Outlook0</title>\n<ellipse fill=\"none\" stroke=\"black\" cx=\"190.37\" cy=\"-307.06\" rx=\"41.08\" ry=\"18\"/>\n<text text-anchor=\"middle\" x=\"190.37\" y=\"-301.64\" font-family=\"Times New Roman,serif\" font-size=\"14.00\">Outlook</text>\n</g>\n<!-- Sunny1 -->\n<g id=\"node2\" class=\"node\">\n<title>Sunny1</title>\n<polygon fill=\"none\" stroke=\"black\" points=\"251.53,-400.81 197.53,-400.81 197.53,-364.81 251.53,-364.81 251.53,-400.81\"/>\n<text text-anchor=\"middle\" x=\"224.53\" y=\"-377.39\" font-family=\"Times New Roman,serif\" font-size=\"14.00\">Sunny</text>\n</g>\n<!-- Outlook0&#45;&gt;Sunny1 -->\n<g id=\"edge1\" class=\"edge\">\n<title>Outlook0&#45;&gt;Sunny1</title>\n<path fill=\"none\" stroke=\"black\" d=\"M198.47,-325.02C202.37,-333.66 207.14,-344.24 211.53,-353.98\"/>\n<polygon fill=\"black\" stroke=\"black\" points=\"208.34,-355.41 215.64,-363.08 214.72,-352.53 208.34,-355.41\"/>\n</g>\n<!-- Overcast1 -->\n<g id=\"node8\" class=\"node\">\n<title>Overcast1</title>\n<polygon fill=\"none\" stroke=\"black\" points=\"139.86,-323.66 73.61,-323.66 73.61,-287.66 139.86,-287.66 139.86,-323.66\"/>\n<text text-anchor=\"middle\" x=\"106.73\" y=\"-300.23\" font-family=\"Times New Roman,serif\" font-size=\"14.00\">Overcast</text>\n</g>\n<!-- Outlook0&#45;&gt;Overcast1 -->\n<g id=\"edge7\" class=\"edge\">\n<title>Outlook0&#45;&gt;Overcast1</title>\n<path fill=\"none\" stroke=\"black\" d=\"M149.04,-306.37C148.95,-306.37 148.86,-306.37 148.77,-306.36\"/>\n<polygon fill=\"black\" stroke=\"black\" points=\"151.77,-302.92 141.72,-306.25 151.66,-309.91 151.77,-302.92\"/>\n</g>\n<!-- Rain1 -->\n<g id=\"node10\" class=\"node\">\n<title>Rain1</title>\n<polygon fill=\"none\" stroke=\"black\" points=\"254.13,-250.52 200.13,-250.52 200.13,-214.52 254.13,-214.52 254.13,-250.52\"/>\n<text text-anchor=\"middle\" x=\"227.13\" y=\"-227.1\" font-family=\"Times New Roman,serif\" font-size=\"14.00\">Rain</text>\n</g>\n<!-- Outlook0&#45;&gt;Rain1 -->\n<g id=\"edge9\" class=\"edge\">\n<title>Outlook0&#45;&gt;Rain1</title>\n<path fill=\"none\" stroke=\"black\" d=\"M199.27,-289.02C203.41,-280.63 208.43,-270.45 213.06,-261.06\"/>\n<polygon fill=\"black\" stroke=\"black\" points=\"216.1,-262.79 217.39,-252.28 209.83,-259.7 216.1,-262.79\"/>\n</g>\n<!-- Humidity1 -->\n<g id=\"node3\" class=\"node\">\n<title>Humidity1</title>\n<ellipse fill=\"none\" stroke=\"black\" cx=\"248.95\" cy=\"-461.3\" rx=\"44.58\" ry=\"18\"/>\n<text text-anchor=\"middle\" x=\"248.95\" y=\"-455.87\" font-family=\"Times New Roman,serif\" font-size=\"14.00\">Humidity</text>\n</g>\n<!-- Sunny1&#45;&gt;Humidity1 -->\n<g id=\"edge2\" class=\"edge\">\n<title>Sunny1&#45;&gt;Humidity1</title>\n<path fill=\"none\" stroke=\"black\" d=\"M230.2,-401.02C233.09,-410.33 236.69,-421.88 239.95,-432.38\"/>\n<polygon fill=\"black\" stroke=\"black\" points=\"236.56,-433.24 242.87,-441.75 243.24,-431.16 236.56,-433.24\"/>\n</g>\n<!-- High1 -->\n<g id=\"node4\" class=\"node\">\n<title>High1</title>\n<polygon fill=\"none\" stroke=\"black\" points=\"351.81,-509.49 297.81,-509.49 297.81,-473.49 351.81,-473.49 351.81,-509.49\"/>\n<text text-anchor=\"middle\" x=\"324.81\" y=\"-486.06\" font-family=\"Times New Roman,serif\" font-size=\"14.00\">High</text>\n</g>\n<!-- Humidity1&#45;&gt;High1 -->\n<g id=\"edge3\" class=\"edge\">\n<title>Humidity1&#45;&gt;High1</title>\n<path fill=\"none\" stroke=\"black\" d=\"M281.12,-474.1C283.1,-474.89 285.09,-475.68 287.08,-476.47\"/>\n<polygon fill=\"black\" stroke=\"black\" points=\"285.63,-479.66 296.21,-480.11 288.21,-473.16 285.63,-479.66\"/>\n</g>\n<!-- Normal1 -->\n<g id=\"node6\" class=\"node\">\n<title>Normal1</title>\n<polygon fill=\"none\" stroke=\"black\" points=\"229.46,-545.5 172.21,-545.5 172.21,-509.5 229.46,-509.5 229.46,-545.5\"/>\n<text text-anchor=\"middle\" x=\"200.83\" y=\"-522.08\" font-family=\"Times New Roman,serif\" font-size=\"14.00\">Normal</text>\n</g>\n<!-- Humidity1&#45;&gt;Normal1 -->\n<g id=\"edge5\" class=\"edge\">\n<title>Humidity1&#45;&gt;Normal1</title>\n<path fill=\"none\" stroke=\"black\" d=\"M236.31,-478.69C231.53,-485.27 225.97,-492.91 220.69,-500.18\"/>\n<polygon fill=\"black\" stroke=\"black\" points=\"218.17,-497.7 215.12,-507.84 223.83,-501.81 218.17,-497.7\"/>\n</g>\n<!-- No1 -->\n<g id=\"node5\" class=\"node\">\n<title>No1</title>\n<polygon fill=\"none\" stroke=\"black\" points=\"391.5,-515.35 393.26,-515.45 395,-515.6 396.72,-515.8 398.4,-516.04 400.05,-516.33 401.65,-516.67 403.2,-517.05 404.69,-517.48 406.12,-517.95 407.48,-518.47 408.77,-519.02 409.97,-519.61 411.1,-520.24 412.15,-520.91 413.1,-521.61 413.97,-522.34 414.74,-523.11 415.43,-523.9 416.01,-524.71 416.51,-525.55 416.91,-526.41 417.21,-527.29 417.43,-528.19 417.55,-529.1 417.58,-530.02 417.53,-530.96 417.39,-531.89 417.17,-532.83 416.87,-533.78 416.49,-534.72 416.04,-535.66 415.53,-536.59 414.95,-537.51 414.31,-538.42 413.61,-539.32 412.86,-540.2 412.05,-541.06 411.21,-541.9 410.32,-542.71 409.39,-543.5 408.43,-544.27 407.44,-545 406.42,-545.7 405.38,-546.37 404.32,-547 403.23,-547.59 402.13,-548.14 401.01,-548.66 399.89,-549.13 398.75,-549.56 397.6,-549.94 396.44,-550.28 395.28,-550.57 394.12,-550.81 392.95,-551.01 391.78,-551.16 390.6,-551.26 389.43,-551.31 388.25,-551.31 387.07,-551.26 385.9,-551.16 384.73,-551.01 383.56,-550.81 382.39,-550.57 381.23,-550.28 380.08,-549.94 378.93,-549.56 377.79,-549.13 376.66,-548.66 375.55,-548.14 374.44,-547.59 373.36,-547 372.29,-546.37 371.25,-545.7 370.23,-545 369.24,-544.27 368.28,-543.5 367.36,-542.71 366.47,-541.9 365.62,-541.06 364.82,-540.2 364.07,-539.32 363.37,-538.42 362.73,-537.51 362.15,-536.59 361.63,-535.66 361.18,-534.72 360.81,-533.78 360.51,-532.83 360.29,-531.89 360.15,-530.96 360.09,-530.02 360.13,-529.1 360.25,-528.19 360.46,-527.29 360.77,-526.41 361.17,-525.55 361.66,-524.71 362.25,-523.9 362.93,-523.11 363.71,-522.34 364.57,-521.61 365.53,-520.91 366.57,-520.24 367.7,-519.61 368.91,-519.02 370.2,-518.47 371.56,-517.95 372.98,-517.48 374.48,-517.05 376.02,-516.67 377.63,-516.33 379.27,-516.04 380.96,-515.8 382.67,-515.6 384.42,-515.45 386.18,-515.35 387.95,-515.31 389.73,-515.31 391.5,-515.35\"/>\n<text text-anchor=\"middle\" x=\"388.84\" y=\"-527.88\" font-family=\"Times New Roman,serif\" font-size=\"14.00\">No</text>\n</g>\n<!-- High1&#45;&gt;No1 -->\n<g id=\"edge4\" class=\"edge\">\n<title>High1&#45;&gt;No1</title>\n<path fill=\"none\" stroke=\"black\" d=\"M351.96,-509.22C353.91,-510.49 355.87,-511.78 357.84,-513.06\"/>\n<polygon fill=\"black\" stroke=\"black\" points=\"355.91,-515.98 366.2,-518.52 359.74,-510.12 355.91,-515.98\"/>\n</g>\n<!-- Yes1 -->\n<g id=\"node7\" class=\"node\">\n<title>Yes1</title>\n<polygon fill=\"none\" stroke=\"black\" points=\"170.43,-578.34 172.19,-578.44 173.93,-578.59 175.65,-578.78 177.34,-579.03 178.98,-579.32 180.58,-579.66 182.13,-580.04 183.62,-580.47 185.05,-580.94 186.41,-581.45 187.7,-582.01 188.91,-582.6 190.03,-583.23 191.08,-583.9 192.03,-584.6 192.9,-585.33 193.68,-586.09 194.36,-586.88 194.94,-587.7 195.44,-588.54 195.84,-589.4 196.14,-590.28 196.36,-591.18 196.48,-592.09 196.51,-593.01 196.46,-593.94 196.32,-594.88 196.1,-595.82 195.8,-596.76 195.42,-597.7 194.98,-598.64 194.46,-599.57 193.88,-600.49 193.24,-601.4 192.54,-602.3 191.79,-603.18 190.99,-604.04 190.14,-604.88 189.25,-605.7 188.33,-606.49 187.37,-607.25 186.37,-607.98 185.36,-608.69 184.31,-609.35 183.25,-609.98 182.16,-610.58 181.06,-611.13 179.95,-611.64 178.82,-612.11 177.68,-612.54 176.53,-612.93 175.38,-613.26 174.22,-613.56 173.05,-613.8 171.88,-614 170.71,-614.14 169.53,-614.24 168.36,-614.29 167.18,-614.29 166.01,-614.24 164.83,-614.14 163.66,-614 162.49,-613.8 161.32,-613.56 160.16,-613.26 159.01,-612.93 157.86,-612.54 156.72,-612.11 155.59,-611.64 154.48,-611.13 153.38,-610.58 152.29,-609.98 151.23,-609.35 150.18,-608.69 149.16,-607.98 148.17,-607.25 147.21,-606.49 146.29,-605.7 145.4,-604.88 144.55,-604.04 143.75,-603.18 143,-602.3 142.3,-601.4 141.66,-600.49 141.08,-599.57 140.56,-598.64 140.12,-597.7 139.74,-596.76 139.44,-595.82 139.22,-594.88 139.08,-593.94 139.03,-593.01 139.06,-592.09 139.18,-591.18 139.39,-590.28 139.7,-589.4 140.1,-588.54 140.59,-587.7 141.18,-586.88 141.86,-586.09 142.64,-585.33 143.51,-584.6 144.46,-583.9 145.5,-583.23 146.63,-582.6 147.84,-582.01 149.13,-581.45 150.49,-580.94 151.92,-580.47 153.41,-580.04 154.96,-579.66 156.56,-579.32 158.2,-579.03 159.89,-578.78 161.61,-578.59 163.35,-578.44 165.11,-578.34 166.88,-578.29 168.66,-578.29 170.43,-578.34\"/>\n<text text-anchor=\"middle\" x=\"167.77\" y=\"-590.87\" font-family=\"Times New Roman,serif\" font-size=\"14.00\">Yes</text>\n</g>\n<!-- Normal1&#45;&gt;Yes1 -->\n<g id=\"edge6\" class=\"edge\">\n<title>Normal1&#45;&gt;Yes1</title>\n<path fill=\"none\" stroke=\"black\" d=\"M191.97,-545.94C188.64,-552.86 184.78,-560.9 181.13,-568.48\"/>\n<polygon fill=\"black\" stroke=\"black\" points=\"178.03,-566.86 176.85,-577.39 184.34,-569.89 178.03,-566.86\"/>\n</g>\n<!-- Yes2 -->\n<g id=\"node9\" class=\"node\">\n<title>Yes2</title>\n<polygon fill=\"none\" stroke=\"black\" points=\"31.4,-286.42 33.16,-286.52 34.91,-286.67 36.62,-286.86 38.31,-287.11 39.96,-287.4 41.56,-287.73 43.11,-288.12 44.6,-288.55 46.02,-289.02 47.38,-289.53 48.67,-290.08 49.88,-290.68 51.01,-291.31 52.05,-291.98 53.01,-292.68 53.87,-293.41 54.65,-294.17 55.33,-294.96 55.92,-295.78 56.41,-296.62 56.81,-297.48 57.12,-298.36 57.33,-299.26 57.45,-300.17 57.49,-301.09 57.43,-302.02 57.29,-302.96 57.07,-303.9 56.77,-304.84 56.4,-305.78 55.95,-306.72 55.43,-307.65 54.85,-308.57 54.21,-309.48 53.51,-310.38 52.76,-311.26 51.96,-312.12 51.11,-312.96 50.23,-313.78 49.3,-314.57 48.34,-315.33 47.35,-316.06 46.33,-316.76 45.29,-317.43 44.22,-318.06 43.14,-318.66 42.04,-319.21 40.92,-319.72 39.79,-320.19 38.65,-320.62 37.51,-321.01 36.35,-321.34 35.19,-321.63 34.02,-321.88 32.85,-322.07 31.68,-322.22 30.51,-322.32 29.33,-322.37 28.16,-322.37 26.98,-322.32 25.81,-322.22 24.63,-322.07 23.46,-321.88 22.3,-321.63 21.14,-321.34 19.98,-321.01 18.83,-320.62 17.7,-320.19 16.57,-319.72 15.45,-319.21 14.35,-318.66 13.27,-318.06 12.2,-317.43 11.16,-316.76 10.14,-316.06 9.15,-315.33 8.19,-314.57 7.26,-313.78 6.37,-312.96 5.53,-312.12 4.73,-311.26 3.97,-310.38 3.28,-309.48 2.63,-308.57 2.05,-307.65 1.54,-306.72 1.09,-305.78 0.71,-304.84 0.41,-303.9 0.19,-302.96 0.05,-302.02 0,-301.09 0.03,-300.17 0.16,-299.26 0.37,-298.36 0.67,-297.48 1.07,-296.62 1.57,-295.78 2.16,-294.96 2.84,-294.17 3.61,-293.41 4.48,-292.68 5.44,-291.98 6.48,-291.31 7.61,-290.68 8.82,-290.08 10.1,-289.53 11.46,-289.02 12.89,-288.55 14.38,-288.12 15.93,-287.73 17.53,-287.4 19.18,-287.11 20.86,-286.86 22.58,-286.67 24.32,-286.52 26.08,-286.42 27.86,-286.37 29.63,-286.37 31.4,-286.42\"/>\n<text text-anchor=\"middle\" x=\"28.74\" y=\"-298.94\" font-family=\"Times New Roman,serif\" font-size=\"14.00\">Yes</text>\n</g>\n<!-- Overcast1&#45;&gt;Yes2 -->\n<g id=\"edge8\" class=\"edge\">\n<title>Overcast1&#45;&gt;Yes2</title>\n<path fill=\"none\" stroke=\"black\" d=\"M73.21,-305.1C71.59,-305.08 69.96,-305.05 68.33,-305.02\"/>\n<polygon fill=\"black\" stroke=\"black\" points=\"68.43,-301.53 58.37,-304.86 68.31,-308.52 68.43,-301.53\"/>\n</g>\n<!-- Wind1 -->\n<g id=\"node11\" class=\"node\">\n<title>Wind1</title>\n<ellipse fill=\"none\" stroke=\"black\" cx=\"254.12\" cy=\"-154.9\" rx=\"31.1\" ry=\"18\"/>\n<text text-anchor=\"middle\" x=\"254.12\" y=\"-149.48\" font-family=\"Times New Roman,serif\" font-size=\"14.00\">Wind</text>\n</g>\n<!-- Rain1&#45;&gt;Wind1 -->\n<g id=\"edge10\" class=\"edge\">\n<title>Rain1&#45;&gt;Wind1</title>\n<path fill=\"none\" stroke=\"black\" d=\"M233.52,-214.13C236.71,-204.98 240.63,-193.71 244.19,-183.46\"/>\n<polygon fill=\"black\" stroke=\"black\" points=\"247.39,-184.92 247.37,-174.33 240.77,-182.62 247.39,-184.92\"/>\n</g>\n<!-- Weak1 -->\n<g id=\"node12\" class=\"node\">\n<title>Weak1</title>\n<polygon fill=\"none\" stroke=\"black\" points=\"235.5,-104.97 181.5,-104.97 181.5,-68.97 235.5,-68.97 235.5,-104.97\"/>\n<text text-anchor=\"middle\" x=\"208.5\" y=\"-81.55\" font-family=\"Times New Roman,serif\" font-size=\"14.00\">Weak</text>\n</g>\n<!-- Wind1&#45;&gt;Weak1 -->\n<g id=\"edge11\" class=\"edge\">\n<title>Wind1&#45;&gt;Weak1</title>\n<path fill=\"none\" stroke=\"black\" d=\"M242.61,-137.76C237.93,-130.8 232.41,-122.57 227.18,-114.79\"/>\n<polygon fill=\"black\" stroke=\"black\" points=\"230.13,-112.91 221.65,-106.56 224.32,-116.81 230.13,-112.91\"/>\n</g>\n<!-- Strong1 -->\n<g id=\"node14\" class=\"node\">\n<title>Strong1</title>\n<polygon fill=\"none\" stroke=\"black\" points=\"357.84,-145.03 303.84,-145.03 303.84,-109.03 357.84,-109.03 357.84,-145.03\"/>\n<text text-anchor=\"middle\" x=\"330.84\" y=\"-121.6\" font-family=\"Times New Roman,serif\" font-size=\"14.00\">Strong</text>\n</g>\n<!-- Wind1&#45;&gt;Strong1 -->\n<g id=\"edge13\" class=\"edge\">\n<title>Wind1&#45;&gt;Strong1</title>\n<path fill=\"none\" stroke=\"black\" d=\"M280.95,-145.15C284.81,-143.75 288.84,-142.29 292.86,-140.83\"/>\n<polygon fill=\"black\" stroke=\"black\" points=\"293.75,-144.23 301.95,-137.53 291.36,-137.65 293.75,-144.23\"/>\n</g>\n<!-- Yes3 -->\n<g id=\"node13\" class=\"node\">\n<title>Yes3</title>\n<polygon fill=\"none\" stroke=\"black\" points=\"178.44,-0.05 180.2,-0.15 181.95,-0.3 183.66,-0.49 185.35,-0.74 187,-1.03 188.6,-1.36 190.14,-1.75 191.64,-2.18 193.06,-2.65 194.42,-3.16 195.71,-3.71 196.92,-4.31 198.05,-4.94 199.09,-5.61 200.05,-6.31 200.91,-7.04 201.69,-7.8 202.37,-8.59 202.96,-9.41 203.45,-10.25 203.85,-11.11 204.16,-11.99 204.37,-12.89 204.49,-13.8 204.53,-14.72 204.47,-15.65 204.33,-16.59 204.11,-17.53 203.81,-18.47 203.44,-19.41 202.99,-20.35 202.47,-21.28 201.89,-22.2 201.25,-23.11 200.55,-24.01 199.8,-24.89 199,-25.75 198.15,-26.59 197.27,-27.41 196.34,-28.2 195.38,-28.96 194.39,-29.69 193.37,-30.39 192.33,-31.06 191.26,-31.69 190.18,-32.29 189.07,-32.84 187.96,-33.35 186.83,-33.82 185.69,-34.25 184.54,-34.64 183.39,-34.97 182.23,-35.26 181.06,-35.51 179.89,-35.7 178.72,-35.85 177.55,-35.95 176.37,-36 175.19,-36 174.02,-35.95 172.84,-35.85 171.67,-35.7 170.5,-35.51 169.34,-35.26 168.18,-34.97 167.02,-34.64 165.87,-34.25 164.73,-33.82 163.61,-33.35 162.49,-32.84 161.39,-32.29 160.31,-31.69 159.24,-31.06 158.2,-30.39 157.18,-29.69 156.19,-28.96 155.23,-28.2 154.3,-27.41 153.41,-26.59 152.57,-25.75 151.77,-24.89 151.01,-24.01 150.32,-23.11 149.67,-22.2 149.09,-21.28 148.58,-20.35 148.13,-19.41 147.75,-18.47 147.45,-17.53 147.23,-16.59 147.09,-15.65 147.04,-14.72 147.07,-13.8 147.19,-12.89 147.41,-11.99 147.71,-11.11 148.11,-10.25 148.61,-9.41 149.2,-8.59 149.88,-7.8 150.65,-7.04 151.52,-6.31 152.47,-5.61 153.52,-4.94 154.65,-4.31 155.86,-3.71 157.14,-3.16 158.5,-2.65 159.93,-2.18 161.42,-1.75 162.97,-1.36 164.57,-1.03 166.22,-0.74 167.9,-0.49 169.62,-0.3 171.36,-0.15 173.12,-0.05 174.89,0 176.67,0 178.44,-0.05\"/>\n<text text-anchor=\"middle\" x=\"175.78\" y=\"-12.57\" font-family=\"Times New Roman,serif\" font-size=\"14.00\">Yes</text>\n</g>\n<!-- Weak1&#45;&gt;Yes3 -->\n<g id=\"edge12\" class=\"edge\">\n<title>Weak1&#45;&gt;Yes3</title>\n<path fill=\"none\" stroke=\"black\" d=\"M199.73,-68.49C196.35,-61.36 192.41,-53.05 188.71,-45.26\"/>\n<polygon fill=\"black\" stroke=\"black\" points=\"192,-44.02 184.55,-36.48 185.67,-47.02 192,-44.02\"/>\n</g>\n<!-- No2 -->\n<g id=\"node15\" class=\"node\">\n<title>No2</title>\n<polygon fill=\"none\" stroke=\"black\" points=\"399,-69.62 400.76,-69.71 402.5,-69.86 404.22,-70.06 405.91,-70.3 407.55,-70.59 409.15,-70.93 410.7,-71.31 412.19,-71.74 413.62,-72.21 414.98,-72.73 416.27,-73.28 417.48,-73.87 418.6,-74.51 419.65,-75.17 420.6,-75.87 421.47,-76.6 422.24,-77.37 422.93,-78.16 423.51,-78.97 424.01,-79.81 424.41,-80.68 424.71,-81.56 424.93,-82.45 425.05,-83.36 425.08,-84.29 425.03,-85.22 424.89,-86.15 424.67,-87.1 424.37,-88.04 423.99,-88.98 423.55,-89.92 423.03,-90.85 422.45,-91.77 421.81,-92.68 421.11,-93.58 420.36,-94.46 419.56,-95.32 418.71,-96.16 417.82,-96.97 416.9,-97.77 415.94,-98.53 414.94,-99.26 413.93,-99.96 412.88,-100.63 411.82,-101.26 410.73,-101.85 409.63,-102.41 408.52,-102.92 407.39,-103.39 406.25,-103.82 405.1,-104.2 403.95,-104.54 402.78,-104.83 401.62,-105.08 400.45,-105.27 399.28,-105.42 398.1,-105.52 396.93,-105.57 395.75,-105.57 394.58,-105.52 393.4,-105.42 392.23,-105.27 391.06,-105.08 389.89,-104.83 388.73,-104.54 387.58,-104.2 386.43,-103.82 385.29,-103.39 384.16,-102.92 383.05,-102.41 381.95,-101.85 380.86,-101.26 379.8,-100.63 378.75,-99.96 377.73,-99.26 376.74,-98.53 375.78,-97.77 374.86,-96.97 373.97,-96.16 373.12,-95.32 372.32,-94.46 371.57,-93.58 370.87,-92.68 370.23,-91.77 369.65,-90.85 369.13,-89.92 368.69,-88.98 368.31,-88.04 368.01,-87.1 367.79,-86.15 367.65,-85.22 367.6,-84.29 367.63,-83.36 367.75,-82.45 367.96,-81.56 368.27,-80.68 368.67,-79.81 369.16,-78.97 369.75,-78.16 370.43,-77.37 371.21,-76.6 372.07,-75.87 373.03,-75.17 374.07,-74.51 375.2,-73.87 376.41,-73.28 377.7,-72.73 379.06,-72.21 380.49,-71.74 381.98,-71.31 383.53,-70.93 385.13,-70.59 386.77,-70.3 388.46,-70.06 390.18,-69.86 391.92,-69.71 393.68,-69.62 395.45,-69.57 397.23,-69.57 399,-69.62\"/>\n<text text-anchor=\"middle\" x=\"396.34\" y=\"-82.14\" font-family=\"Times New Roman,serif\" font-size=\"14.00\">No</text>\n</g>\n<!-- Strong1&#45;&gt;No2 -->\n<g id=\"edge14\" class=\"edge\">\n<title>Strong1&#45;&gt;No2</title>\n<path fill=\"none\" stroke=\"black\" d=\"M358.24,-110.52C361.2,-108.74 364.21,-106.92 367.19,-105.13\"/>\n<polygon fill=\"black\" stroke=\"black\" points=\"368.96,-108.15 375.72,-99.99 365.35,-102.15 368.96,-108.15\"/>\n</g>\n</g>\n</svg>\n",
      "text/plain": "<graphviz.graphs.Digraph at 0x2539a3912d0>"
     },
     "execution_count": 180,
     "metadata": {},
     "output_type": "execute_result"
    }
   ],
   "source": [
    "tree_view"
   ],
   "metadata": {
    "collapsed": false,
    "ExecuteTime": {
     "end_time": "2023-12-07T21:03:30.450578700Z",
     "start_time": "2023-12-07T21:03:30.409360700Z"
    }
   },
   "id": "1a1d0aaada46f346"
  },
  {
   "cell_type": "code",
   "execution_count": 136,
   "outputs": [],
   "source": [
    "def predict(tree, instance):\n",
    "    if not isinstance(tree, dict): #if it is leaf node\n",
    "        return tree #return the value\n",
    "    else:\n",
    "        root_node = next(iter(tree)) #getting first key/feature name of the dictionary\n",
    "        feature_value = instance[root_node] #value of the feature\n",
    "        if feature_value in tree[root_node]: #checking the feature value in current tree node\n",
    "            return predict(tree[root_node][feature_value], instance) #goto next feature\n",
    "        else:\n",
    "            return None"
   ],
   "metadata": {
    "collapsed": false,
    "ExecuteTime": {
     "end_time": "2023-12-07T20:55:28.086449200Z",
     "start_time": "2023-12-07T20:55:28.080190800Z"
    }
   },
   "id": "e42398a9e35730ad"
  },
  {
   "cell_type": "code",
   "execution_count": 106,
   "outputs": [],
   "source": [
    "def evaluate(tree, test_data_m, label):\n",
    "    correct_preditct = 0\n",
    "    wrong_preditct = 0\n",
    "    for index, row in test_data_m.iterrows(): #for each row in the dataset\n",
    "        result = predict(tree, test_data_m.iloc[index]) #predict the row\n",
    "        if result == test_data_m[label].iloc[index]: #predicted value and expected value is same or not\n",
    "            correct_preditct += 1 #increase correct count\n",
    "        else:\n",
    "            wrong_preditct += 1 #increase incorrect count\n",
    "    accuracy = correct_preditct / (correct_preditct + wrong_preditct) #calculating accuracy\n",
    "    return accuracy"
   ],
   "metadata": {
    "collapsed": false,
    "ExecuteTime": {
     "end_time": "2023-12-07T20:51:52.540533100Z",
     "start_time": "2023-12-07T20:51:52.533019300Z"
    }
   },
   "id": "802c29d4b266b151"
  },
  {
   "cell_type": "code",
   "execution_count": 18,
   "outputs": [],
   "source": [
    "test_data_m = pd.read_csv(\"PlayTennis.csv\") #importing test dataset into dataframe\n",
    "\n",
    "accuracy = evaluate(tree, test_data_m, 'Play Tennis') #evaluating the test dataset"
   ],
   "metadata": {
    "collapsed": false,
    "ExecuteTime": {
     "end_time": "2023-12-07T20:23:25.667129900Z",
     "start_time": "2023-12-07T20:23:25.619924300Z"
    }
   },
   "id": "6580111346ef92b4"
  },
  {
   "cell_type": "code",
   "execution_count": 19,
   "outputs": [
    {
     "data": {
      "text/plain": "1.0"
     },
     "execution_count": 19,
     "metadata": {},
     "output_type": "execute_result"
    }
   ],
   "source": [
    "accuracy"
   ],
   "metadata": {
    "collapsed": false,
    "ExecuteTime": {
     "end_time": "2023-12-07T20:23:25.668128800Z",
     "start_time": "2023-12-07T20:23:25.626576400Z"
    }
   },
   "id": "7483472854f02630"
  },
  {
   "cell_type": "code",
   "execution_count": 19,
   "outputs": [],
   "source": [],
   "metadata": {
    "collapsed": false,
    "ExecuteTime": {
     "end_time": "2023-12-07T20:23:25.669131300Z",
     "start_time": "2023-12-07T20:23:25.633087400Z"
    }
   },
   "id": "a80e3aa05376c193"
  }
 ],
 "metadata": {
  "kernelspec": {
   "display_name": "Python 3",
   "language": "python",
   "name": "python3"
  },
  "language_info": {
   "codemirror_mode": {
    "name": "ipython",
    "version": 2
   },
   "file_extension": ".py",
   "mimetype": "text/x-python",
   "name": "python",
   "nbconvert_exporter": "python",
   "pygments_lexer": "ipython2",
   "version": "2.7.6"
  }
 },
 "nbformat": 4,
 "nbformat_minor": 5
}
