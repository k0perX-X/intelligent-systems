{
 "cells": [
  {
   "cell_type": "code",
   "execution_count": 1,
   "id": "initial_id",
   "metadata": {
    "collapsed": true,
    "ExecuteTime": {
     "end_time": "2023-12-07T16:03:42.319614100Z",
     "start_time": "2023-12-07T16:03:42.309167Z"
    }
   },
   "outputs": [
    {
     "name": "stdout",
     "output_type": "stream",
     "text": [
      "3000\n"
     ]
    }
   ],
   "source": [
    "import calculator\n",
    "import numpy as np\n",
    "from importlib import reload\n",
    "import seaborn as sns\n",
    "import matplotlib.pyplot as plt\n",
    "from pprint import pp, pprint\n",
    "from random import randint\n",
    "import sys\n",
    "\n",
    "print(sys.getrecursionlimit())\n",
    "\n",
    "calculator = reload(calculator)\n",
    "Expert = calculator.Expert"
   ]
  },
  {
   "cell_type": "code",
   "execution_count": 2,
   "outputs": [
    {
     "data": {
      "text/plain": "(10, 7)"
     },
     "execution_count": 2,
     "metadata": {},
     "output_type": "execute_result"
    }
   ],
   "source": [
    "# matrix = np.matrix(np.array([\n",
    "#     [1,1,1,0,1,0], # птица\n",
    "#     [1,1,0,1,0,1], # самолет\n",
    "#     [1,1,0,0,0,0], # планер\n",
    "# ])).T\n",
    "\n",
    "# транспорт\n",
    "properties = [\n",
    "    \"общественность\", \"электрический\", \"быстрее 50км\\ч\", \"для одного человека\", \"есть шины\", \"применяется военными\",\n",
    "    \"с ДВС\", \"надземный\", \"подземный\", \"городской\"\n",
    "]\n",
    "classes = [\n",
    "    \"самолет\", \n",
    "    \"трамвай\", \n",
    "    \"автобус\", \n",
    "    \"машина\", \n",
    "    \"городской самокат\", \n",
    "    # \"монорельс\", \n",
    "    \"тепловоз\", \n",
    "    # \"электричка\", \n",
    "    \"танк\",\n",
    "    # \"метро\"\n",
    "]\n",
    "matrix = np.matrix(np.array([\n",
    "    [1, 0, 1, 0, 1, 1, 0, 0, 0, 0],  # самолет\n",
    "    [1, 1, 1, 0, 0, 0, 0, 1, 1, 1],  # трамвай\n",
    "    [1, 1, 1, 0, 1, 1, 1, 1, 0, 1],  # автобус\n",
    "    [0, 1, 1, 0, 1, 1, 1, 1, 0, 1],  # машина\n",
    "    [1, 1, 0, 1, 1, 0, 0, 1, 0, 1],  # городской самокат\n",
    "    # [1, 1, 1, 0, 1, 0, 0, 1, 0, 1],  # монорельс\n",
    "    [0, 0, 1, 0, 0, 1, 1, 1, 0, 0],  # тепловоз\n",
    "    # [1, 1, 1, 0, 0, 0, 0, 1, 1, 0],  # электричка\n",
    "    [0, 0, 0, 0, 0, 1, 1, 1, 0, 0],  # танк\n",
    "    # [1, 1, 1, 0, 0, 0, 0, 1, 1, 1],  # метро\n",
    "])).T\n",
    "for i, val1 in enumerate(classes):\n",
    "    for j, val2 in enumerate(classes):\n",
    "        if j > i:\n",
    "            if np.all(matrix[:, i] == matrix[:, j]):\n",
    "                print(val1, val2)\n",
    "matrix.shape"
   ],
   "metadata": {
    "collapsed": false,
    "ExecuteTime": {
     "end_time": "2023-12-07T16:03:42.329566500Z",
     "start_time": "2023-12-07T16:03:42.321618900Z"
    }
   },
   "id": "adc6c1e5b1302291"
  },
  {
   "cell_type": "code",
   "execution_count": 3,
   "outputs": [
    {
     "data": {
      "text/plain": "matrix([[-2., -2., -2., -4., -2., -4., -4.],\n        [-4., -2., -2., -2., -2., -4., -4.],\n        [-3., -3., -3., -3., -5., -3., -5.],\n        [-1., -1., -1., -1.,  1., -1., -1.],\n        [-2., -4., -2., -2., -2., -4., -4.],\n        [-3., -5., -3., -3., -5., -3., -3.],\n        [-4., -4., -2., -2., -4., -2., -2.],\n        [-6., -4., -4., -4., -4., -4., -4.],\n        [-1.,  1., -1., -1., -1., -1., -1.],\n        [-4., -2., -2., -2., -2., -4., -4.]])"
     },
     "execution_count": 3,
     "metadata": {},
     "output_type": "execute_result"
    }
   ],
   "source": [
    "prediction_matrices = []\n",
    "ex = Expert(matrix)\n",
    "ex.train(lambda x: prediction_matrices.append(x.prediction_matrix.copy()))\n",
    "ex.prediction_matrix"
   ],
   "metadata": {
    "collapsed": false,
    "ExecuteTime": {
     "end_time": "2023-12-07T16:03:42.340706100Z",
     "start_time": "2023-12-07T16:03:42.328565800Z"
    }
   },
   "id": "13c6d43b4a277d48"
  },
  {
   "cell_type": "code",
   "execution_count": 4,
   "outputs": [
    {
     "name": "stdout",
     "output_type": "stream",
     "text": [
      "[(array([0, 2]), array([-10., -14., -10., -12., -14., -14., -16.])),\n",
      " (array([1]), array([-20., -12., -14., -16., -16., -20., -22.])),\n",
      " (array([2]), array([-28., -26., -20., -22., -26., -28., -30.])),\n",
      " (array([2, 3]), array([-26., -24., -18., -18., -24., -24., -26.])),\n",
      " (array([4]), array([-19., -15., -13., -15., -11., -21., -21.])),\n",
      " (array([2, 3, 5]), array([-16., -16., -12., -12., -18., -12., -14.])),\n",
      " (array([2, 3, 5, 6]), array([-13., -13.,  -9.,  -9., -13.,  -9.,  -9.]))]\n"
     ]
    }
   ],
   "source": [
    "def get_prediction_list(ex) -> list:\n",
    "    predictions = []\n",
    "    for i, val in [(i, matrix[:, i]) for i in range(matrix.shape[1])]:\n",
    "        predict: np.ndarray = ex.predict(val)\n",
    "        max_value = np.max(predict)\n",
    "        predictions.append((np.arange(predict.size)[predict == max_value], predict))\n",
    "    return predictions\n",
    "\n",
    "\n",
    "pprint(get_prediction_list(ex))"
   ],
   "metadata": {
    "collapsed": false,
    "ExecuteTime": {
     "end_time": "2023-12-07T16:03:42.342716700Z",
     "start_time": "2023-12-07T16:03:42.336629200Z"
    }
   },
   "id": "fb5fd7aaa16c0c9d"
  },
  {
   "cell_type": "code",
   "execution_count": 5,
   "outputs": [],
   "source": [
    "def get_accuracy(prediction_matrix: np.matrix):\n",
    "    old_prediction_matrix = ex.prediction_matrix\n",
    "    ex.prediction_matrix = prediction_matrix\n",
    "    prediction = get_prediction_list(ex)\n",
    "    accuracy1, accuracy2 = [], []\n",
    "    for i, predict_tuple in enumerate(prediction):\n",
    "        accuracy1.append(0 if i not in predict_tuple[0] else 1)\n",
    "        accuracy2.append(0 if i not in predict_tuple[0] else 1 / len(predict_tuple[0]))\n",
    "    ex.prediction_matrix = old_prediction_matrix\n",
    "    return sum(accuracy1), sum(accuracy2)"
   ],
   "metadata": {
    "collapsed": false,
    "ExecuteTime": {
     "end_time": "2023-12-07T16:03:42.357897300Z",
     "start_time": "2023-12-07T16:03:42.342716700Z"
    }
   },
   "id": "9a29fb72ac58047"
  },
  {
   "cell_type": "code",
   "execution_count": 6,
   "outputs": [
    {
     "data": {
      "text/plain": "[<matplotlib.lines.Line2D at 0x1cb75e960d0>]"
     },
     "execution_count": 6,
     "metadata": {},
     "output_type": "execute_result"
    },
    {
     "data": {
      "text/plain": "<Figure size 640x480 with 1 Axes>",
      "image/png": "[encoded data removed]"
     },
     "metadata": {},
     "output_type": "display_data"
    },
    {
     "data": {
      "text/plain": "<Figure size 20000x20000 with 0 Axes>"
     },
     "metadata": {},
     "output_type": "display_data"
    }
   ],
   "source": [
    "fig, ax1 = plt.subplots()\n",
    "plt.figure(figsize=(200, 200))\n",
    "\n",
    "ax1.plot(np.arange(len(prediction_matrices)), list(map(lambda x: get_accuracy(x)[0], prediction_matrices)))\n",
    "ax1.plot(np.arange(len(prediction_matrices)), list(map(lambda x: get_accuracy(x)[1], prediction_matrices)))"
   ],
   "metadata": {
    "collapsed": false,
    "ExecuteTime": {
     "end_time": "2023-12-07T16:03:43.425431300Z",
     "start_time": "2023-12-07T16:03:42.348896300Z"
    }
   },
   "id": "8138a7f4ea23f21a"
  },
  {
   "cell_type": "code",
   "execution_count": 7,
   "outputs": [],
   "source": [
    "prediction_matrix_old = ex.prediction_matrix\n",
    "prediction_matrices_old = prediction_matrices.copy()"
   ],
   "metadata": {
    "collapsed": false,
    "ExecuteTime": {
     "end_time": "2023-12-07T16:03:43.436781400Z",
     "start_time": "2023-12-07T16:03:43.425431300Z"
    }
   },
   "id": "56e6519f3840eef6"
  },
  {
   "cell_type": "code",
   "execution_count": 8,
   "outputs": [
    {
     "data": {
      "text/plain": "(['трамвай'], array([-20., -12., -14., -16., -16., -20., -22.]))"
     },
     "execution_count": 8,
     "metadata": {},
     "output_type": "execute_result"
    }
   ],
   "source": [
    "predict: np.ndarray = ex.predict(np.matrix([1, 1, 1, 0, 0, 0, 0, 1, 1, 1]).T)  # метро \n",
    "max_value = np.max(predict)\n",
    "list(map(lambda x: classes[x], np.arange(predict.size)[predict == max_value])), predict"
   ],
   "metadata": {
    "collapsed": false,
    "ExecuteTime": {
     "end_time": "2023-12-07T16:03:43.437781400Z",
     "start_time": "2023-12-07T16:03:43.431570400Z"
    }
   },
   "id": "a8b25c1356a569b2"
  },
  {
   "cell_type": "code",
   "execution_count": 9,
   "outputs": [],
   "source": [
    "for i in range(100):\n",
    "    column = randint(0, matrix.shape[1] - 1)\n",
    "    ex._train_on_class(matrix[:, column], column, lambda x: prediction_matrices.append(x.prediction_matrix.copy()))"
   ],
   "metadata": {
    "collapsed": false,
    "ExecuteTime": {
     "end_time": "2023-12-07T16:03:43.455045800Z",
     "start_time": "2023-12-07T16:03:43.437781400Z"
    }
   },
   "id": "d81759910416e3f4"
  },
  {
   "cell_type": "code",
   "execution_count": 10,
   "outputs": [
    {
     "data": {
      "text/plain": "[<matplotlib.lines.Line2D at 0x1cbd7a4aa90>]"
     },
     "execution_count": 10,
     "metadata": {},
     "output_type": "execute_result"
    },
    {
     "data": {
      "text/plain": "<Figure size 640x480 with 1 Axes>",
      "image/png": "[encoded data removed]"
     },
     "metadata": {},
     "output_type": "display_data"
    },
    {
     "data": {
      "text/plain": "<Figure size 20000x20000 with 0 Axes>"
     },
     "metadata": {},
     "output_type": "display_data"
    }
   ],
   "source": [
    "fig, ax1 = plt.subplots()\n",
    "plt.figure(figsize=(200, 200))\n",
    "\n",
    "ax1.plot(np.arange(len(prediction_matrices)), list(map(lambda x: get_accuracy(x)[0], prediction_matrices)))\n",
    "ax1.plot(np.arange(len(prediction_matrices)), list(map(lambda x: get_accuracy(x)[1], prediction_matrices)))"
   ],
   "metadata": {
    "collapsed": false,
    "ExecuteTime": {
     "end_time": "2023-12-07T16:03:44.514411700Z",
     "start_time": "2023-12-07T16:03:43.448955700Z"
    }
   },
   "id": "2eba847e935cf2db"
  },
  {
   "cell_type": "code",
   "execution_count": 11,
   "outputs": [
    {
     "data": {
      "text/plain": "(['трамвай'], array([-281., -145., -209., -245., -277., -277., -311.]))"
     },
     "execution_count": 11,
     "metadata": {},
     "output_type": "execute_result"
    }
   ],
   "source": [
    "predict: np.ndarray = ex.predict(np.matrix([1, 1, 1, 0, 0, 0, 0, 1, 1, 1]).T)  # метро \n",
    "max_value = np.max(predict)\n",
    "list(map(lambda x: classes[x], np.arange(predict.size)[predict == max_value])), predict"
   ],
   "metadata": {
    "collapsed": false,
    "ExecuteTime": {
     "end_time": "2023-12-07T16:03:44.525566500Z",
     "start_time": "2023-12-07T16:03:44.515411400Z"
    }
   },
   "id": "2fdebb2f5d3d11a2"
  },
  {
   "cell_type": "code",
   "execution_count": 12,
   "outputs": [],
   "source": [
    "def get_path(acc, prediction_matrices, path, level=0, the_same=0):\n",
    "    old_accuracy = get_accuracy(prediction_matrices_old[-1])[acc]\n",
    "    if level >= 1000 or the_same >= 100:\n",
    "        return old_accuracy, path, prediction_matrices\n",
    "    new_accuracies = []\n",
    "    new_prediction_matrices = []\n",
    "    for i, val in [(i, matrix[:, i]) for i in range(matrix.shape[1])]:\n",
    "        ex.prediction_matrix = prediction_matrices_old[-1]\n",
    "        ex._train_on_class(val, i)\n",
    "        new_accuracies.append(get_accuracy(ex.prediction_matrix)[acc])\n",
    "        new_prediction_matrices.append(ex.prediction_matrix)\n",
    "    if max(new_accuracies) <= old_accuracy:\n",
    "        return old_accuracy, path, prediction_matrices\n",
    "    max_value = np.max(new_accuracies)\n",
    "    argmaxs = np.arange(len(new_accuracies))[new_accuracies == max_value]\n",
    "    return max(\n",
    "        [get_path(acc, prediction_matrices + [new_prediction_matrices[argmax]], path + [argmax], level + 1,\n",
    "                  the_same + 1 if path[-1] == argmaxs else 0)\n",
    "         for argmax in argmaxs], key=lambda x: x[0])\n",
    "\n",
    "\n",
    "accuracy, path, prediction_matrices = get_path(1, prediction_matrices_old.copy(), [i for i in range(matrix.shape[1])])"
   ],
   "metadata": {
    "collapsed": false,
    "ExecuteTime": {
     "end_time": "2023-12-07T16:03:44.540803400Z",
     "start_time": "2023-12-07T16:03:44.526565400Z"
    }
   },
   "id": "4f989d26c24b4318"
  },
  {
   "cell_type": "code",
   "execution_count": 13,
   "outputs": [
    {
     "data": {
      "text/plain": "4.583333333333333"
     },
     "execution_count": 13,
     "metadata": {},
     "output_type": "execute_result"
    }
   ],
   "source": [
    "accuracy"
   ],
   "metadata": {
    "collapsed": false,
    "ExecuteTime": {
     "end_time": "2023-12-07T16:03:44.540803400Z",
     "start_time": "2023-12-07T16:03:44.534107500Z"
    }
   },
   "id": "af9bb7678acb3133"
  },
  {
   "cell_type": "code",
   "execution_count": 14,
   "outputs": [
    {
     "data": {
      "text/plain": "[0, 1, 2, 3, 4, 5, 6]"
     },
     "execution_count": 14,
     "metadata": {},
     "output_type": "execute_result"
    }
   ],
   "source": [
    "path"
   ],
   "metadata": {
    "collapsed": false,
    "ExecuteTime": {
     "end_time": "2023-12-07T16:03:44.555026600Z",
     "start_time": "2023-12-07T16:03:44.539807600Z"
    }
   },
   "id": "bcde6050fb222e87"
  },
  {
   "cell_type": "code",
   "execution_count": 15,
   "outputs": [
    {
     "data": {
      "text/plain": "[<matplotlib.lines.Line2D at 0x1cbd7ab7d50>]"
     },
     "execution_count": 15,
     "metadata": {},
     "output_type": "execute_result"
    },
    {
     "data": {
      "text/plain": "<Figure size 640x480 with 1 Axes>",
      "image/png": "[encoded data removed]"
     },
     "metadata": {},
     "output_type": "display_data"
    },
    {
     "data": {
      "text/plain": "<Figure size 20000x20000 with 0 Axes>"
     },
     "metadata": {},
     "output_type": "display_data"
    }
   ],
   "source": [
    "fig, ax1 = plt.subplots()\n",
    "plt.figure(figsize=(200, 200))\n",
    "\n",
    "ax1.plot(np.arange(len(prediction_matrices)), list(map(lambda x: get_accuracy(x)[0], prediction_matrices)))\n",
    "ax1.plot(np.arange(len(prediction_matrices)), list(map(lambda x: get_accuracy(x)[1], prediction_matrices)))"
   ],
   "metadata": {
    "collapsed": false,
    "ExecuteTime": {
     "end_time": "2023-12-07T16:03:45.699766200Z",
     "start_time": "2023-12-07T16:03:44.547029Z"
    }
   },
   "id": "e03440e05a75a9e6"
  },
  {
   "cell_type": "code",
   "execution_count": 15,
   "outputs": [],
   "source": [],
   "metadata": {
    "collapsed": false,
    "ExecuteTime": {
     "end_time": "2023-12-07T16:03:45.711046600Z",
     "start_time": "2023-12-07T16:03:45.702040900Z"
    }
   },
   "id": "f5b68cebd1b2fbae"
  }
 ],
 "metadata": {
  "kernelspec": {
   "display_name": "Python 3",
   "language": "python",
   "name": "python3"
  },
  "language_info": {
   "codemirror_mode": {
    "name": "ipython",
    "version": 2
   },
   "file_extension": ".py",
   "mimetype": "text/x-python",
   "name": "python",
   "nbconvert_exporter": "python",
   "pygments_lexer": "ipython2",
   "version": "2.7.6"
  }
 },
 "nbformat": 4,
 "nbformat_minor": 5
}
