{
 "cells": [
  {
   "cell_type": "code",
   "execution_count": 56,
   "id": "initial_id",
   "metadata": {
    "collapsed": true,
    "ExecuteTime": {
     "end_time": "2023-12-16T13:05:49.036758400Z",
     "start_time": "2023-12-16T13:05:49.012350100Z"
    }
   },
   "outputs": [],
   "source": [
    "import tensorflow as tf\n",
    "import numpy as np\n",
    "import matplotlib.pyplot as plt\n"
   ]
  },
  {
   "cell_type": "code",
   "execution_count": 57,
   "outputs": [
    {
     "data": {
      "text/plain": "\u001B[1mModel: \"sequential_10\"\u001B[0m\n",
      "text/html": "<pre style=\"white-space:pre;overflow-x:auto;line-height:normal;font-family:Menlo,'DejaVu Sans Mono',consolas,'Courier New',monospace\"><span style=\"font-weight: bold\">Model: \"sequential_10\"</span>\n</pre>\n"
     },
     "metadata": {},
     "output_type": "display_data"
    },
    {
     "data": {
      "text/plain": "┏━━━━━━━━━━━━━━━━━━━━━━━━━━━━━━━━━┳━━━━━━━━━━━━━━━━━━━━━━━━━━━┳━━━━━━━━━━━━┓\n┃\u001B[1m \u001B[0m\u001B[1mLayer (type)                   \u001B[0m\u001B[1m \u001B[0m┃\u001B[1m \u001B[0m\u001B[1mOutput Shape             \u001B[0m\u001B[1m \u001B[0m┃\u001B[1m \u001B[0m\u001B[1m   Param #\u001B[0m\u001B[1m \u001B[0m┃\n┡━━━━━━━━━━━━━━━━━━━━━━━━━━━━━━━━━╇━━━━━━━━━━━━━━━━━━━━━━━━━━━╇━━━━━━━━━━━━┩\n│ hidden_layer_1 (\u001B[38;5;33mDense\u001B[0m)          │ (\u001B[38;5;45mNone\u001B[0m, \u001B[38;5;34m2\u001B[0m)                 │          \u001B[38;5;34m6\u001B[0m │\n├─────────────────────────────────┼───────────────────────────┼────────────┤\n│ dense_8 (\u001B[38;5;33mDense\u001B[0m)                 │ (\u001B[38;5;45mNone\u001B[0m, \u001B[38;5;34m1\u001B[0m)                 │          \u001B[38;5;34m3\u001B[0m │\n└─────────────────────────────────┴───────────────────────────┴────────────┘\n",
      "text/html": "<pre style=\"white-space:pre;overflow-x:auto;line-height:normal;font-family:Menlo,'DejaVu Sans Mono',consolas,'Courier New',monospace\">┏━━━━━━━━━━━━━━━━━━━━━━━━━━━━━━━━━┳━━━━━━━━━━━━━━━━━━━━━━━━━━━┳━━━━━━━━━━━━┓\n┃<span style=\"font-weight: bold\"> Layer (type)                    </span>┃<span style=\"font-weight: bold\"> Output Shape              </span>┃<span style=\"font-weight: bold\">    Param # </span>┃\n┡━━━━━━━━━━━━━━━━━━━━━━━━━━━━━━━━━╇━━━━━━━━━━━━━━━━━━━━━━━━━━━╇━━━━━━━━━━━━┩\n│ hidden_layer_1 (<span style=\"color: #0087ff; text-decoration-color: #0087ff\">Dense</span>)          │ (<span style=\"color: #00d7ff; text-decoration-color: #00d7ff\">None</span>, <span style=\"color: #00af00; text-decoration-color: #00af00\">2</span>)                 │          <span style=\"color: #00af00; text-decoration-color: #00af00\">6</span> │\n├─────────────────────────────────┼───────────────────────────┼────────────┤\n│ dense_8 (<span style=\"color: #0087ff; text-decoration-color: #0087ff\">Dense</span>)                 │ (<span style=\"color: #00d7ff; text-decoration-color: #00d7ff\">None</span>, <span style=\"color: #00af00; text-decoration-color: #00af00\">1</span>)                 │          <span style=\"color: #00af00; text-decoration-color: #00af00\">3</span> │\n└─────────────────────────────────┴───────────────────────────┴────────────┘\n</pre>\n"
     },
     "metadata": {},
     "output_type": "display_data"
    },
    {
     "data": {
      "text/plain": "\u001B[1m Total params: \u001B[0m\u001B[38;5;34m9\u001B[0m (36.00 B)\n",
      "text/html": "<pre style=\"white-space:pre;overflow-x:auto;line-height:normal;font-family:Menlo,'DejaVu Sans Mono',consolas,'Courier New',monospace\"><span style=\"font-weight: bold\"> Total params: </span><span style=\"color: #00af00; text-decoration-color: #00af00\">9</span> (36.00 B)\n</pre>\n"
     },
     "metadata": {},
     "output_type": "display_data"
    },
    {
     "data": {
      "text/plain": "\u001B[1m Trainable params: \u001B[0m\u001B[38;5;34m9\u001B[0m (36.00 B)\n",
      "text/html": "<pre style=\"white-space:pre;overflow-x:auto;line-height:normal;font-family:Menlo,'DejaVu Sans Mono',consolas,'Courier New',monospace\"><span style=\"font-weight: bold\"> Trainable params: </span><span style=\"color: #00af00; text-decoration-color: #00af00\">9</span> (36.00 B)\n</pre>\n"
     },
     "metadata": {},
     "output_type": "display_data"
    },
    {
     "data": {
      "text/plain": "\u001B[1m Non-trainable params: \u001B[0m\u001B[38;5;34m0\u001B[0m (0.00 B)\n",
      "text/html": "<pre style=\"white-space:pre;overflow-x:auto;line-height:normal;font-family:Menlo,'DejaVu Sans Mono',consolas,'Courier New',monospace\"><span style=\"font-weight: bold\"> Non-trainable params: </span><span style=\"color: #00af00; text-decoration-color: #00af00\">0</span> (0.00 B)\n</pre>\n"
     },
     "metadata": {},
     "output_type": "display_data"
    }
   ],
   "source": [
    "# Создадим модель\n",
    "model = tf.keras.models.Sequential([\n",
    "  tf.keras.layers.Dense(2, activation='relu', input_shape=(2,), name='hidden_layer_1'),\n",
    "  # tf.keras.layers.Dropout(0.2, name='dropout'),\n",
    "  # tf.keras.layers.Dense(10, name='hidden_layer_2')\n",
    "  tf.keras.layers.Dense(1)\n",
    "])\n",
    "model.summary()"
   ],
   "metadata": {
    "collapsed": false,
    "ExecuteTime": {
     "end_time": "2023-12-16T13:05:49.087443900Z",
     "start_time": "2023-12-16T13:05:49.016696300Z"
    }
   },
   "id": "2b5ebd490b87a9fb"
  },
  {
   "cell_type": "code",
   "execution_count": 58,
   "outputs": [],
   "source": [
    "# Скомпилируем\n",
    "model.compile(\n",
    "    optimizer='Adam',\n",
    "    loss='mse',\n",
    "    metrics=['mean_absolute_error']\n",
    ")"
   ],
   "metadata": {
    "collapsed": false,
    "ExecuteTime": {
     "end_time": "2023-12-16T13:05:49.100419100Z",
     "start_time": "2023-12-16T13:05:49.045887300Z"
    }
   },
   "id": "dd74b89f8326c7fd"
  },
  {
   "cell_type": "code",
   "execution_count": 60,
   "outputs": [
    {
     "name": "stdout",
     "output_type": "stream",
     "text": [
      "Epoch 1/100\n",
      "\u001B[1m1/1\u001B[0m \u001B[32m━━━━━━━━━━━━━━━━━━━━\u001B[0m\u001B[37m\u001B[0m \u001B[1m1s\u001B[0m 893ms/step - loss: 1.0000 - mean_absolute_error: 1.0000 - val_loss: 9.9998e-07 - val_mean_absolute_error: 9.9999e-04\n",
      "Epoch 2/100\n",
      "\u001B[1m1/1\u001B[0m \u001B[32m━━━━━━━━━━━━━━━━━━━━\u001B[0m\u001B[37m\u001B[0m \u001B[1m0s\u001B[0m 60ms/step - loss: 0.9980 - mean_absolute_error: 0.9990 - val_loss: 3.9998e-06 - val_mean_absolute_error: 0.0020\n",
      "Epoch 3/100\n",
      "\u001B[1m1/1\u001B[0m \u001B[32m━━━━━━━━━━━━━━━━━━━━\u001B[0m\u001B[37m\u001B[0m \u001B[1m0s\u001B[0m 64ms/step - loss: 0.9960 - mean_absolute_error: 0.9980 - val_loss: 8.9993e-06 - val_mean_absolute_error: 0.0030\n",
      "Epoch 4/100\n",
      "\u001B[1m1/1\u001B[0m \u001B[32m━━━━━━━━━━━━━━━━━━━━\u001B[0m\u001B[37m\u001B[0m \u001B[1m0s\u001B[0m 66ms/step - loss: 0.9940 - mean_absolute_error: 0.9970 - val_loss: 1.5998e-05 - val_mean_absolute_error: 0.0040\n",
      "Epoch 5/100\n",
      "\u001B[1m1/1\u001B[0m \u001B[32m━━━━━━━━━━━━━━━━━━━━\u001B[0m\u001B[37m\u001B[0m \u001B[1m0s\u001B[0m 64ms/step - loss: 0.9920 - mean_absolute_error: 0.9960 - val_loss: 2.4995e-05 - val_mean_absolute_error: 0.0050\n",
      "Epoch 6/100\n",
      "\u001B[1m1/1\u001B[0m \u001B[32m━━━━━━━━━━━━━━━━━━━━\u001B[0m\u001B[37m\u001B[0m \u001B[1m0s\u001B[0m 67ms/step - loss: 0.9900 - mean_absolute_error: 0.9950 - val_loss: 3.5991e-05 - val_mean_absolute_error: 0.0060\n",
      "Epoch 7/100\n",
      "\u001B[1m1/1\u001B[0m \u001B[32m━━━━━━━━━━━━━━━━━━━━\u001B[0m\u001B[37m\u001B[0m \u001B[1m0s\u001B[0m 60ms/step - loss: 0.9880 - mean_absolute_error: 0.9940 - val_loss: 4.8983e-05 - val_mean_absolute_error: 0.0070\n",
      "Epoch 8/100\n",
      "\u001B[1m1/1\u001B[0m \u001B[32m━━━━━━━━━━━━━━━━━━━━\u001B[0m\u001B[37m\u001B[0m \u001B[1m0s\u001B[0m 64ms/step - loss: 0.9861 - mean_absolute_error: 0.9930 - val_loss: 6.3972e-05 - val_mean_absolute_error: 0.0080\n",
      "Epoch 9/100\n",
      "\u001B[1m1/1\u001B[0m \u001B[32m━━━━━━━━━━━━━━━━━━━━\u001B[0m\u001B[37m\u001B[0m \u001B[1m0s\u001B[0m 62ms/step - loss: 0.9841 - mean_absolute_error: 0.9920 - val_loss: 8.0956e-05 - val_mean_absolute_error: 0.0090\n",
      "Epoch 10/100\n",
      "\u001B[1m1/1\u001B[0m \u001B[32m━━━━━━━━━━━━━━━━━━━━\u001B[0m\u001B[37m\u001B[0m \u001B[1m0s\u001B[0m 54ms/step - loss: 0.9821 - mean_absolute_error: 0.9910 - val_loss: 9.9933e-05 - val_mean_absolute_error: 0.0100\n",
      "Epoch 11/100\n",
      "\u001B[1m1/1\u001B[0m \u001B[32m━━━━━━━━━━━━━━━━━━━━\u001B[0m\u001B[37m\u001B[0m \u001B[1m0s\u001B[0m 61ms/step - loss: 0.9801 - mean_absolute_error: 0.9900 - val_loss: 1.2090e-04 - val_mean_absolute_error: 0.0110\n",
      "Epoch 12/100\n",
      "\u001B[1m1/1\u001B[0m \u001B[32m━━━━━━━━━━━━━━━━━━━━\u001B[0m\u001B[37m\u001B[0m \u001B[1m0s\u001B[0m 62ms/step - loss: 0.9781 - mean_absolute_error: 0.9890 - val_loss: 1.4387e-04 - val_mean_absolute_error: 0.0120\n",
      "Epoch 13/100\n",
      "\u001B[1m1/1\u001B[0m \u001B[32m━━━━━━━━━━━━━━━━━━━━\u001B[0m\u001B[37m\u001B[0m \u001B[1m0s\u001B[0m 65ms/step - loss: 0.9762 - mean_absolute_error: 0.9880 - val_loss: 1.6882e-04 - val_mean_absolute_error: 0.0130\n",
      "Epoch 14/100\n",
      "\u001B[1m1/1\u001B[0m \u001B[32m━━━━━━━━━━━━━━━━━━━━\u001B[0m\u001B[37m\u001B[0m \u001B[1m0s\u001B[0m 58ms/step - loss: 0.9742 - mean_absolute_error: 0.9870 - val_loss: 1.9576e-04 - val_mean_absolute_error: 0.0140\n",
      "Epoch 15/100\n",
      "\u001B[1m1/1\u001B[0m \u001B[32m━━━━━━━━━━━━━━━━━━━━\u001B[0m\u001B[37m\u001B[0m \u001B[1m0s\u001B[0m 54ms/step - loss: 0.9722 - mean_absolute_error: 0.9860 - val_loss: 2.2468e-04 - val_mean_absolute_error: 0.0150\n",
      "Epoch 16/100\n",
      "\u001B[1m1/1\u001B[0m \u001B[32m━━━━━━━━━━━━━━━━━━━━\u001B[0m\u001B[37m\u001B[0m \u001B[1m0s\u001B[0m 60ms/step - loss: 0.9702 - mean_absolute_error: 0.9850 - val_loss: 2.5559e-04 - val_mean_absolute_error: 0.0160\n",
      "Epoch 17/100\n",
      "\u001B[1m1/1\u001B[0m \u001B[32m━━━━━━━━━━━━━━━━━━━━\u001B[0m\u001B[37m\u001B[0m \u001B[1m0s\u001B[0m 58ms/step - loss: 0.9683 - mean_absolute_error: 0.9840 - val_loss: 2.8848e-04 - val_mean_absolute_error: 0.0170\n",
      "Epoch 18/100\n",
      "\u001B[1m1/1\u001B[0m \u001B[32m━━━━━━━━━━━━━━━━━━━━\u001B[0m\u001B[37m\u001B[0m \u001B[1m0s\u001B[0m 57ms/step - loss: 0.9663 - mean_absolute_error: 0.9830 - val_loss: 3.2336e-04 - val_mean_absolute_error: 0.0180\n",
      "Epoch 19/100\n",
      "\u001B[1m1/1\u001B[0m \u001B[32m━━━━━━━━━━━━━━━━━━━━\u001B[0m\u001B[37m\u001B[0m \u001B[1m0s\u001B[0m 60ms/step - loss: 0.9644 - mean_absolute_error: 0.9820 - val_loss: 3.6021e-04 - val_mean_absolute_error: 0.0190\n",
      "Epoch 20/100\n",
      "\u001B[1m1/1\u001B[0m \u001B[32m━━━━━━━━━━━━━━━━━━━━\u001B[0m\u001B[37m\u001B[0m \u001B[1m0s\u001B[0m 62ms/step - loss: 0.9624 - mean_absolute_error: 0.9810 - val_loss: 3.9904e-04 - val_mean_absolute_error: 0.0200\n",
      "Epoch 21/100\n",
      "\u001B[1m1/1\u001B[0m \u001B[32m━━━━━━━━━━━━━━━━━━━━\u001B[0m\u001B[37m\u001B[0m \u001B[1m0s\u001B[0m 60ms/step - loss: 0.9604 - mean_absolute_error: 0.9800 - val_loss: 4.3984e-04 - val_mean_absolute_error: 0.0210\n",
      "Epoch 22/100\n",
      "\u001B[1m1/1\u001B[0m \u001B[32m━━━━━━━━━━━━━━━━━━━━\u001B[0m\u001B[37m\u001B[0m \u001B[1m0s\u001B[0m 73ms/step - loss: 0.9585 - mean_absolute_error: 0.9790 - val_loss: 4.8261e-04 - val_mean_absolute_error: 0.0220\n",
      "Epoch 23/100\n",
      "\u001B[1m1/1\u001B[0m \u001B[32m━━━━━━━━━━━━━━━━━━━━\u001B[0m\u001B[37m\u001B[0m \u001B[1m0s\u001B[0m 55ms/step - loss: 0.9565 - mean_absolute_error: 0.9780 - val_loss: 5.2735e-04 - val_mean_absolute_error: 0.0230\n",
      "Epoch 24/100\n",
      "\u001B[1m1/1\u001B[0m \u001B[32m━━━━━━━━━━━━━━━━━━━━\u001B[0m\u001B[37m\u001B[0m \u001B[1m0s\u001B[0m 60ms/step - loss: 0.9546 - mean_absolute_error: 0.9770 - val_loss: 5.7406e-04 - val_mean_absolute_error: 0.0240\n",
      "Epoch 25/100\n",
      "\u001B[1m1/1\u001B[0m \u001B[32m━━━━━━━━━━━━━━━━━━━━\u001B[0m\u001B[37m\u001B[0m \u001B[1m0s\u001B[0m 62ms/step - loss: 0.9527 - mean_absolute_error: 0.9760 - val_loss: 6.2273e-04 - val_mean_absolute_error: 0.0250\n",
      "Epoch 26/100\n",
      "\u001B[1m1/1\u001B[0m \u001B[32m━━━━━━━━━━━━━━━━━━━━\u001B[0m\u001B[37m\u001B[0m \u001B[1m0s\u001B[0m 59ms/step - loss: 0.9507 - mean_absolute_error: 0.9750 - val_loss: 6.7336e-04 - val_mean_absolute_error: 0.0259\n",
      "Epoch 27/100\n",
      "\u001B[1m1/1\u001B[0m \u001B[32m━━━━━━━━━━━━━━━━━━━━\u001B[0m\u001B[37m\u001B[0m \u001B[1m0s\u001B[0m 55ms/step - loss: 0.9488 - mean_absolute_error: 0.9741 - val_loss: 7.2595e-04 - val_mean_absolute_error: 0.0269\n",
      "Epoch 28/100\n",
      "\u001B[1m1/1\u001B[0m \u001B[32m━━━━━━━━━━━━━━━━━━━━\u001B[0m\u001B[37m\u001B[0m \u001B[1m0s\u001B[0m 59ms/step - loss: 0.9468 - mean_absolute_error: 0.9731 - val_loss: 7.8050e-04 - val_mean_absolute_error: 0.0279\n",
      "Epoch 29/100\n",
      "\u001B[1m1/1\u001B[0m \u001B[32m━━━━━━━━━━━━━━━━━━━━\u001B[0m\u001B[37m\u001B[0m \u001B[1m0s\u001B[0m 61ms/step - loss: 0.9449 - mean_absolute_error: 0.9721 - val_loss: 8.3700e-04 - val_mean_absolute_error: 0.0289\n",
      "Epoch 30/100\n",
      "\u001B[1m1/1\u001B[0m \u001B[32m━━━━━━━━━━━━━━━━━━━━\u001B[0m\u001B[37m\u001B[0m \u001B[1m0s\u001B[0m 55ms/step - loss: 0.9430 - mean_absolute_error: 0.9711 - val_loss: 8.9545e-04 - val_mean_absolute_error: 0.0299\n",
      "Epoch 31/100\n",
      "\u001B[1m1/1\u001B[0m \u001B[32m━━━━━━━━━━━━━━━━━━━━\u001B[0m\u001B[37m\u001B[0m \u001B[1m0s\u001B[0m 63ms/step - loss: 0.9410 - mean_absolute_error: 0.9701 - val_loss: 9.5584e-04 - val_mean_absolute_error: 0.0309\n",
      "Epoch 32/100\n",
      "\u001B[1m1/1\u001B[0m \u001B[32m━━━━━━━━━━━━━━━━━━━━\u001B[0m\u001B[37m\u001B[0m \u001B[1m0s\u001B[0m 63ms/step - loss: 0.9391 - mean_absolute_error: 0.9691 - val_loss: 0.0010 - val_mean_absolute_error: 0.0319\n",
      "Epoch 33/100\n",
      "\u001B[1m1/1\u001B[0m \u001B[32m━━━━━━━━━━━━━━━━━━━━\u001B[0m\u001B[37m\u001B[0m \u001B[1m0s\u001B[0m 56ms/step - loss: 0.9372 - mean_absolute_error: 0.9681 - val_loss: 0.0011 - val_mean_absolute_error: 0.0329\n",
      "Epoch 34/100\n",
      "\u001B[1m1/1\u001B[0m \u001B[32m━━━━━━━━━━━━━━━━━━━━\u001B[0m\u001B[37m\u001B[0m \u001B[1m0s\u001B[0m 61ms/step - loss: 0.9353 - mean_absolute_error: 0.9671 - val_loss: 0.0011 - val_mean_absolute_error: 0.0339\n",
      "Epoch 35/100\n",
      "\u001B[1m1/1\u001B[0m \u001B[32m━━━━━━━━━━━━━━━━━━━━\u001B[0m\u001B[37m\u001B[0m \u001B[1m0s\u001B[0m 64ms/step - loss: 0.9334 - mean_absolute_error: 0.9661 - val_loss: 0.0012 - val_mean_absolute_error: 0.0349\n",
      "Epoch 36/100\n",
      "\u001B[1m1/1\u001B[0m \u001B[32m━━━━━━━━━━━━━━━━━━━━\u001B[0m\u001B[37m\u001B[0m \u001B[1m0s\u001B[0m 55ms/step - loss: 0.9315 - mean_absolute_error: 0.9651 - val_loss: 0.0013 - val_mean_absolute_error: 0.0359\n",
      "Epoch 37/100\n",
      "\u001B[1m1/1\u001B[0m \u001B[32m━━━━━━━━━━━━━━━━━━━━\u001B[0m\u001B[37m\u001B[0m \u001B[1m0s\u001B[0m 58ms/step - loss: 0.9295 - mean_absolute_error: 0.9641 - val_loss: 0.0014 - val_mean_absolute_error: 0.0369\n",
      "Epoch 38/100\n",
      "\u001B[1m1/1\u001B[0m \u001B[32m━━━━━━━━━━━━━━━━━━━━\u001B[0m\u001B[37m\u001B[0m \u001B[1m0s\u001B[0m 57ms/step - loss: 0.9276 - mean_absolute_error: 0.9631 - val_loss: 0.0014 - val_mean_absolute_error: 0.0379\n",
      "Epoch 39/100\n",
      "\u001B[1m1/1\u001B[0m \u001B[32m━━━━━━━━━━━━━━━━━━━━\u001B[0m\u001B[37m\u001B[0m \u001B[1m0s\u001B[0m 59ms/step - loss: 0.9257 - mean_absolute_error: 0.9621 - val_loss: 0.0015 - val_mean_absolute_error: 0.0388\n",
      "Epoch 40/100\n",
      "\u001B[1m1/1\u001B[0m \u001B[32m━━━━━━━━━━━━━━━━━━━━\u001B[0m\u001B[37m\u001B[0m \u001B[1m0s\u001B[0m 58ms/step - loss: 0.9238 - mean_absolute_error: 0.9612 - val_loss: 0.0016 - val_mean_absolute_error: 0.0398\n",
      "Epoch 41/100\n",
      "\u001B[1m1/1\u001B[0m \u001B[32m━━━━━━━━━━━━━━━━━━━━\u001B[0m\u001B[37m\u001B[0m \u001B[1m0s\u001B[0m 70ms/step - loss: 0.9219 - mean_absolute_error: 0.9602 - val_loss: 0.0017 - val_mean_absolute_error: 0.0408\n",
      "Epoch 42/100\n",
      "\u001B[1m1/1\u001B[0m \u001B[32m━━━━━━━━━━━━━━━━━━━━\u001B[0m\u001B[37m\u001B[0m \u001B[1m0s\u001B[0m 69ms/step - loss: 0.9200 - mean_absolute_error: 0.9592 - val_loss: 0.0017 - val_mean_absolute_error: 0.0418\n",
      "Epoch 43/100\n",
      "\u001B[1m1/1\u001B[0m \u001B[32m━━━━━━━━━━━━━━━━━━━━\u001B[0m\u001B[37m\u001B[0m \u001B[1m0s\u001B[0m 62ms/step - loss: 0.9181 - mean_absolute_error: 0.9582 - val_loss: 0.0018 - val_mean_absolute_error: 0.0428\n",
      "Epoch 44/100\n",
      "\u001B[1m1/1\u001B[0m \u001B[32m━━━━━━━━━━━━━━━━━━━━\u001B[0m\u001B[37m\u001B[0m \u001B[1m0s\u001B[0m 60ms/step - loss: 0.9162 - mean_absolute_error: 0.9572 - val_loss: 0.0019 - val_mean_absolute_error: 0.0438\n",
      "Epoch 45/100\n",
      "\u001B[1m1/1\u001B[0m \u001B[32m━━━━━━━━━━━━━━━━━━━━\u001B[0m\u001B[37m\u001B[0m \u001B[1m0s\u001B[0m 60ms/step - loss: 0.9144 - mean_absolute_error: 0.9562 - val_loss: 0.0020 - val_mean_absolute_error: 0.0448\n",
      "Epoch 46/100\n",
      "\u001B[1m1/1\u001B[0m \u001B[32m━━━━━━━━━━━━━━━━━━━━\u001B[0m\u001B[37m\u001B[0m \u001B[1m0s\u001B[0m 59ms/step - loss: 0.9125 - mean_absolute_error: 0.9552 - val_loss: 0.0021 - val_mean_absolute_error: 0.0458\n",
      "Epoch 47/100\n",
      "\u001B[1m1/1\u001B[0m \u001B[32m━━━━━━━━━━━━━━━━━━━━\u001B[0m\u001B[37m\u001B[0m \u001B[1m0s\u001B[0m 59ms/step - loss: 0.9106 - mean_absolute_error: 0.9542 - val_loss: 0.0022 - val_mean_absolute_error: 0.0467\n",
      "Epoch 48/100\n",
      "\u001B[1m1/1\u001B[0m \u001B[32m━━━━━━━━━━━━━━━━━━━━\u001B[0m\u001B[37m\u001B[0m \u001B[1m0s\u001B[0m 54ms/step - loss: 0.9087 - mean_absolute_error: 0.9533 - val_loss: 0.0023 - val_mean_absolute_error: 0.0477\n",
      "Epoch 49/100\n",
      "\u001B[1m1/1\u001B[0m \u001B[32m━━━━━━━━━━━━━━━━━━━━\u001B[0m\u001B[37m\u001B[0m \u001B[1m0s\u001B[0m 57ms/step - loss: 0.9068 - mean_absolute_error: 0.9523 - val_loss: 0.0024 - val_mean_absolute_error: 0.0487\n",
      "Epoch 50/100\n",
      "\u001B[1m1/1\u001B[0m \u001B[32m━━━━━━━━━━━━━━━━━━━━\u001B[0m\u001B[37m\u001B[0m \u001B[1m0s\u001B[0m 59ms/step - loss: 0.9050 - mean_absolute_error: 0.9513 - val_loss: 0.0025 - val_mean_absolute_error: 0.0497\n",
      "Epoch 51/100\n",
      "\u001B[1m1/1\u001B[0m \u001B[32m━━━━━━━━━━━━━━━━━━━━\u001B[0m\u001B[37m\u001B[0m \u001B[1m0s\u001B[0m 65ms/step - loss: 0.9031 - mean_absolute_error: 0.9503 - val_loss: 0.0026 - val_mean_absolute_error: 0.0507\n",
      "Epoch 52/100\n",
      "\u001B[1m1/1\u001B[0m \u001B[32m━━━━━━━━━━━━━━━━━━━━\u001B[0m\u001B[37m\u001B[0m \u001B[1m0s\u001B[0m 69ms/step - loss: 0.9012 - mean_absolute_error: 0.9493 - val_loss: 0.0027 - val_mean_absolute_error: 0.0517\n",
      "Epoch 53/100\n",
      "\u001B[1m1/1\u001B[0m \u001B[32m━━━━━━━━━━━━━━━━━━━━\u001B[0m\u001B[37m\u001B[0m \u001B[1m0s\u001B[0m 62ms/step - loss: 0.8993 - mean_absolute_error: 0.9483 - val_loss: 0.0028 - val_mean_absolute_error: 0.0526\n",
      "Epoch 54/100\n",
      "\u001B[1m1/1\u001B[0m \u001B[32m━━━━━━━━━━━━━━━━━━━━\u001B[0m\u001B[37m\u001B[0m \u001B[1m0s\u001B[0m 59ms/step - loss: 0.8975 - mean_absolute_error: 0.9474 - val_loss: 0.0029 - val_mean_absolute_error: 0.0536\n",
      "Epoch 55/100\n",
      "\u001B[1m1/1\u001B[0m \u001B[32m━━━━━━━━━━━━━━━━━━━━\u001B[0m\u001B[37m\u001B[0m \u001B[1m0s\u001B[0m 69ms/step - loss: 0.8956 - mean_absolute_error: 0.9464 - val_loss: 0.0030 - val_mean_absolute_error: 0.0546\n",
      "Epoch 56/100\n",
      "\u001B[1m1/1\u001B[0m \u001B[32m━━━━━━━━━━━━━━━━━━━━\u001B[0m\u001B[37m\u001B[0m \u001B[1m0s\u001B[0m 65ms/step - loss: 0.8938 - mean_absolute_error: 0.9454 - val_loss: 0.0031 - val_mean_absolute_error: 0.0556\n",
      "Epoch 57/100\n",
      "\u001B[1m1/1\u001B[0m \u001B[32m━━━━━━━━━━━━━━━━━━━━\u001B[0m\u001B[37m\u001B[0m \u001B[1m0s\u001B[0m 57ms/step - loss: 0.8919 - mean_absolute_error: 0.9444 - val_loss: 0.0032 - val_mean_absolute_error: 0.0566\n",
      "Epoch 58/100\n",
      "\u001B[1m1/1\u001B[0m \u001B[32m━━━━━━━━━━━━━━━━━━━━\u001B[0m\u001B[37m\u001B[0m \u001B[1m0s\u001B[0m 60ms/step - loss: 0.8901 - mean_absolute_error: 0.9434 - val_loss: 0.0033 - val_mean_absolute_error: 0.0575\n",
      "Epoch 59/100\n",
      "\u001B[1m1/1\u001B[0m \u001B[32m━━━━━━━━━━━━━━━━━━━━\u001B[0m\u001B[37m\u001B[0m \u001B[1m0s\u001B[0m 78ms/step - loss: 0.8882 - mean_absolute_error: 0.9425 - val_loss: 0.0034 - val_mean_absolute_error: 0.0585\n",
      "Epoch 60/100\n",
      "\u001B[1m1/1\u001B[0m \u001B[32m━━━━━━━━━━━━━━━━━━━━\u001B[0m\u001B[37m\u001B[0m \u001B[1m0s\u001B[0m 75ms/step - loss: 0.8864 - mean_absolute_error: 0.9415 - val_loss: 0.0035 - val_mean_absolute_error: 0.0595\n",
      "Epoch 61/100\n",
      "\u001B[1m1/1\u001B[0m \u001B[32m━━━━━━━━━━━━━━━━━━━━\u001B[0m\u001B[37m\u001B[0m \u001B[1m0s\u001B[0m 61ms/step - loss: 0.8845 - mean_absolute_error: 0.9405 - val_loss: 0.0037 - val_mean_absolute_error: 0.0605\n",
      "Epoch 62/100\n",
      "\u001B[1m1/1\u001B[0m \u001B[32m━━━━━━━━━━━━━━━━━━━━\u001B[0m\u001B[37m\u001B[0m \u001B[1m0s\u001B[0m 64ms/step - loss: 0.8827 - mean_absolute_error: 0.9395 - val_loss: 0.0038 - val_mean_absolute_error: 0.0615\n",
      "Epoch 63/100\n",
      "\u001B[1m1/1\u001B[0m \u001B[32m━━━━━━━━━━━━━━━━━━━━\u001B[0m\u001B[37m\u001B[0m \u001B[1m0s\u001B[0m 61ms/step - loss: 0.8808 - mean_absolute_error: 0.9385 - val_loss: 0.0039 - val_mean_absolute_error: 0.0624\n",
      "Epoch 64/100\n",
      "\u001B[1m1/1\u001B[0m \u001B[32m━━━━━━━━━━━━━━━━━━━━\u001B[0m\u001B[37m\u001B[0m \u001B[1m0s\u001B[0m 58ms/step - loss: 0.8790 - mean_absolute_error: 0.9376 - val_loss: 0.0040 - val_mean_absolute_error: 0.0634\n",
      "Epoch 65/100\n",
      "\u001B[1m1/1\u001B[0m \u001B[32m━━━━━━━━━━━━━━━━━━━━\u001B[0m\u001B[37m\u001B[0m \u001B[1m0s\u001B[0m 55ms/step - loss: 0.8772 - mean_absolute_error: 0.9366 - val_loss: 0.0041 - val_mean_absolute_error: 0.0644\n",
      "Epoch 66/100\n",
      "\u001B[1m1/1\u001B[0m \u001B[32m━━━━━━━━━━━━━━━━━━━━\u001B[0m\u001B[37m\u001B[0m \u001B[1m0s\u001B[0m 59ms/step - loss: 0.8754 - mean_absolute_error: 0.9356 - val_loss: 0.0043 - val_mean_absolute_error: 0.0654\n",
      "Epoch 67/100\n",
      "\u001B[1m1/1\u001B[0m \u001B[32m━━━━━━━━━━━━━━━━━━━━\u001B[0m\u001B[37m\u001B[0m \u001B[1m0s\u001B[0m 64ms/step - loss: 0.8735 - mean_absolute_error: 0.9346 - val_loss: 0.0044 - val_mean_absolute_error: 0.0663\n",
      "Epoch 68/100\n",
      "\u001B[1m1/1\u001B[0m \u001B[32m━━━━━━━━━━━━━━━━━━━━\u001B[0m\u001B[37m\u001B[0m \u001B[1m0s\u001B[0m 61ms/step - loss: 0.8717 - mean_absolute_error: 0.9337 - val_loss: 0.0045 - val_mean_absolute_error: 0.0673\n",
      "Epoch 69/100\n",
      "\u001B[1m1/1\u001B[0m \u001B[32m━━━━━━━━━━━━━━━━━━━━\u001B[0m\u001B[37m\u001B[0m \u001B[1m0s\u001B[0m 67ms/step - loss: 0.8699 - mean_absolute_error: 0.9327 - val_loss: 0.0047 - val_mean_absolute_error: 0.0683\n",
      "Epoch 70/100\n",
      "\u001B[1m1/1\u001B[0m \u001B[32m━━━━━━━━━━━━━━━━━━━━\u001B[0m\u001B[37m\u001B[0m \u001B[1m0s\u001B[0m 68ms/step - loss: 0.8681 - mean_absolute_error: 0.9317 - val_loss: 0.0048 - val_mean_absolute_error: 0.0693\n",
      "Epoch 71/100\n",
      "\u001B[1m1/1\u001B[0m \u001B[32m━━━━━━━━━━━━━━━━━━━━\u001B[0m\u001B[37m\u001B[0m \u001B[1m0s\u001B[0m 63ms/step - loss: 0.8663 - mean_absolute_error: 0.9307 - val_loss: 0.0049 - val_mean_absolute_error: 0.0702\n",
      "Epoch 72/100\n",
      "\u001B[1m1/1\u001B[0m \u001B[32m━━━━━━━━━━━━━━━━━━━━\u001B[0m\u001B[37m\u001B[0m \u001B[1m0s\u001B[0m 63ms/step - loss: 0.8644 - mean_absolute_error: 0.9298 - val_loss: 0.0051 - val_mean_absolute_error: 0.0712\n",
      "Epoch 73/100\n",
      "\u001B[1m1/1\u001B[0m \u001B[32m━━━━━━━━━━━━━━━━━━━━\u001B[0m\u001B[37m\u001B[0m \u001B[1m0s\u001B[0m 65ms/step - loss: 0.8626 - mean_absolute_error: 0.9288 - val_loss: 0.0052 - val_mean_absolute_error: 0.0722\n",
      "Epoch 74/100\n",
      "\u001B[1m1/1\u001B[0m \u001B[32m━━━━━━━━━━━━━━━━━━━━\u001B[0m\u001B[37m\u001B[0m \u001B[1m0s\u001B[0m 60ms/step - loss: 0.8608 - mean_absolute_error: 0.9278 - val_loss: 0.0054 - val_mean_absolute_error: 0.0732\n",
      "Epoch 75/100\n",
      "\u001B[1m1/1\u001B[0m \u001B[32m━━━━━━━━━━━━━━━━━━━━\u001B[0m\u001B[37m\u001B[0m \u001B[1m0s\u001B[0m 55ms/step - loss: 0.8590 - mean_absolute_error: 0.9268 - val_loss: 0.0055 - val_mean_absolute_error: 0.0741\n",
      "Epoch 76/100\n",
      "\u001B[1m1/1\u001B[0m \u001B[32m━━━━━━━━━━━━━━━━━━━━\u001B[0m\u001B[37m\u001B[0m \u001B[1m0s\u001B[0m 65ms/step - loss: 0.8572 - mean_absolute_error: 0.9259 - val_loss: 0.0056 - val_mean_absolute_error: 0.0751\n",
      "Epoch 77/100\n",
      "\u001B[1m1/1\u001B[0m \u001B[32m━━━━━━━━━━━━━━━━━━━━\u001B[0m\u001B[37m\u001B[0m \u001B[1m0s\u001B[0m 62ms/step - loss: 0.8554 - mean_absolute_error: 0.9249 - val_loss: 0.0058 - val_mean_absolute_error: 0.0761\n",
      "Epoch 78/100\n",
      "\u001B[1m1/1\u001B[0m \u001B[32m━━━━━━━━━━━━━━━━━━━━\u001B[0m\u001B[37m\u001B[0m \u001B[1m0s\u001B[0m 61ms/step - loss: 0.8536 - mean_absolute_error: 0.9239 - val_loss: 0.0059 - val_mean_absolute_error: 0.0770\n",
      "Epoch 79/100\n",
      "\u001B[1m1/1\u001B[0m \u001B[32m━━━━━━━━━━━━━━━━━━━━\u001B[0m\u001B[37m\u001B[0m \u001B[1m0s\u001B[0m 58ms/step - loss: 0.8518 - mean_absolute_error: 0.9230 - val_loss: 0.0061 - val_mean_absolute_error: 0.0780\n",
      "Epoch 80/100\n",
      "\u001B[1m1/1\u001B[0m \u001B[32m━━━━━━━━━━━━━━━━━━━━\u001B[0m\u001B[37m\u001B[0m \u001B[1m0s\u001B[0m 59ms/step - loss: 0.8501 - mean_absolute_error: 0.9220 - val_loss: 0.0062 - val_mean_absolute_error: 0.0790\n",
      "Epoch 81/100\n",
      "\u001B[1m1/1\u001B[0m \u001B[32m━━━━━━━━━━━━━━━━━━━━\u001B[0m\u001B[37m\u001B[0m \u001B[1m0s\u001B[0m 62ms/step - loss: 0.8483 - mean_absolute_error: 0.9210 - val_loss: 0.0064 - val_mean_absolute_error: 0.0800\n",
      "Epoch 82/100\n",
      "\u001B[1m1/1\u001B[0m \u001B[32m━━━━━━━━━━━━━━━━━━━━\u001B[0m\u001B[37m\u001B[0m \u001B[1m0s\u001B[0m 66ms/step - loss: 0.8465 - mean_absolute_error: 0.9200 - val_loss: 0.0065 - val_mean_absolute_error: 0.0809\n",
      "Epoch 83/100\n",
      "\u001B[1m1/1\u001B[0m \u001B[32m━━━━━━━━━━━━━━━━━━━━\u001B[0m\u001B[37m\u001B[0m \u001B[1m0s\u001B[0m 82ms/step - loss: 0.8447 - mean_absolute_error: 0.9191 - val_loss: 0.0067 - val_mean_absolute_error: 0.0819\n",
      "Epoch 84/100\n",
      "\u001B[1m1/1\u001B[0m \u001B[32m━━━━━━━━━━━━━━━━━━━━\u001B[0m\u001B[37m\u001B[0m \u001B[1m0s\u001B[0m 54ms/step - loss: 0.8429 - mean_absolute_error: 0.9181 - val_loss: 0.0069 - val_mean_absolute_error: 0.0829\n",
      "Epoch 85/100\n",
      "\u001B[1m1/1\u001B[0m \u001B[32m━━━━━━━━━━━━━━━━━━━━\u001B[0m\u001B[37m\u001B[0m \u001B[1m0s\u001B[0m 60ms/step - loss: 0.8412 - mean_absolute_error: 0.9171 - val_loss: 0.0070 - val_mean_absolute_error: 0.0838\n",
      "Epoch 86/100\n",
      "\u001B[1m1/1\u001B[0m \u001B[32m━━━━━━━━━━━━━━━━━━━━\u001B[0m\u001B[37m\u001B[0m \u001B[1m0s\u001B[0m 62ms/step - loss: 0.8394 - mean_absolute_error: 0.9162 - val_loss: 0.0072 - val_mean_absolute_error: 0.0848\n",
      "Epoch 87/100\n",
      "\u001B[1m1/1\u001B[0m \u001B[32m━━━━━━━━━━━━━━━━━━━━\u001B[0m\u001B[37m\u001B[0m \u001B[1m0s\u001B[0m 68ms/step - loss: 0.8376 - mean_absolute_error: 0.9152 - val_loss: 0.0074 - val_mean_absolute_error: 0.0858\n",
      "Epoch 88/100\n",
      "\u001B[1m1/1\u001B[0m \u001B[32m━━━━━━━━━━━━━━━━━━━━\u001B[0m\u001B[37m\u001B[0m \u001B[1m0s\u001B[0m 68ms/step - loss: 0.8358 - mean_absolute_error: 0.9142 - val_loss: 0.0075 - val_mean_absolute_error: 0.0867\n",
      "Epoch 89/100\n",
      "\u001B[1m1/1\u001B[0m \u001B[32m━━━━━━━━━━━━━━━━━━━━\u001B[0m\u001B[37m\u001B[0m \u001B[1m0s\u001B[0m 64ms/step - loss: 0.8341 - mean_absolute_error: 0.9133 - val_loss: 0.0077 - val_mean_absolute_error: 0.0877\n",
      "Epoch 90/100\n",
      "\u001B[1m1/1\u001B[0m \u001B[32m━━━━━━━━━━━━━━━━━━━━\u001B[0m\u001B[37m\u001B[0m \u001B[1m0s\u001B[0m 59ms/step - loss: 0.8323 - mean_absolute_error: 0.9123 - val_loss: 0.0079 - val_mean_absolute_error: 0.0886\n",
      "Epoch 91/100\n",
      "\u001B[1m1/1\u001B[0m \u001B[32m━━━━━━━━━━━━━━━━━━━━\u001B[0m\u001B[37m\u001B[0m \u001B[1m0s\u001B[0m 64ms/step - loss: 0.8306 - mean_absolute_error: 0.9114 - val_loss: 0.0080 - val_mean_absolute_error: 0.0896\n",
      "Epoch 92/100\n",
      "\u001B[1m1/1\u001B[0m \u001B[32m━━━━━━━━━━━━━━━━━━━━\u001B[0m\u001B[37m\u001B[0m \u001B[1m0s\u001B[0m 60ms/step - loss: 0.8288 - mean_absolute_error: 0.9104 - val_loss: 0.0082 - val_mean_absolute_error: 0.0906\n",
      "Epoch 93/100\n",
      "\u001B[1m1/1\u001B[0m \u001B[32m━━━━━━━━━━━━━━━━━━━━\u001B[0m\u001B[37m\u001B[0m \u001B[1m0s\u001B[0m 64ms/step - loss: 0.8271 - mean_absolute_error: 0.9094 - val_loss: 0.0084 - val_mean_absolute_error: 0.0915\n",
      "Epoch 94/100\n",
      "\u001B[1m1/1\u001B[0m \u001B[32m━━━━━━━━━━━━━━━━━━━━\u001B[0m\u001B[37m\u001B[0m \u001B[1m0s\u001B[0m 58ms/step - loss: 0.8253 - mean_absolute_error: 0.9085 - val_loss: 0.0086 - val_mean_absolute_error: 0.0925\n",
      "Epoch 95/100\n",
      "\u001B[1m1/1\u001B[0m \u001B[32m━━━━━━━━━━━━━━━━━━━━\u001B[0m\u001B[37m\u001B[0m \u001B[1m0s\u001B[0m 56ms/step - loss: 0.8236 - mean_absolute_error: 0.9075 - val_loss: 0.0087 - val_mean_absolute_error: 0.0935\n",
      "Epoch 96/100\n",
      "\u001B[1m1/1\u001B[0m \u001B[32m━━━━━━━━━━━━━━━━━━━━\u001B[0m\u001B[37m\u001B[0m \u001B[1m0s\u001B[0m 60ms/step - loss: 0.8218 - mean_absolute_error: 0.9065 - val_loss: 0.0089 - val_mean_absolute_error: 0.0944\n",
      "Epoch 97/100\n",
      "\u001B[1m1/1\u001B[0m \u001B[32m━━━━━━━━━━━━━━━━━━━━\u001B[0m\u001B[37m\u001B[0m \u001B[1m0s\u001B[0m 64ms/step - loss: 0.8201 - mean_absolute_error: 0.9056 - val_loss: 0.0091 - val_mean_absolute_error: 0.0954\n",
      "Epoch 98/100\n",
      "\u001B[1m1/1\u001B[0m \u001B[32m━━━━━━━━━━━━━━━━━━━━\u001B[0m\u001B[37m\u001B[0m \u001B[1m0s\u001B[0m 64ms/step - loss: 0.8183 - mean_absolute_error: 0.9046 - val_loss: 0.0093 - val_mean_absolute_error: 0.0963\n",
      "Epoch 99/100\n",
      "\u001B[1m1/1\u001B[0m \u001B[32m━━━━━━━━━━━━━━━━━━━━\u001B[0m\u001B[37m\u001B[0m \u001B[1m0s\u001B[0m 61ms/step - loss: 0.8166 - mean_absolute_error: 0.9037 - val_loss: 0.0095 - val_mean_absolute_error: 0.0973\n",
      "Epoch 100/100\n",
      "\u001B[1m1/1\u001B[0m \u001B[32m━━━━━━━━━━━━━━━━━━━━\u001B[0m\u001B[37m\u001B[0m \u001B[1m0s\u001B[0m 58ms/step - loss: 0.8149 - mean_absolute_error: 0.9027 - val_loss: 0.0097 - val_mean_absolute_error: 0.0983\n"
     ]
    },
    {
     "data": {
      "text/plain": "<keras.src.callbacks.history.History at 0x21ac4d208d0>"
     },
     "execution_count": 60,
     "metadata": {},
     "output_type": "execute_result"
    }
   ],
   "source": [
    "X = np.array([\n",
    "    [36, 1],    # 36 градусов, есть солнце \n",
    "    [37, 1],    # 37 градусов, есть солнце\n",
    "    [36, 0],    # 36 градусов, нет солнца\n",
    "    [37, 0],    # 37 градусов, нет солнца\n",
    "])\n",
    " \n",
    "Y = np.array([\n",
    "    1, # открыты\n",
    "    0, # закрыты\n",
    "    0, # закрыты\n",
    "    0, # закрыты\n",
    "])\n",
    "# Обучим\n",
    "model.fit(\n",
    "    X, # Набор входных данных\n",
    "    Y, # Набор правильных ответов\n",
    "    validation_split=0.7, # Этот параметр автоматически выделит часть обучающего набора на валидационные данные. В данном случа 20%\n",
    "    epochs=100, # Процесс обучения завершится после 10 эпох\n",
    "    batch_size = 8 # Набор данных будет разбит на пакеты (батчи) по 8 элементов набора в каждом. \n",
    ")"
   ],
   "metadata": {
    "collapsed": false,
    "ExecuteTime": {
     "end_time": "2023-12-16T13:06:05.994106800Z",
     "start_time": "2023-12-16T13:05:58.524843100Z"
    }
   },
   "id": "b35a70ba6a56055e"
  },
  {
   "cell_type": "code",
   "execution_count": 61,
   "outputs": [
    {
     "name": "stdout",
     "output_type": "stream",
     "text": [
      "\u001B[1m2/2\u001B[0m \u001B[32m━━━━━━━━━━━━━━━━━━━━\u001B[0m\u001B[37m\u001B[0m \u001B[1m0s\u001B[0m 25ms/step\n",
      "\u001B[1m2/2\u001B[0m \u001B[32m━━━━━━━━━━━━━━━━━━━━\u001B[0m\u001B[37m\u001B[0m \u001B[1m0s\u001B[0m 2ms/step \n"
     ]
    },
    {
     "data": {
      "text/plain": "<Figure size 640x480 with 1 Axes>",
      "image/png": "[encoded data removed]"
     },
     "metadata": {},
     "output_type": "display_data"
    }
   ],
   "source": [
    "sun = 0\n",
    "X_test = []\n",
    "for C in range(0, 51):\n",
    "  X_test.append([C, sun])\n",
    "X_test = np.array(X_test)\n",
    "feedforwardsNoSun = model.predict(X_test)\n",
    "sun = 1\n",
    "X_test = []\n",
    "for C in range(0, 51):\n",
    "  X_test.append([C, sun])\n",
    "X_test = np.array(X_test)\n",
    "feedforwardsSun = model.predict(X_test)\n",
    "\n",
    "fig, ax = plt.subplots()\n",
    "\n",
    "ax.plot([C for C in range(0, 51)], feedforwardsNoSun, linewidth=2.0, label='Нет солнца')\n",
    "\n",
    "ax.plot([C for C in range(0, 51)], feedforwardsSun, linewidth=2.0, label='Есть солнце')\n",
    "ax.legend()\n",
    "plt.show()"
   ],
   "metadata": {
    "collapsed": false,
    "ExecuteTime": {
     "end_time": "2023-12-16T13:06:06.295658600Z",
     "start_time": "2023-12-16T13:06:05.985584Z"
    }
   },
   "id": "b6690c07c285b7be"
  },
  {
   "cell_type": "markdown",
   "source": [
    "проверим на большей выборке"
   ],
   "metadata": {
    "collapsed": false
   },
   "id": "30e44798f45a84c2"
  },
  {
   "cell_type": "code",
   "execution_count": 62,
   "outputs": [
    {
     "data": {
      "text/plain": "\u001B[1mModel: \"sequential_11\"\u001B[0m\n",
      "text/html": "<pre style=\"white-space:pre;overflow-x:auto;line-height:normal;font-family:Menlo,'DejaVu Sans Mono',consolas,'Courier New',monospace\"><span style=\"font-weight: bold\">Model: \"sequential_11\"</span>\n</pre>\n"
     },
     "metadata": {},
     "output_type": "display_data"
    },
    {
     "data": {
      "text/plain": "┏━━━━━━━━━━━━━━━━━━━━━━━━━━━━━━━━━┳━━━━━━━━━━━━━━━━━━━━━━━━━━━┳━━━━━━━━━━━━┓\n┃\u001B[1m \u001B[0m\u001B[1mLayer (type)                   \u001B[0m\u001B[1m \u001B[0m┃\u001B[1m \u001B[0m\u001B[1mOutput Shape             \u001B[0m\u001B[1m \u001B[0m┃\u001B[1m \u001B[0m\u001B[1m   Param #\u001B[0m\u001B[1m \u001B[0m┃\n┡━━━━━━━━━━━━━━━━━━━━━━━━━━━━━━━━━╇━━━━━━━━━━━━━━━━━━━━━━━━━━━╇━━━━━━━━━━━━┩\n│ hidden_layer_1 (\u001B[38;5;33mDense\u001B[0m)          │ (\u001B[38;5;45mNone\u001B[0m, \u001B[38;5;34m2\u001B[0m)                 │          \u001B[38;5;34m6\u001B[0m │\n├─────────────────────────────────┼───────────────────────────┼────────────┤\n│ dense_9 (\u001B[38;5;33mDense\u001B[0m)                 │ (\u001B[38;5;45mNone\u001B[0m, \u001B[38;5;34m1\u001B[0m)                 │          \u001B[38;5;34m3\u001B[0m │\n└─────────────────────────────────┴───────────────────────────┴────────────┘\n",
      "text/html": "<pre style=\"white-space:pre;overflow-x:auto;line-height:normal;font-family:Menlo,'DejaVu Sans Mono',consolas,'Courier New',monospace\">┏━━━━━━━━━━━━━━━━━━━━━━━━━━━━━━━━━┳━━━━━━━━━━━━━━━━━━━━━━━━━━━┳━━━━━━━━━━━━┓\n┃<span style=\"font-weight: bold\"> Layer (type)                    </span>┃<span style=\"font-weight: bold\"> Output Shape              </span>┃<span style=\"font-weight: bold\">    Param # </span>┃\n┡━━━━━━━━━━━━━━━━━━━━━━━━━━━━━━━━━╇━━━━━━━━━━━━━━━━━━━━━━━━━━━╇━━━━━━━━━━━━┩\n│ hidden_layer_1 (<span style=\"color: #0087ff; text-decoration-color: #0087ff\">Dense</span>)          │ (<span style=\"color: #00d7ff; text-decoration-color: #00d7ff\">None</span>, <span style=\"color: #00af00; text-decoration-color: #00af00\">2</span>)                 │          <span style=\"color: #00af00; text-decoration-color: #00af00\">6</span> │\n├─────────────────────────────────┼───────────────────────────┼────────────┤\n│ dense_9 (<span style=\"color: #0087ff; text-decoration-color: #0087ff\">Dense</span>)                 │ (<span style=\"color: #00d7ff; text-decoration-color: #00d7ff\">None</span>, <span style=\"color: #00af00; text-decoration-color: #00af00\">1</span>)                 │          <span style=\"color: #00af00; text-decoration-color: #00af00\">3</span> │\n└─────────────────────────────────┴───────────────────────────┴────────────┘\n</pre>\n"
     },
     "metadata": {},
     "output_type": "display_data"
    },
    {
     "data": {
      "text/plain": "\u001B[1m Total params: \u001B[0m\u001B[38;5;34m9\u001B[0m (36.00 B)\n",
      "text/html": "<pre style=\"white-space:pre;overflow-x:auto;line-height:normal;font-family:Menlo,'DejaVu Sans Mono',consolas,'Courier New',monospace\"><span style=\"font-weight: bold\"> Total params: </span><span style=\"color: #00af00; text-decoration-color: #00af00\">9</span> (36.00 B)\n</pre>\n"
     },
     "metadata": {},
     "output_type": "display_data"
    },
    {
     "data": {
      "text/plain": "\u001B[1m Trainable params: \u001B[0m\u001B[38;5;34m9\u001B[0m (36.00 B)\n",
      "text/html": "<pre style=\"white-space:pre;overflow-x:auto;line-height:normal;font-family:Menlo,'DejaVu Sans Mono',consolas,'Courier New',monospace\"><span style=\"font-weight: bold\"> Trainable params: </span><span style=\"color: #00af00; text-decoration-color: #00af00\">9</span> (36.00 B)\n</pre>\n"
     },
     "metadata": {},
     "output_type": "display_data"
    },
    {
     "data": {
      "text/plain": "\u001B[1m Non-trainable params: \u001B[0m\u001B[38;5;34m0\u001B[0m (0.00 B)\n",
      "text/html": "<pre style=\"white-space:pre;overflow-x:auto;line-height:normal;font-family:Menlo,'DejaVu Sans Mono',consolas,'Courier New',monospace\"><span style=\"font-weight: bold\"> Non-trainable params: </span><span style=\"color: #00af00; text-decoration-color: #00af00\">0</span> (0.00 B)\n</pre>\n"
     },
     "metadata": {},
     "output_type": "display_data"
    }
   ],
   "source": [
    "# Создадим модель\n",
    "model = tf.keras.models.Sequential([\n",
    "  tf.keras.layers.Dense(2, activation='relu', input_shape=(2,), name='hidden_layer_1'),\n",
    "  # tf.keras.layers.Dropout(0.2, name='dropout'),\n",
    "  # tf.keras.layers.Dense(10, name='hidden_layer_2')\n",
    "  tf.keras.layers.Dense(1)\n",
    "])\n",
    "model.summary()"
   ],
   "metadata": {
    "collapsed": false,
    "ExecuteTime": {
     "end_time": "2023-12-16T13:06:06.350624800Z",
     "start_time": "2023-12-16T13:06:06.286129400Z"
    }
   },
   "id": "b5c90a4e4806eb86"
  },
  {
   "cell_type": "code",
   "execution_count": 63,
   "outputs": [],
   "source": [
    "# Скомпилируем\n",
    "model.compile(\n",
    "    optimizer='Adam',\n",
    "    loss='mse',\n",
    "    metrics=['mean_absolute_error']\n",
    ")"
   ],
   "metadata": {
    "collapsed": false,
    "ExecuteTime": {
     "end_time": "2023-12-16T13:06:06.350624800Z",
     "start_time": "2023-12-16T13:06:06.314557Z"
    }
   },
   "id": "d74285907155859e"
  },
  {
   "cell_type": "code",
   "execution_count": 70,
   "outputs": [
    {
     "name": "stdout",
     "output_type": "stream",
     "text": [
      "Epoch 1/100\n",
      "\u001B[1m1/1\u001B[0m \u001B[32m━━━━━━━━━━━━━━━━━━━━\u001B[0m\u001B[37m\u001B[0m \u001B[1m0s\u001B[0m 405ms/step - loss: 0.1230 - mean_absolute_error: 0.3507 - val_loss: 2.9587 - val_mean_absolute_error: 1.7060\n",
      "Epoch 2/100\n",
      "\u001B[1m1/1\u001B[0m \u001B[32m━━━━━━━━━━━━━━━━━━━━\u001B[0m\u001B[37m\u001B[0m \u001B[1m0s\u001B[0m 60ms/step - loss: 0.1180 - mean_absolute_error: 0.3435 - val_loss: 2.9173 - val_mean_absolute_error: 1.6938\n",
      "Epoch 3/100\n",
      "\u001B[1m1/1\u001B[0m \u001B[32m━━━━━━━━━━━━━━━━━━━━\u001B[0m\u001B[37m\u001B[0m \u001B[1m0s\u001B[0m 59ms/step - loss: 0.1099 - mean_absolute_error: 0.3314 - val_loss: 2.8619 - val_mean_absolute_error: 1.6773\n",
      "Epoch 4/100\n",
      "\u001B[1m1/1\u001B[0m \u001B[32m━━━━━━━━━━━━━━━━━━━━\u001B[0m\u001B[37m\u001B[0m \u001B[1m0s\u001B[0m 62ms/step - loss: 0.0994 - mean_absolute_error: 0.3152 - val_loss: 2.7952 - val_mean_absolute_error: 1.6573\n",
      "Epoch 5/100\n",
      "\u001B[1m1/1\u001B[0m \u001B[32m━━━━━━━━━━━━━━━━━━━━\u001B[0m\u001B[37m\u001B[0m \u001B[1m0s\u001B[0m 59ms/step - loss: 0.0873 - mean_absolute_error: 0.2955 - val_loss: 2.7198 - val_mean_absolute_error: 1.6343\n",
      "Epoch 6/100\n",
      "\u001B[1m1/1\u001B[0m \u001B[32m━━━━━━━━━━━━━━━━━━━━\u001B[0m\u001B[37m\u001B[0m \u001B[1m0s\u001B[0m 58ms/step - loss: 0.0744 - mean_absolute_error: 0.2728 - val_loss: 2.6379 - val_mean_absolute_error: 1.6091\n",
      "Epoch 7/100\n",
      "\u001B[1m1/1\u001B[0m \u001B[32m━━━━━━━━━━━━━━━━━━━━\u001B[0m\u001B[37m\u001B[0m \u001B[1m0s\u001B[0m 62ms/step - loss: 0.0614 - mean_absolute_error: 0.2479 - val_loss: 2.5520 - val_mean_absolute_error: 1.5821\n",
      "Epoch 8/100\n",
      "\u001B[1m1/1\u001B[0m \u001B[32m━━━━━━━━━━━━━━━━━━━━\u001B[0m\u001B[37m\u001B[0m \u001B[1m0s\u001B[0m 62ms/step - loss: 0.0490 - mean_absolute_error: 0.2213 - val_loss: 2.4641 - val_mean_absolute_error: 1.5541\n",
      "Epoch 9/100\n",
      "\u001B[1m1/1\u001B[0m \u001B[32m━━━━━━━━━━━━━━━━━━━━\u001B[0m\u001B[37m\u001B[0m \u001B[1m0s\u001B[0m 61ms/step - loss: 0.0375 - mean_absolute_error: 0.1936 - val_loss: 2.3761 - val_mean_absolute_error: 1.5255\n",
      "Epoch 10/100\n",
      "\u001B[1m1/1\u001B[0m \u001B[32m━━━━━━━━━━━━━━━━━━━━\u001B[0m\u001B[37m\u001B[0m \u001B[1m0s\u001B[0m 58ms/step - loss: 0.0273 - mean_absolute_error: 0.1653 - val_loss: 2.2896 - val_mean_absolute_error: 1.4968\n",
      "Epoch 11/100\n",
      "\u001B[1m1/1\u001B[0m \u001B[32m━━━━━━━━━━━━━━━━━━━━\u001B[0m\u001B[37m\u001B[0m \u001B[1m0s\u001B[0m 82ms/step - loss: 0.0188 - mean_absolute_error: 0.1370 - val_loss: 2.2059 - val_mean_absolute_error: 1.4685\n",
      "Epoch 12/100\n",
      "\u001B[1m1/1\u001B[0m \u001B[32m━━━━━━━━━━━━━━━━━━━━\u001B[0m\u001B[37m\u001B[0m \u001B[1m0s\u001B[0m 70ms/step - loss: 0.0119 - mean_absolute_error: 0.1091 - val_loss: 2.1263 - val_mean_absolute_error: 1.4411\n",
      "Epoch 13/100\n",
      "\u001B[1m1/1\u001B[0m \u001B[32m━━━━━━━━━━━━━━━━━━━━\u001B[0m\u001B[37m\u001B[0m \u001B[1m0s\u001B[0m 67ms/step - loss: 0.0067 - mean_absolute_error: 0.0821 - val_loss: 2.0516 - val_mean_absolute_error: 1.4149\n",
      "Epoch 14/100\n",
      "\u001B[1m1/1\u001B[0m \u001B[32m━━━━━━━━━━━━━━━━━━━━\u001B[0m\u001B[37m\u001B[0m \u001B[1m0s\u001B[0m 59ms/step - loss: 0.0032 - mean_absolute_error: 0.0562 - val_loss: 1.9826 - val_mean_absolute_error: 1.3903\n",
      "Epoch 15/100\n",
      "\u001B[1m1/1\u001B[0m \u001B[32m━━━━━━━━━━━━━━━━━━━━\u001B[0m\u001B[37m\u001B[0m \u001B[1m0s\u001B[0m 65ms/step - loss: 0.0010 - mean_absolute_error: 0.0319 - val_loss: 1.9197 - val_mean_absolute_error: 1.3675\n",
      "Epoch 16/100\n",
      "\u001B[1m1/1\u001B[0m \u001B[32m━━━━━━━━━━━━━━━━━━━━\u001B[0m\u001B[37m\u001B[0m \u001B[1m0s\u001B[0m 60ms/step - loss: 8.7419e-05 - mean_absolute_error: 0.0093 - val_loss: 1.8632 - val_mean_absolute_error: 1.3466\n",
      "Epoch 17/100\n",
      "\u001B[1m1/1\u001B[0m \u001B[32m━━━━━━━━━━━━━━━━━━━━\u001B[0m\u001B[37m\u001B[0m \u001B[1m0s\u001B[0m 63ms/step - loss: 1.2547e-04 - mean_absolute_error: 0.0112 - val_loss: 1.8135 - val_mean_absolute_error: 1.3280\n",
      "Epoch 18/100\n",
      "\u001B[1m1/1\u001B[0m \u001B[32m━━━━━━━━━━━━━━━━━━━━\u001B[0m\u001B[37m\u001B[0m \u001B[1m0s\u001B[0m 64ms/step - loss: 8.7578e-04 - mean_absolute_error: 0.0296 - val_loss: 1.7705 - val_mean_absolute_error: 1.3117\n",
      "Epoch 19/100\n",
      "\u001B[1m1/1\u001B[0m \u001B[32m━━━━━━━━━━━━━━━━━━━━\u001B[0m\u001B[37m\u001B[0m \u001B[1m0s\u001B[0m 75ms/step - loss: 0.0021 - mean_absolute_error: 0.0457 - val_loss: 1.7341 - val_mean_absolute_error: 1.2977\n",
      "Epoch 20/100\n",
      "\u001B[1m1/1\u001B[0m \u001B[32m━━━━━━━━━━━━━━━━━━━━\u001B[0m\u001B[37m\u001B[0m \u001B[1m0s\u001B[0m 64ms/step - loss: 0.0035 - mean_absolute_error: 0.0595 - val_loss: 1.7043 - val_mean_absolute_error: 1.2862\n",
      "Epoch 21/100\n",
      "\u001B[1m1/1\u001B[0m \u001B[32m━━━━━━━━━━━━━━━━━━━━\u001B[0m\u001B[37m\u001B[0m \u001B[1m0s\u001B[0m 72ms/step - loss: 0.0050 - mean_absolute_error: 0.0709 - val_loss: 1.6807 - val_mean_absolute_error: 1.2770\n",
      "Epoch 22/100\n",
      "\u001B[1m1/1\u001B[0m \u001B[32m━━━━━━━━━━━━━━━━━━━━\u001B[0m\u001B[37m\u001B[0m \u001B[1m0s\u001B[0m 59ms/step - loss: 0.0064 - mean_absolute_error: 0.0800 - val_loss: 1.6632 - val_mean_absolute_error: 1.2701\n",
      "Epoch 23/100\n",
      "\u001B[1m1/1\u001B[0m \u001B[32m━━━━━━━━━━━━━━━━━━━━\u001B[0m\u001B[37m\u001B[0m \u001B[1m0s\u001B[0m 60ms/step - loss: 0.0075 - mean_absolute_error: 0.0868 - val_loss: 1.6514 - val_mean_absolute_error: 1.2654\n",
      "Epoch 24/100\n",
      "\u001B[1m1/1\u001B[0m \u001B[32m━━━━━━━━━━━━━━━━━━━━\u001B[0m\u001B[37m\u001B[0m \u001B[1m0s\u001B[0m 63ms/step - loss: 0.0083 - mean_absolute_error: 0.0914 - val_loss: 1.6450 - val_mean_absolute_error: 1.2629\n",
      "Epoch 25/100\n",
      "\u001B[1m1/1\u001B[0m \u001B[32m━━━━━━━━━━━━━━━━━━━━\u001B[0m\u001B[37m\u001B[0m \u001B[1m0s\u001B[0m 58ms/step - loss: 0.0088 - mean_absolute_error: 0.0939 - val_loss: 1.6434 - val_mean_absolute_error: 1.2622\n",
      "Epoch 26/100\n",
      "\u001B[1m1/1\u001B[0m \u001B[32m━━━━━━━━━━━━━━━━━━━━\u001B[0m\u001B[37m\u001B[0m \u001B[1m0s\u001B[0m 58ms/step - loss: 0.0089 - mean_absolute_error: 0.0945 - val_loss: 1.6463 - val_mean_absolute_error: 1.2634\n",
      "Epoch 27/100\n",
      "\u001B[1m1/1\u001B[0m \u001B[32m━━━━━━━━━━━━━━━━━━━━\u001B[0m\u001B[37m\u001B[0m \u001B[1m0s\u001B[0m 62ms/step - loss: 0.0087 - mean_absolute_error: 0.0934 - val_loss: 1.6533 - val_mean_absolute_error: 1.2661\n",
      "Epoch 28/100\n",
      "\u001B[1m1/1\u001B[0m \u001B[32m━━━━━━━━━━━━━━━━━━━━\u001B[0m\u001B[37m\u001B[0m \u001B[1m0s\u001B[0m 69ms/step - loss: 0.0082 - mean_absolute_error: 0.0907 - val_loss: 1.6637 - val_mean_absolute_error: 1.2703\n",
      "Epoch 29/100\n",
      "\u001B[1m1/1\u001B[0m \u001B[32m━━━━━━━━━━━━━━━━━━━━\u001B[0m\u001B[37m\u001B[0m \u001B[1m0s\u001B[0m 67ms/step - loss: 0.0075 - mean_absolute_error: 0.0866 - val_loss: 1.6773 - val_mean_absolute_error: 1.2756\n",
      "Epoch 30/100\n",
      "\u001B[1m1/1\u001B[0m \u001B[32m━━━━━━━━━━━━━━━━━━━━\u001B[0m\u001B[37m\u001B[0m \u001B[1m0s\u001B[0m 68ms/step - loss: 0.0066 - mean_absolute_error: 0.0813 - val_loss: 1.6935 - val_mean_absolute_error: 1.2820\n",
      "Epoch 31/100\n",
      "\u001B[1m1/1\u001B[0m \u001B[32m━━━━━━━━━━━━━━━━━━━━\u001B[0m\u001B[37m\u001B[0m \u001B[1m0s\u001B[0m 66ms/step - loss: 0.0056 - mean_absolute_error: 0.0750 - val_loss: 1.7117 - val_mean_absolute_error: 1.2891\n",
      "Epoch 32/100\n",
      "\u001B[1m1/1\u001B[0m \u001B[32m━━━━━━━━━━━━━━━━━━━━\u001B[0m\u001B[37m\u001B[0m \u001B[1m0s\u001B[0m 65ms/step - loss: 0.0046 - mean_absolute_error: 0.0680 - val_loss: 1.7315 - val_mean_absolute_error: 1.2967\n",
      "Epoch 33/100\n",
      "\u001B[1m1/1\u001B[0m \u001B[32m━━━━━━━━━━━━━━━━━━━━\u001B[0m\u001B[37m\u001B[0m \u001B[1m0s\u001B[0m 60ms/step - loss: 0.0037 - mean_absolute_error: 0.0604 - val_loss: 1.7525 - val_mean_absolute_error: 1.3048\n",
      "Epoch 34/100\n",
      "\u001B[1m1/1\u001B[0m \u001B[32m━━━━━━━━━━━━━━━━━━━━\u001B[0m\u001B[37m\u001B[0m \u001B[1m0s\u001B[0m 58ms/step - loss: 0.0028 - mean_absolute_error: 0.0525 - val_loss: 1.7741 - val_mean_absolute_error: 1.3131\n",
      "Epoch 35/100\n",
      "\u001B[1m1/1\u001B[0m \u001B[32m━━━━━━━━━━━━━━━━━━━━\u001B[0m\u001B[37m\u001B[0m \u001B[1m0s\u001B[0m 63ms/step - loss: 0.0020 - mean_absolute_error: 0.0443 - val_loss: 1.7960 - val_mean_absolute_error: 1.3214\n",
      "Epoch 36/100\n",
      "\u001B[1m1/1\u001B[0m \u001B[32m━━━━━━━━━━━━━━━━━━━━\u001B[0m\u001B[37m\u001B[0m \u001B[1m0s\u001B[0m 62ms/step - loss: 0.0013 - mean_absolute_error: 0.0361 - val_loss: 1.8177 - val_mean_absolute_error: 1.3296\n",
      "Epoch 37/100\n",
      "\u001B[1m1/1\u001B[0m \u001B[32m━━━━━━━━━━━━━━━━━━━━\u001B[0m\u001B[37m\u001B[0m \u001B[1m0s\u001B[0m 60ms/step - loss: 7.8420e-04 - mean_absolute_error: 0.0280 - val_loss: 1.8388 - val_mean_absolute_error: 1.3375\n",
      "Epoch 38/100\n",
      "\u001B[1m1/1\u001B[0m \u001B[32m━━━━━━━━━━━━━━━━━━━━\u001B[0m\u001B[37m\u001B[0m \u001B[1m0s\u001B[0m 66ms/step - loss: 4.0682e-04 - mean_absolute_error: 0.0202 - val_loss: 1.8591 - val_mean_absolute_error: 1.3451\n",
      "Epoch 39/100\n",
      "\u001B[1m1/1\u001B[0m \u001B[32m━━━━━━━━━━━━━━━━━━━━\u001B[0m\u001B[37m\u001B[0m \u001B[1m0s\u001B[0m 66ms/step - loss: 1.6165e-04 - mean_absolute_error: 0.0127 - val_loss: 1.8781 - val_mean_absolute_error: 1.3522\n",
      "Epoch 40/100\n",
      "\u001B[1m1/1\u001B[0m \u001B[32m━━━━━━━━━━━━━━━━━━━━\u001B[0m\u001B[37m\u001B[0m \u001B[1m0s\u001B[0m 62ms/step - loss: 3.2941e-05 - mean_absolute_error: 0.0057 - val_loss: 1.8956 - val_mean_absolute_error: 1.3586\n",
      "Epoch 41/100\n",
      "\u001B[1m1/1\u001B[0m \u001B[32m━━━━━━━━━━━━━━━━━━━━\u001B[0m\u001B[37m\u001B[0m \u001B[1m0s\u001B[0m 56ms/step - loss: 4.4836e-07 - mean_absolute_error: 6.6960e-04 - val_loss: 1.9116 - val_mean_absolute_error: 1.3645\n",
      "Epoch 42/100\n",
      "\u001B[1m1/1\u001B[0m \u001B[32m━━━━━━━━━━━━━━━━━━━━\u001B[0m\u001B[37m\u001B[0m \u001B[1m0s\u001B[0m 58ms/step - loss: 4.1586e-05 - mean_absolute_error: 0.0064 - val_loss: 1.9257 - val_mean_absolute_error: 1.3697\n",
      "Epoch 43/100\n",
      "\u001B[1m1/1\u001B[0m \u001B[32m━━━━━━━━━━━━━━━━━━━━\u001B[0m\u001B[37m\u001B[0m \u001B[1m0s\u001B[0m 61ms/step - loss: 1.3332e-04 - mean_absolute_error: 0.0115 - val_loss: 1.9378 - val_mean_absolute_error: 1.3741\n",
      "Epoch 44/100\n",
      "\u001B[1m1/1\u001B[0m \u001B[32m━━━━━━━━━━━━━━━━━━━━\u001B[0m\u001B[37m\u001B[0m \u001B[1m0s\u001B[0m 58ms/step - loss: 2.5382e-04 - mean_absolute_error: 0.0159 - val_loss: 1.9480 - val_mean_absolute_error: 1.3778\n",
      "Epoch 45/100\n",
      "\u001B[1m1/1\u001B[0m \u001B[32m━━━━━━━━━━━━━━━━━━━━\u001B[0m\u001B[37m\u001B[0m \u001B[1m0s\u001B[0m 57ms/step - loss: 3.8348e-04 - mean_absolute_error: 0.0196 - val_loss: 1.9561 - val_mean_absolute_error: 1.3808\n",
      "Epoch 46/100\n",
      "\u001B[1m1/1\u001B[0m \u001B[32m━━━━━━━━━━━━━━━━━━━━\u001B[0m\u001B[37m\u001B[0m \u001B[1m0s\u001B[0m 63ms/step - loss: 5.0652e-04 - mean_absolute_error: 0.0225 - val_loss: 1.9623 - val_mean_absolute_error: 1.3830\n",
      "Epoch 47/100\n",
      "\u001B[1m1/1\u001B[0m \u001B[32m━━━━━━━━━━━━━━━━━━━━\u001B[0m\u001B[37m\u001B[0m \u001B[1m0s\u001B[0m 61ms/step - loss: 6.1058e-04 - mean_absolute_error: 0.0247 - val_loss: 1.9665 - val_mean_absolute_error: 1.3845\n",
      "Epoch 48/100\n",
      "\u001B[1m1/1\u001B[0m \u001B[32m━━━━━━━━━━━━━━━━━━━━\u001B[0m\u001B[37m\u001B[0m \u001B[1m0s\u001B[0m 63ms/step - loss: 6.8762e-04 - mean_absolute_error: 0.0262 - val_loss: 1.9689 - val_mean_absolute_error: 1.3854\n",
      "Epoch 49/100\n",
      "\u001B[1m1/1\u001B[0m \u001B[32m━━━━━━━━━━━━━━━━━━━━\u001B[0m\u001B[37m\u001B[0m \u001B[1m0s\u001B[0m 56ms/step - loss: 7.3314e-04 - mean_absolute_error: 0.0271 - val_loss: 1.9696 - val_mean_absolute_error: 1.3856\n",
      "Epoch 50/100\n",
      "\u001B[1m1/1\u001B[0m \u001B[32m━━━━━━━━━━━━━━━━━━━━\u001B[0m\u001B[37m\u001B[0m \u001B[1m0s\u001B[0m 63ms/step - loss: 7.4618e-04 - mean_absolute_error: 0.0273 - val_loss: 1.9687 - val_mean_absolute_error: 1.3853\n",
      "Epoch 51/100\n",
      "\u001B[1m1/1\u001B[0m \u001B[32m━━━━━━━━━━━━━━━━━━━━\u001B[0m\u001B[37m\u001B[0m \u001B[1m0s\u001B[0m 58ms/step - loss: 7.2893e-04 - mean_absolute_error: 0.0270 - val_loss: 1.9664 - val_mean_absolute_error: 1.3845\n",
      "Epoch 52/100\n",
      "\u001B[1m1/1\u001B[0m \u001B[32m━━━━━━━━━━━━━━━━━━━━\u001B[0m\u001B[37m\u001B[0m \u001B[1m0s\u001B[0m 78ms/step - loss: 6.8528e-04 - mean_absolute_error: 0.0262 - val_loss: 1.9629 - val_mean_absolute_error: 1.3832\n",
      "Epoch 53/100\n",
      "\u001B[1m1/1\u001B[0m \u001B[32m━━━━━━━━━━━━━━━━━━━━\u001B[0m\u001B[37m\u001B[0m \u001B[1m0s\u001B[0m 62ms/step - loss: 6.2099e-04 - mean_absolute_error: 0.0249 - val_loss: 1.9583 - val_mean_absolute_error: 1.3815\n",
      "Epoch 54/100\n",
      "\u001B[1m1/1\u001B[0m \u001B[32m━━━━━━━━━━━━━━━━━━━━\u001B[0m\u001B[37m\u001B[0m \u001B[1m0s\u001B[0m 63ms/step - loss: 5.4240e-04 - mean_absolute_error: 0.0233 - val_loss: 1.9529 - val_mean_absolute_error: 1.3796\n",
      "Epoch 55/100\n",
      "\u001B[1m1/1\u001B[0m \u001B[32m━━━━━━━━━━━━━━━━━━━━\u001B[0m\u001B[37m\u001B[0m \u001B[1m0s\u001B[0m 66ms/step - loss: 4.5591e-04 - mean_absolute_error: 0.0214 - val_loss: 1.9469 - val_mean_absolute_error: 1.3774\n",
      "Epoch 56/100\n",
      "\u001B[1m1/1\u001B[0m \u001B[32m━━━━━━━━━━━━━━━━━━━━\u001B[0m\u001B[37m\u001B[0m \u001B[1m0s\u001B[0m 55ms/step - loss: 3.6772e-04 - mean_absolute_error: 0.0192 - val_loss: 1.9403 - val_mean_absolute_error: 1.3750\n",
      "Epoch 57/100\n",
      "\u001B[1m1/1\u001B[0m \u001B[32m━━━━━━━━━━━━━━━━━━━━\u001B[0m\u001B[37m\u001B[0m \u001B[1m0s\u001B[0m 52ms/step - loss: 2.8310e-04 - mean_absolute_error: 0.0168 - val_loss: 1.9335 - val_mean_absolute_error: 1.3725\n",
      "Epoch 58/100\n",
      "\u001B[1m1/1\u001B[0m \u001B[32m━━━━━━━━━━━━━━━━━━━━\u001B[0m\u001B[37m\u001B[0m \u001B[1m0s\u001B[0m 51ms/step - loss: 2.0634e-04 - mean_absolute_error: 0.0144 - val_loss: 1.9265 - val_mean_absolute_error: 1.3700\n",
      "Epoch 59/100\n",
      "\u001B[1m1/1\u001B[0m \u001B[32m━━━━━━━━━━━━━━━━━━━━\u001B[0m\u001B[37m\u001B[0m \u001B[1m0s\u001B[0m 50ms/step - loss: 1.4047e-04 - mean_absolute_error: 0.0119 - val_loss: 1.9195 - val_mean_absolute_error: 1.3674\n",
      "Epoch 60/100\n",
      "\u001B[1m1/1\u001B[0m \u001B[32m━━━━━━━━━━━━━━━━━━━━\u001B[0m\u001B[37m\u001B[0m \u001B[1m0s\u001B[0m 51ms/step - loss: 8.7234e-05 - mean_absolute_error: 0.0093 - val_loss: 1.9128 - val_mean_absolute_error: 1.3649\n",
      "Epoch 61/100\n",
      "\u001B[1m1/1\u001B[0m \u001B[32m━━━━━━━━━━━━━━━━━━━━\u001B[0m\u001B[37m\u001B[0m \u001B[1m0s\u001B[0m 54ms/step - loss: 4.7374e-05 - mean_absolute_error: 0.0069 - val_loss: 1.9063 - val_mean_absolute_error: 1.3625\n",
      "Epoch 62/100\n",
      "\u001B[1m1/1\u001B[0m \u001B[32m━━━━━━━━━━━━━━━━━━━━\u001B[0m\u001B[37m\u001B[0m \u001B[1m0s\u001B[0m 55ms/step - loss: 2.0469e-05 - mean_absolute_error: 0.0045 - val_loss: 1.9001 - val_mean_absolute_error: 1.3603\n",
      "Epoch 63/100\n",
      "\u001B[1m1/1\u001B[0m \u001B[32m━━━━━━━━━━━━━━━━━━━━\u001B[0m\u001B[37m\u001B[0m \u001B[1m0s\u001B[0m 55ms/step - loss: 5.3022e-06 - mean_absolute_error: 0.0023 - val_loss: 1.8945 - val_mean_absolute_error: 1.3582\n",
      "Epoch 64/100\n",
      "\u001B[1m1/1\u001B[0m \u001B[32m━━━━━━━━━━━━━━━━━━━━\u001B[0m\u001B[37m\u001B[0m \u001B[1m0s\u001B[0m 55ms/step - loss: 6.1719e-08 - mean_absolute_error: 2.4843e-04 - val_loss: 1.8894 - val_mean_absolute_error: 1.3563\n",
      "Epoch 65/100\n",
      "\u001B[1m1/1\u001B[0m \u001B[32m━━━━━━━━━━━━━━━━━━━━\u001B[0m\u001B[37m\u001B[0m \u001B[1m0s\u001B[0m 57ms/step - loss: 2.5999e-06 - mean_absolute_error: 0.0016 - val_loss: 1.8849 - val_mean_absolute_error: 1.3547\n",
      "Epoch 66/100\n",
      "\u001B[1m1/1\u001B[0m \u001B[32m━━━━━━━━━━━━━━━━━━━━\u001B[0m\u001B[37m\u001B[0m \u001B[1m0s\u001B[0m 54ms/step - loss: 1.0623e-05 - mean_absolute_error: 0.0033 - val_loss: 1.8810 - val_mean_absolute_error: 1.3532\n",
      "Epoch 67/100\n",
      "\u001B[1m1/1\u001B[0m \u001B[32m━━━━━━━━━━━━━━━━━━━━\u001B[0m\u001B[37m\u001B[0m \u001B[1m0s\u001B[0m 59ms/step - loss: 2.1877e-05 - mean_absolute_error: 0.0047 - val_loss: 1.8777 - val_mean_absolute_error: 1.3520\n",
      "Epoch 68/100\n",
      "\u001B[1m1/1\u001B[0m \u001B[32m━━━━━━━━━━━━━━━━━━━━\u001B[0m\u001B[37m\u001B[0m \u001B[1m0s\u001B[0m 61ms/step - loss: 3.4369e-05 - mean_absolute_error: 0.0059 - val_loss: 1.8751 - val_mean_absolute_error: 1.3511\n",
      "Epoch 69/100\n",
      "\u001B[1m1/1\u001B[0m \u001B[32m━━━━━━━━━━━━━━━━━━━━\u001B[0m\u001B[37m\u001B[0m \u001B[1m0s\u001B[0m 66ms/step - loss: 4.6367e-05 - mean_absolute_error: 0.0068 - val_loss: 1.8732 - val_mean_absolute_error: 1.3503\n",
      "Epoch 70/100\n",
      "\u001B[1m1/1\u001B[0m \u001B[32m━━━━━━━━━━━━━━━━━━━━\u001B[0m\u001B[37m\u001B[0m \u001B[1m0s\u001B[0m 62ms/step - loss: 5.6551e-05 - mean_absolute_error: 0.0075 - val_loss: 1.8719 - val_mean_absolute_error: 1.3499\n",
      "Epoch 71/100\n",
      "\u001B[1m1/1\u001B[0m \u001B[32m━━━━━━━━━━━━━━━━━━━━\u001B[0m\u001B[37m\u001B[0m \u001B[1m0s\u001B[0m 60ms/step - loss: 6.4082e-05 - mean_absolute_error: 0.0080 - val_loss: 1.8711 - val_mean_absolute_error: 1.3496\n",
      "Epoch 72/100\n",
      "\u001B[1m1/1\u001B[0m \u001B[32m━━━━━━━━━━━━━━━━━━━━\u001B[0m\u001B[37m\u001B[0m \u001B[1m0s\u001B[0m 56ms/step - loss: 6.8489e-05 - mean_absolute_error: 0.0083 - val_loss: 1.8710 - val_mean_absolute_error: 1.3495\n",
      "Epoch 73/100\n",
      "\u001B[1m1/1\u001B[0m \u001B[32m━━━━━━━━━━━━━━━━━━━━\u001B[0m\u001B[37m\u001B[0m \u001B[1m0s\u001B[0m 84ms/step - loss: 6.9585e-05 - mean_absolute_error: 0.0083 - val_loss: 1.8713 - val_mean_absolute_error: 1.3496\n",
      "Epoch 74/100\n",
      "\u001B[1m1/1\u001B[0m \u001B[32m━━━━━━━━━━━━━━━━━━━━\u001B[0m\u001B[37m\u001B[0m \u001B[1m0s\u001B[0m 61ms/step - loss: 6.7675e-05 - mean_absolute_error: 0.0082 - val_loss: 1.8720 - val_mean_absolute_error: 1.3499\n",
      "Epoch 75/100\n",
      "\u001B[1m1/1\u001B[0m \u001B[32m━━━━━━━━━━━━━━━━━━━━\u001B[0m\u001B[37m\u001B[0m \u001B[1m0s\u001B[0m 60ms/step - loss: 6.3158e-05 - mean_absolute_error: 0.0079 - val_loss: 1.8732 - val_mean_absolute_error: 1.3503\n",
      "Epoch 76/100\n",
      "\u001B[1m1/1\u001B[0m \u001B[32m━━━━━━━━━━━━━━━━━━━━\u001B[0m\u001B[37m\u001B[0m \u001B[1m0s\u001B[0m 59ms/step - loss: 5.6601e-05 - mean_absolute_error: 0.0075 - val_loss: 1.8747 - val_mean_absolute_error: 1.3509\n",
      "Epoch 77/100\n",
      "\u001B[1m1/1\u001B[0m \u001B[32m━━━━━━━━━━━━━━━━━━━━\u001B[0m\u001B[37m\u001B[0m \u001B[1m0s\u001B[0m 70ms/step - loss: 4.8725e-05 - mean_absolute_error: 0.0070 - val_loss: 1.8764 - val_mean_absolute_error: 1.3515\n",
      "Epoch 78/100\n",
      "\u001B[1m1/1\u001B[0m \u001B[32m━━━━━━━━━━━━━━━━━━━━\u001B[0m\u001B[37m\u001B[0m \u001B[1m0s\u001B[0m 61ms/step - loss: 4.0221e-05 - mean_absolute_error: 0.0063 - val_loss: 1.8784 - val_mean_absolute_error: 1.3523\n",
      "Epoch 79/100\n",
      "\u001B[1m1/1\u001B[0m \u001B[32m━━━━━━━━━━━━━━━━━━━━\u001B[0m\u001B[37m\u001B[0m \u001B[1m0s\u001B[0m 57ms/step - loss: 3.1660e-05 - mean_absolute_error: 0.0056 - val_loss: 1.8805 - val_mean_absolute_error: 1.3530\n",
      "Epoch 80/100\n",
      "\u001B[1m1/1\u001B[0m \u001B[32m━━━━━━━━━━━━━━━━━━━━\u001B[0m\u001B[37m\u001B[0m \u001B[1m0s\u001B[0m 61ms/step - loss: 2.3610e-05 - mean_absolute_error: 0.0049 - val_loss: 1.8827 - val_mean_absolute_error: 1.3538\n",
      "Epoch 81/100\n",
      "\u001B[1m1/1\u001B[0m \u001B[32m━━━━━━━━━━━━━━━━━━━━\u001B[0m\u001B[37m\u001B[0m \u001B[1m0s\u001B[0m 57ms/step - loss: 1.6500e-05 - mean_absolute_error: 0.0041 - val_loss: 1.8849 - val_mean_absolute_error: 1.3547\n",
      "Epoch 82/100\n",
      "\u001B[1m1/1\u001B[0m \u001B[32m━━━━━━━━━━━━━━━━━━━━\u001B[0m\u001B[37m\u001B[0m \u001B[1m0s\u001B[0m 58ms/step - loss: 1.0582e-05 - mean_absolute_error: 0.0033 - val_loss: 1.8871 - val_mean_absolute_error: 1.3555\n",
      "Epoch 83/100\n",
      "\u001B[1m1/1\u001B[0m \u001B[32m━━━━━━━━━━━━━━━━━━━━\u001B[0m\u001B[37m\u001B[0m \u001B[1m0s\u001B[0m 66ms/step - loss: 6.0098e-06 - mean_absolute_error: 0.0025 - val_loss: 1.8892 - val_mean_absolute_error: 1.3563\n",
      "Epoch 84/100\n",
      "\u001B[1m1/1\u001B[0m \u001B[32m━━━━━━━━━━━━━━━━━━━━\u001B[0m\u001B[37m\u001B[0m \u001B[1m0s\u001B[0m 57ms/step - loss: 2.8049e-06 - mean_absolute_error: 0.0017 - val_loss: 1.8912 - val_mean_absolute_error: 1.3570\n",
      "Epoch 85/100\n",
      "\u001B[1m1/1\u001B[0m \u001B[32m━━━━━━━━━━━━━━━━━━━━\u001B[0m\u001B[37m\u001B[0m \u001B[1m0s\u001B[0m 56ms/step - loss: 8.7917e-07 - mean_absolute_error: 9.3764e-04 - val_loss: 1.8931 - val_mean_absolute_error: 1.3577\n",
      "Epoch 86/100\n",
      "\u001B[1m1/1\u001B[0m \u001B[32m━━━━━━━━━━━━━━━━━━━━\u001B[0m\u001B[37m\u001B[0m \u001B[1m0s\u001B[0m 57ms/step - loss: 6.1926e-08 - mean_absolute_error: 2.4885e-04 - val_loss: 1.8948 - val_mean_absolute_error: 1.3583\n",
      "Epoch 87/100\n",
      "\u001B[1m1/1\u001B[0m \u001B[32m━━━━━━━━━━━━━━━━━━━━\u001B[0m\u001B[37m\u001B[0m \u001B[1m0s\u001B[0m 56ms/step - loss: 1.4128e-07 - mean_absolute_error: 3.7587e-04 - val_loss: 1.8964 - val_mean_absolute_error: 1.3589\n",
      "Epoch 88/100\n",
      "\u001B[1m1/1\u001B[0m \u001B[32m━━━━━━━━━━━━━━━━━━━━\u001B[0m\u001B[37m\u001B[0m \u001B[1m0s\u001B[0m 57ms/step - loss: 8.6636e-07 - mean_absolute_error: 9.3079e-04 - val_loss: 1.8977 - val_mean_absolute_error: 1.3594\n",
      "Epoch 89/100\n",
      "\u001B[1m1/1\u001B[0m \u001B[32m━━━━━━━━━━━━━━━━━━━━\u001B[0m\u001B[37m\u001B[0m \u001B[1m0s\u001B[0m 58ms/step - loss: 1.9945e-06 - mean_absolute_error: 0.0014 - val_loss: 1.8988 - val_mean_absolute_error: 1.3598\n",
      "Epoch 90/100\n",
      "\u001B[1m1/1\u001B[0m \u001B[32m━━━━━━━━━━━━━━━━━━━━\u001B[0m\u001B[37m\u001B[0m \u001B[1m0s\u001B[0m 55ms/step - loss: 3.2971e-06 - mean_absolute_error: 0.0018 - val_loss: 1.8997 - val_mean_absolute_error: 1.3601\n",
      "Epoch 91/100\n",
      "\u001B[1m1/1\u001B[0m \u001B[32m━━━━━━━━━━━━━━━━━━━━\u001B[0m\u001B[37m\u001B[0m \u001B[1m0s\u001B[0m 58ms/step - loss: 4.5716e-06 - mean_absolute_error: 0.0021 - val_loss: 1.9004 - val_mean_absolute_error: 1.3604\n",
      "Epoch 92/100\n",
      "\u001B[1m1/1\u001B[0m \u001B[32m━━━━━━━━━━━━━━━━━━━━\u001B[0m\u001B[37m\u001B[0m \u001B[1m0s\u001B[0m 62ms/step - loss: 5.6753e-06 - mean_absolute_error: 0.0024 - val_loss: 1.9008 - val_mean_absolute_error: 1.3605\n",
      "Epoch 93/100\n",
      "\u001B[1m1/1\u001B[0m \u001B[32m━━━━━━━━━━━━━━━━━━━━\u001B[0m\u001B[37m\u001B[0m \u001B[1m0s\u001B[0m 61ms/step - loss: 6.4904e-06 - mean_absolute_error: 0.0025 - val_loss: 1.9011 - val_mean_absolute_error: 1.3606\n",
      "Epoch 94/100\n",
      "\u001B[1m1/1\u001B[0m \u001B[32m━━━━━━━━━━━━━━━━━━━━\u001B[0m\u001B[37m\u001B[0m \u001B[1m0s\u001B[0m 56ms/step - loss: 6.9734e-06 - mean_absolute_error: 0.0026 - val_loss: 1.9011 - val_mean_absolute_error: 1.3607\n",
      "Epoch 95/100\n",
      "\u001B[1m1/1\u001B[0m \u001B[32m━━━━━━━━━━━━━━━━━━━━\u001B[0m\u001B[37m\u001B[0m \u001B[1m0s\u001B[0m 61ms/step - loss: 7.0961e-06 - mean_absolute_error: 0.0027 - val_loss: 1.9010 - val_mean_absolute_error: 1.3606\n",
      "Epoch 96/100\n",
      "\u001B[1m1/1\u001B[0m \u001B[32m━━━━━━━━━━━━━━━━━━━━\u001B[0m\u001B[37m\u001B[0m \u001B[1m0s\u001B[0m 61ms/step - loss: 6.8962e-06 - mean_absolute_error: 0.0026 - val_loss: 1.9008 - val_mean_absolute_error: 1.3605\n",
      "Epoch 97/100\n",
      "\u001B[1m1/1\u001B[0m \u001B[32m━━━━━━━━━━━━━━━━━━━━\u001B[0m\u001B[37m\u001B[0m \u001B[1m0s\u001B[0m 55ms/step - loss: 6.4068e-06 - mean_absolute_error: 0.0025 - val_loss: 1.9004 - val_mean_absolute_error: 1.3604\n",
      "Epoch 98/100\n",
      "\u001B[1m1/1\u001B[0m \u001B[32m━━━━━━━━━━━━━━━━━━━━\u001B[0m\u001B[37m\u001B[0m \u001B[1m0s\u001B[0m 55ms/step - loss: 5.7060e-06 - mean_absolute_error: 0.0024 - val_loss: 1.8999 - val_mean_absolute_error: 1.3602\n",
      "Epoch 99/100\n",
      "\u001B[1m1/1\u001B[0m \u001B[32m━━━━━━━━━━━━━━━━━━━━\u001B[0m\u001B[37m\u001B[0m \u001B[1m0s\u001B[0m 58ms/step - loss: 4.8610e-06 - mean_absolute_error: 0.0022 - val_loss: 1.8993 - val_mean_absolute_error: 1.3600\n",
      "Epoch 100/100\n",
      "\u001B[1m1/1\u001B[0m \u001B[32m━━━━━━━━━━━━━━━━━━━━\u001B[0m\u001B[37m\u001B[0m \u001B[1m0s\u001B[0m 57ms/step - loss: 3.9533e-06 - mean_absolute_error: 0.0020 - val_loss: 1.8986 - val_mean_absolute_error: 1.3597\n"
     ]
    },
    {
     "data": {
      "text/plain": "<keras.src.callbacks.history.History at 0x21ac3e87890>"
     },
     "execution_count": 70,
     "metadata": {},
     "output_type": "execute_result"
    }
   ],
   "source": [
    "X = np.array([\n",
    "    [36, 1],    # 36 градусов, есть солнце \n",
    "    [37, 1],    # 37 градусов, есть солнце\n",
    "    [36, 0],    # 36 градусов, нет солнца\n",
    "    [37, 0],    # 37 градусов, нет солнца\n",
    "])\n",
    " \n",
    "Y = np.array([\n",
    "    1, # открыты\n",
    "    0, # закрыты\n",
    "    0, # закрыты\n",
    "    0, # закрыты\n",
    "])\n",
    "# Обучим\n",
    "model.fit(\n",
    "    X, # Набор входных данных\n",
    "    Y, # Набор правильных ответов\n",
    "    validation_split=0.7, # Этот параметр автоматически выделит часть обучающего набора на валидационные данные. В данном случа 20%\n",
    "    epochs=100, # Процесс обучения завершится после 10 эпох\n",
    "    batch_size = 8 # Набор данных будет разбит на пакеты (батчи) по 8 элементов набора в каждом. \n",
    ")"
   ],
   "metadata": {
    "collapsed": false,
    "ExecuteTime": {
     "end_time": "2023-12-16T13:08:51.276086600Z",
     "start_time": "2023-12-16T13:08:44.382511Z"
    }
   },
   "id": "1f5871c03628c70"
  },
  {
   "cell_type": "code",
   "execution_count": 71,
   "outputs": [
    {
     "name": "stdout",
     "output_type": "stream",
     "text": [
      "\u001B[1m2/2\u001B[0m \u001B[32m━━━━━━━━━━━━━━━━━━━━\u001B[0m\u001B[37m\u001B[0m \u001B[1m0s\u001B[0m 3ms/step \n",
      "\u001B[1m2/2\u001B[0m \u001B[32m━━━━━━━━━━━━━━━━━━━━\u001B[0m\u001B[37m\u001B[0m \u001B[1m0s\u001B[0m 2ms/step \n"
     ]
    },
    {
     "data": {
      "text/plain": "<Figure size 640x480 with 1 Axes>",
      "image/png": "[encoded data removed]"
     },
     "metadata": {},
     "output_type": "display_data"
    }
   ],
   "source": [
    "sun = 0\n",
    "X_test = []\n",
    "for C in range(0, 51):\n",
    "  X_test.append([C, sun])\n",
    "X_test = np.array(X_test)\n",
    "feedforwardsNoSun = model.predict(X_test)\n",
    "sun = 1\n",
    "X_test = []\n",
    "for C in range(0, 51):\n",
    "  X_test.append([C, sun])\n",
    "X_test = np.array(X_test)\n",
    "feedforwardsSun = model.predict(X_test)\n",
    "\n",
    "fig, ax = plt.subplots()\n",
    "\n",
    "ax.plot([C for C in range(0, 51)], feedforwardsNoSun, linewidth=2.0, label='Нет солнца')\n",
    "\n",
    "ax.plot([C for C in range(0, 51)], feedforwardsSun, linewidth=2.0, label='Есть солнце')\n",
    "ax.legend()\n",
    "plt.show()"
   ],
   "metadata": {
    "collapsed": false,
    "ExecuteTime": {
     "end_time": "2023-12-16T13:08:51.541982600Z",
     "start_time": "2023-12-16T13:08:51.275087300Z"
    }
   },
   "id": "372b98a7ea02df1b"
  },
  {
   "cell_type": "code",
   "execution_count": 71,
   "outputs": [],
   "source": [],
   "metadata": {
    "collapsed": false,
    "ExecuteTime": {
     "end_time": "2023-12-16T13:08:51.541982600Z",
     "start_time": "2023-12-16T13:08:51.535440200Z"
    }
   },
   "id": "7caa4e979fcfa61"
  },
  {
   "cell_type": "code",
   "execution_count": 72,
   "outputs": [
    {
     "data": {
      "text/plain": "\u001B[1mModel: \"sequential_13\"\u001B[0m\n",
      "text/html": "<pre style=\"white-space:pre;overflow-x:auto;line-height:normal;font-family:Menlo,'DejaVu Sans Mono',consolas,'Courier New',monospace\"><span style=\"font-weight: bold\">Model: \"sequential_13\"</span>\n</pre>\n"
     },
     "metadata": {},
     "output_type": "display_data"
    },
    {
     "data": {
      "text/plain": "┏━━━━━━━━━━━━━━━━━━━━━━━━━━━━━━━━━┳━━━━━━━━━━━━━━━━━━━━━━━━━━━┳━━━━━━━━━━━━┓\n┃\u001B[1m \u001B[0m\u001B[1mLayer (type)                   \u001B[0m\u001B[1m \u001B[0m┃\u001B[1m \u001B[0m\u001B[1mOutput Shape             \u001B[0m\u001B[1m \u001B[0m┃\u001B[1m \u001B[0m\u001B[1m   Param #\u001B[0m\u001B[1m \u001B[0m┃\n┡━━━━━━━━━━━━━━━━━━━━━━━━━━━━━━━━━╇━━━━━━━━━━━━━━━━━━━━━━━━━━━╇━━━━━━━━━━━━┩\n│ hidden_layer_1 (\u001B[38;5;33mDense\u001B[0m)          │ (\u001B[38;5;45mNone\u001B[0m, \u001B[38;5;34m6\u001B[0m)                 │         \u001B[38;5;34m18\u001B[0m │\n├─────────────────────────────────┼───────────────────────────┼────────────┤\n│ dense_11 (\u001B[38;5;33mDense\u001B[0m)                │ (\u001B[38;5;45mNone\u001B[0m, \u001B[38;5;34m1\u001B[0m)                 │          \u001B[38;5;34m7\u001B[0m │\n└─────────────────────────────────┴───────────────────────────┴────────────┘\n",
      "text/html": "<pre style=\"white-space:pre;overflow-x:auto;line-height:normal;font-family:Menlo,'DejaVu Sans Mono',consolas,'Courier New',monospace\">┏━━━━━━━━━━━━━━━━━━━━━━━━━━━━━━━━━┳━━━━━━━━━━━━━━━━━━━━━━━━━━━┳━━━━━━━━━━━━┓\n┃<span style=\"font-weight: bold\"> Layer (type)                    </span>┃<span style=\"font-weight: bold\"> Output Shape              </span>┃<span style=\"font-weight: bold\">    Param # </span>┃\n┡━━━━━━━━━━━━━━━━━━━━━━━━━━━━━━━━━╇━━━━━━━━━━━━━━━━━━━━━━━━━━━╇━━━━━━━━━━━━┩\n│ hidden_layer_1 (<span style=\"color: #0087ff; text-decoration-color: #0087ff\">Dense</span>)          │ (<span style=\"color: #00d7ff; text-decoration-color: #00d7ff\">None</span>, <span style=\"color: #00af00; text-decoration-color: #00af00\">6</span>)                 │         <span style=\"color: #00af00; text-decoration-color: #00af00\">18</span> │\n├─────────────────────────────────┼───────────────────────────┼────────────┤\n│ dense_11 (<span style=\"color: #0087ff; text-decoration-color: #0087ff\">Dense</span>)                │ (<span style=\"color: #00d7ff; text-decoration-color: #00d7ff\">None</span>, <span style=\"color: #00af00; text-decoration-color: #00af00\">1</span>)                 │          <span style=\"color: #00af00; text-decoration-color: #00af00\">7</span> │\n└─────────────────────────────────┴───────────────────────────┴────────────┘\n</pre>\n"
     },
     "metadata": {},
     "output_type": "display_data"
    },
    {
     "data": {
      "text/plain": "\u001B[1m Total params: \u001B[0m\u001B[38;5;34m25\u001B[0m (100.00 B)\n",
      "text/html": "<pre style=\"white-space:pre;overflow-x:auto;line-height:normal;font-family:Menlo,'DejaVu Sans Mono',consolas,'Courier New',monospace\"><span style=\"font-weight: bold\"> Total params: </span><span style=\"color: #00af00; text-decoration-color: #00af00\">25</span> (100.00 B)\n</pre>\n"
     },
     "metadata": {},
     "output_type": "display_data"
    },
    {
     "data": {
      "text/plain": "\u001B[1m Trainable params: \u001B[0m\u001B[38;5;34m25\u001B[0m (100.00 B)\n",
      "text/html": "<pre style=\"white-space:pre;overflow-x:auto;line-height:normal;font-family:Menlo,'DejaVu Sans Mono',consolas,'Courier New',monospace\"><span style=\"font-weight: bold\"> Trainable params: </span><span style=\"color: #00af00; text-decoration-color: #00af00\">25</span> (100.00 B)\n</pre>\n"
     },
     "metadata": {},
     "output_type": "display_data"
    },
    {
     "data": {
      "text/plain": "\u001B[1m Non-trainable params: \u001B[0m\u001B[38;5;34m0\u001B[0m (0.00 B)\n",
      "text/html": "<pre style=\"white-space:pre;overflow-x:auto;line-height:normal;font-family:Menlo,'DejaVu Sans Mono',consolas,'Courier New',monospace\"><span style=\"font-weight: bold\"> Non-trainable params: </span><span style=\"color: #00af00; text-decoration-color: #00af00\">0</span> (0.00 B)\n</pre>\n"
     },
     "metadata": {},
     "output_type": "display_data"
    }
   ],
   "source": [
    "# Создадим модель\n",
    "model = tf.keras.models.Sequential([\n",
    "  tf.keras.layers.Dense(6, activation='relu', input_shape=(2,), name='hidden_layer_1'),\n",
    "  # tf.keras.layers.Dropout(0.2, name='dropout'),\n",
    "  # tf.keras.layers.Dense(10, name='hidden_layer_2')\n",
    "  tf.keras.layers.Dense(1)\n",
    "])\n",
    "model.summary()"
   ],
   "metadata": {
    "collapsed": false,
    "ExecuteTime": {
     "end_time": "2023-12-16T13:08:51.613877500Z",
     "start_time": "2023-12-16T13:08:51.538464500Z"
    }
   },
   "id": "557ac3e7e96d4b95"
  },
  {
   "cell_type": "code",
   "execution_count": 73,
   "outputs": [],
   "source": [
    "# Скомпилируем\n",
    "model.compile(\n",
    "    optimizer='Adam',\n",
    "    loss='mse',\n",
    "    metrics=['mean_absolute_error']\n",
    ")"
   ],
   "metadata": {
    "collapsed": false,
    "ExecuteTime": {
     "end_time": "2023-12-16T13:08:51.616791300Z",
     "start_time": "2023-12-16T13:08:51.566054900Z"
    }
   },
   "id": "ef4b059e76a1cac8"
  },
  {
   "cell_type": "code",
   "execution_count": 74,
   "outputs": [
    {
     "name": "stdout",
     "output_type": "stream",
     "text": [
      "Epoch 1/100\n",
      "\u001B[1m1/1\u001B[0m \u001B[32m━━━━━━━━━━━━━━━━━━━━\u001B[0m\u001B[37m\u001B[0m \u001B[1m1s\u001B[0m 1s/step - loss: 67.6821 - mean_absolute_error: 8.2130 - val_loss: 72.0511 - val_mean_absolute_error: 8.3718\n",
      "Epoch 2/100\n",
      "\u001B[1m1/1\u001B[0m \u001B[32m━━━━━━━━━━━━━━━━━━━━\u001B[0m\u001B[37m\u001B[0m \u001B[1m0s\u001B[0m 60ms/step - loss: 65.9409 - mean_absolute_error: 8.1067 - val_loss: 69.7445 - val_mean_absolute_error: 8.2361\n",
      "Epoch 3/100\n",
      "\u001B[1m1/1\u001B[0m \u001B[32m━━━━━━━━━━━━━━━━━━━━\u001B[0m\u001B[37m\u001B[0m \u001B[1m0s\u001B[0m 63ms/step - loss: 64.2240 - mean_absolute_error: 8.0006 - val_loss: 67.4784 - val_mean_absolute_error: 8.1005\n",
      "Epoch 4/100\n",
      "\u001B[1m1/1\u001B[0m \u001B[32m━━━━━━━━━━━━━━━━━━━━\u001B[0m\u001B[37m\u001B[0m \u001B[1m0s\u001B[0m 56ms/step - loss: 62.5318 - mean_absolute_error: 7.8946 - val_loss: 65.2531 - val_mean_absolute_error: 7.9651\n",
      "Epoch 5/100\n",
      "\u001B[1m1/1\u001B[0m \u001B[32m━━━━━━━━━━━━━━━━━━━━\u001B[0m\u001B[37m\u001B[0m \u001B[1m0s\u001B[0m 60ms/step - loss: 60.8647 - mean_absolute_error: 7.7887 - val_loss: 63.0691 - val_mean_absolute_error: 7.8299\n",
      "Epoch 6/100\n",
      "\u001B[1m1/1\u001B[0m \u001B[32m━━━━━━━━━━━━━━━━━━━━\u001B[0m\u001B[37m\u001B[0m \u001B[1m0s\u001B[0m 62ms/step - loss: 59.2230 - mean_absolute_error: 7.6831 - val_loss: 60.9268 - val_mean_absolute_error: 7.6950\n",
      "Epoch 7/100\n",
      "\u001B[1m1/1\u001B[0m \u001B[32m━━━━━━━━━━━━━━━━━━━━\u001B[0m\u001B[37m\u001B[0m \u001B[1m0s\u001B[0m 59ms/step - loss: 57.6070 - mean_absolute_error: 7.5776 - val_loss: 58.8264 - val_mean_absolute_error: 7.5604\n",
      "Epoch 8/100\n",
      "\u001B[1m1/1\u001B[0m \u001B[32m━━━━━━━━━━━━━━━━━━━━\u001B[0m\u001B[37m\u001B[0m \u001B[1m0s\u001B[0m 64ms/step - loss: 56.0169 - mean_absolute_error: 7.4724 - val_loss: 56.7682 - val_mean_absolute_error: 7.4262\n",
      "Epoch 9/100\n",
      "\u001B[1m1/1\u001B[0m \u001B[32m━━━━━━━━━━━━━━━━━━━━\u001B[0m\u001B[37m\u001B[0m \u001B[1m0s\u001B[0m 57ms/step - loss: 54.4531 - mean_absolute_error: 7.3675 - val_loss: 54.7525 - val_mean_absolute_error: 7.2923\n",
      "Epoch 10/100\n",
      "\u001B[1m1/1\u001B[0m \u001B[32m━━━━━━━━━━━━━━━━━━━━\u001B[0m\u001B[37m\u001B[0m \u001B[1m0s\u001B[0m 68ms/step - loss: 52.9157 - mean_absolute_error: 7.2628 - val_loss: 52.7794 - val_mean_absolute_error: 7.1588\n",
      "Epoch 11/100\n",
      "\u001B[1m1/1\u001B[0m \u001B[32m━━━━━━━━━━━━━━━━━━━━\u001B[0m\u001B[37m\u001B[0m \u001B[1m0s\u001B[0m 61ms/step - loss: 51.4050 - mean_absolute_error: 7.1585 - val_loss: 50.8492 - val_mean_absolute_error: 7.0258\n",
      "Epoch 12/100\n",
      "\u001B[1m1/1\u001B[0m \u001B[32m━━━━━━━━━━━━━━━━━━━━\u001B[0m\u001B[37m\u001B[0m \u001B[1m0s\u001B[0m 64ms/step - loss: 49.9211 - mean_absolute_error: 7.0545 - val_loss: 48.9619 - val_mean_absolute_error: 6.8933\n",
      "Epoch 13/100\n",
      "\u001B[1m1/1\u001B[0m \u001B[32m━━━━━━━━━━━━━━━━━━━━\u001B[0m\u001B[37m\u001B[0m \u001B[1m0s\u001B[0m 61ms/step - loss: 48.4642 - mean_absolute_error: 6.9509 - val_loss: 47.1176 - val_mean_absolute_error: 6.7613\n",
      "Epoch 14/100\n",
      "\u001B[1m1/1\u001B[0m \u001B[32m━━━━━━━━━━━━━━━━━━━━\u001B[0m\u001B[37m\u001B[0m \u001B[1m0s\u001B[0m 63ms/step - loss: 47.0344 - mean_absolute_error: 6.8477 - val_loss: 45.3163 - val_mean_absolute_error: 6.6298\n",
      "Epoch 15/100\n",
      "\u001B[1m1/1\u001B[0m \u001B[32m━━━━━━━━━━━━━━━━━━━━\u001B[0m\u001B[37m\u001B[0m \u001B[1m0s\u001B[0m 74ms/step - loss: 45.6318 - mean_absolute_error: 6.7449 - val_loss: 43.5581 - val_mean_absolute_error: 6.4989\n",
      "Epoch 16/100\n",
      "\u001B[1m1/1\u001B[0m \u001B[32m━━━━━━━━━━━━━━━━━━━━\u001B[0m\u001B[37m\u001B[0m \u001B[1m0s\u001B[0m 68ms/step - loss: 44.2564 - mean_absolute_error: 6.6426 - val_loss: 41.8428 - val_mean_absolute_error: 6.3686\n",
      "Epoch 17/100\n",
      "\u001B[1m1/1\u001B[0m \u001B[32m━━━━━━━━━━━━━━━━━━━━\u001B[0m\u001B[37m\u001B[0m \u001B[1m0s\u001B[0m 125ms/step - loss: 42.9084 - mean_absolute_error: 6.5408 - val_loss: 40.1704 - val_mean_absolute_error: 6.2389\n",
      "Epoch 18/100\n",
      "\u001B[1m1/1\u001B[0m \u001B[32m━━━━━━━━━━━━━━━━━━━━\u001B[0m\u001B[37m\u001B[0m \u001B[1m0s\u001B[0m 70ms/step - loss: 41.5877 - mean_absolute_error: 6.4394 - val_loss: 38.5407 - val_mean_absolute_error: 6.1099\n",
      "Epoch 19/100\n",
      "\u001B[1m1/1\u001B[0m \u001B[32m━━━━━━━━━━━━━━━━━━━━\u001B[0m\u001B[37m\u001B[0m \u001B[1m0s\u001B[0m 65ms/step - loss: 40.2944 - mean_absolute_error: 6.3386 - val_loss: 36.9536 - val_mean_absolute_error: 5.9816\n",
      "Epoch 20/100\n",
      "\u001B[1m1/1\u001B[0m \u001B[32m━━━━━━━━━━━━━━━━━━━━\u001B[0m\u001B[37m\u001B[0m \u001B[1m0s\u001B[0m 72ms/step - loss: 39.0283 - mean_absolute_error: 6.2384 - val_loss: 35.4088 - val_mean_absolute_error: 5.8541\n",
      "Epoch 21/100\n",
      "\u001B[1m1/1\u001B[0m \u001B[32m━━━━━━━━━━━━━━━━━━━━\u001B[0m\u001B[37m\u001B[0m \u001B[1m0s\u001B[0m 64ms/step - loss: 37.7895 - mean_absolute_error: 6.1387 - val_loss: 33.9062 - val_mean_absolute_error: 5.7272\n",
      "Epoch 22/100\n",
      "\u001B[1m1/1\u001B[0m \u001B[32m━━━━━━━━━━━━━━━━━━━━\u001B[0m\u001B[37m\u001B[0m \u001B[1m0s\u001B[0m 97ms/step - loss: 36.5778 - mean_absolute_error: 6.0395 - val_loss: 32.4454 - val_mean_absolute_error: 5.6012\n",
      "Epoch 23/100\n",
      "\u001B[1m1/1\u001B[0m \u001B[32m━━━━━━━━━━━━━━━━━━━━\u001B[0m\u001B[37m\u001B[0m \u001B[1m0s\u001B[0m 70ms/step - loss: 35.3932 - mean_absolute_error: 5.9410 - val_loss: 31.0261 - val_mean_absolute_error: 5.4760\n",
      "Epoch 24/100\n",
      "\u001B[1m1/1\u001B[0m \u001B[32m━━━━━━━━━━━━━━━━━━━━\u001B[0m\u001B[37m\u001B[0m \u001B[1m0s\u001B[0m 63ms/step - loss: 34.2355 - mean_absolute_error: 5.8432 - val_loss: 29.6479 - val_mean_absolute_error: 5.3516\n",
      "Epoch 25/100\n",
      "\u001B[1m1/1\u001B[0m \u001B[32m━━━━━━━━━━━━━━━━━━━━\u001B[0m\u001B[37m\u001B[0m \u001B[1m0s\u001B[0m 74ms/step - loss: 33.1046 - mean_absolute_error: 5.7460 - val_loss: 28.3106 - val_mean_absolute_error: 5.2280\n",
      "Epoch 26/100\n",
      "\u001B[1m1/1\u001B[0m \u001B[32m━━━━━━━━━━━━━━━━━━━━\u001B[0m\u001B[37m\u001B[0m \u001B[1m0s\u001B[0m 61ms/step - loss: 32.0002 - mean_absolute_error: 5.6494 - val_loss: 27.0136 - val_mean_absolute_error: 5.1054\n",
      "Epoch 27/100\n",
      "\u001B[1m1/1\u001B[0m \u001B[32m━━━━━━━━━━━━━━━━━━━━\u001B[0m\u001B[37m\u001B[0m \u001B[1m0s\u001B[0m 57ms/step - loss: 30.9223 - mean_absolute_error: 5.5536 - val_loss: 25.7566 - val_mean_absolute_error: 4.9836\n",
      "Epoch 28/100\n",
      "\u001B[1m1/1\u001B[0m \u001B[32m━━━━━━━━━━━━━━━━━━━━\u001B[0m\u001B[37m\u001B[0m \u001B[1m0s\u001B[0m 58ms/step - loss: 29.8706 - mean_absolute_error: 5.4584 - val_loss: 24.5391 - val_mean_absolute_error: 4.8627\n",
      "Epoch 29/100\n",
      "\u001B[1m1/1\u001B[0m \u001B[32m━━━━━━━━━━━━━━━━━━━━\u001B[0m\u001B[37m\u001B[0m \u001B[1m0s\u001B[0m 58ms/step - loss: 28.8449 - mean_absolute_error: 5.3640 - val_loss: 23.3606 - val_mean_absolute_error: 4.7428\n",
      "Epoch 30/100\n",
      "\u001B[1m1/1\u001B[0m \u001B[32m━━━━━━━━━━━━━━━━━━━━\u001B[0m\u001B[37m\u001B[0m \u001B[1m0s\u001B[0m 71ms/step - loss: 27.8449 - mean_absolute_error: 5.2703 - val_loss: 22.2205 - val_mean_absolute_error: 4.6239\n",
      "Epoch 31/100\n",
      "\u001B[1m1/1\u001B[0m \u001B[32m━━━━━━━━━━━━━━━━━━━━\u001B[0m\u001B[37m\u001B[0m \u001B[1m0s\u001B[0m 76ms/step - loss: 26.8704 - mean_absolute_error: 5.1774 - val_loss: 21.1185 - val_mean_absolute_error: 4.5059\n",
      "Epoch 32/100\n",
      "\u001B[1m1/1\u001B[0m \u001B[32m━━━━━━━━━━━━━━━━━━━━\u001B[0m\u001B[37m\u001B[0m \u001B[1m0s\u001B[0m 59ms/step - loss: 25.9211 - mean_absolute_error: 5.0852 - val_loss: 20.0538 - val_mean_absolute_error: 4.3889\n",
      "Epoch 33/100\n",
      "\u001B[1m1/1\u001B[0m \u001B[32m━━━━━━━━━━━━━━━━━━━━\u001B[0m\u001B[37m\u001B[0m \u001B[1m0s\u001B[0m 59ms/step - loss: 24.9967 - mean_absolute_error: 4.9938 - val_loss: 19.0260 - val_mean_absolute_error: 4.2730\n",
      "Epoch 34/100\n",
      "\u001B[1m1/1\u001B[0m \u001B[32m━━━━━━━━━━━━━━━━━━━━\u001B[0m\u001B[37m\u001B[0m \u001B[1m0s\u001B[0m 57ms/step - loss: 24.0969 - mean_absolute_error: 4.9032 - val_loss: 18.0345 - val_mean_absolute_error: 4.1580\n",
      "Epoch 35/100\n",
      "\u001B[1m1/1\u001B[0m \u001B[32m━━━━━━━━━━━━━━━━━━━━\u001B[0m\u001B[37m\u001B[0m \u001B[1m0s\u001B[0m 61ms/step - loss: 23.2215 - mean_absolute_error: 4.8134 - val_loss: 17.0786 - val_mean_absolute_error: 4.0441\n",
      "Epoch 36/100\n",
      "\u001B[1m1/1\u001B[0m \u001B[32m━━━━━━━━━━━━━━━━━━━━\u001B[0m\u001B[37m\u001B[0m \u001B[1m0s\u001B[0m 60ms/step - loss: 22.3699 - mean_absolute_error: 4.7245 - val_loss: 16.1577 - val_mean_absolute_error: 3.9313\n",
      "Epoch 37/100\n",
      "\u001B[1m1/1\u001B[0m \u001B[32m━━━━━━━━━━━━━━━━━━━━\u001B[0m\u001B[37m\u001B[0m \u001B[1m0s\u001B[0m 67ms/step - loss: 21.5421 - mean_absolute_error: 4.6363 - val_loss: 15.2713 - val_mean_absolute_error: 3.8196\n",
      "Epoch 38/100\n",
      "\u001B[1m1/1\u001B[0m \u001B[32m━━━━━━━━━━━━━━━━━━━━\u001B[0m\u001B[37m\u001B[0m \u001B[1m0s\u001B[0m 62ms/step - loss: 20.7375 - mean_absolute_error: 4.5490 - val_loss: 14.4187 - val_mean_absolute_error: 3.7089\n",
      "Epoch 39/100\n",
      "\u001B[1m1/1\u001B[0m \u001B[32m━━━━━━━━━━━━━━━━━━━━\u001B[0m\u001B[37m\u001B[0m \u001B[1m0s\u001B[0m 60ms/step - loss: 19.9558 - mean_absolute_error: 4.4626 - val_loss: 13.5992 - val_mean_absolute_error: 3.5993\n",
      "Epoch 40/100\n",
      "\u001B[1m1/1\u001B[0m \u001B[32m━━━━━━━━━━━━━━━━━━━━\u001B[0m\u001B[37m\u001B[0m \u001B[1m0s\u001B[0m 66ms/step - loss: 19.1968 - mean_absolute_error: 4.3770 - val_loss: 12.8121 - val_mean_absolute_error: 3.4908\n",
      "Epoch 41/100\n",
      "\u001B[1m1/1\u001B[0m \u001B[32m━━━━━━━━━━━━━━━━━━━━\u001B[0m\u001B[37m\u001B[0m \u001B[1m0s\u001B[0m 61ms/step - loss: 18.4599 - mean_absolute_error: 4.2923 - val_loss: 12.0569 - val_mean_absolute_error: 3.3835\n",
      "Epoch 42/100\n",
      "\u001B[1m1/1\u001B[0m \u001B[32m━━━━━━━━━━━━━━━━━━━━\u001B[0m\u001B[37m\u001B[0m \u001B[1m0s\u001B[0m 62ms/step - loss: 17.7449 - mean_absolute_error: 4.2084 - val_loss: 11.3329 - val_mean_absolute_error: 3.2773\n",
      "Epoch 43/100\n",
      "\u001B[1m1/1\u001B[0m \u001B[32m━━━━━━━━━━━━━━━━━━━━\u001B[0m\u001B[37m\u001B[0m \u001B[1m0s\u001B[0m 61ms/step - loss: 17.0514 - mean_absolute_error: 4.1255 - val_loss: 10.6393 - val_mean_absolute_error: 3.1722\n",
      "Epoch 44/100\n",
      "\u001B[1m1/1\u001B[0m \u001B[32m━━━━━━━━━━━━━━━━━━━━\u001B[0m\u001B[37m\u001B[0m \u001B[1m0s\u001B[0m 56ms/step - loss: 16.3789 - mean_absolute_error: 4.0434 - val_loss: 9.9755 - val_mean_absolute_error: 3.0683\n",
      "Epoch 45/100\n",
      "\u001B[1m1/1\u001B[0m \u001B[32m━━━━━━━━━━━━━━━━━━━━\u001B[0m\u001B[37m\u001B[0m \u001B[1m0s\u001B[0m 61ms/step - loss: 15.7271 - mean_absolute_error: 3.9623 - val_loss: 9.3408 - val_mean_absolute_error: 2.9655\n",
      "Epoch 46/100\n",
      "\u001B[1m1/1\u001B[0m \u001B[32m━━━━━━━━━━━━━━━━━━━━\u001B[0m\u001B[37m\u001B[0m \u001B[1m0s\u001B[0m 62ms/step - loss: 15.0956 - mean_absolute_error: 3.8820 - val_loss: 8.7345 - val_mean_absolute_error: 2.8639\n",
      "Epoch 47/100\n",
      "\u001B[1m1/1\u001B[0m \u001B[32m━━━━━━━━━━━━━━━━━━━━\u001B[0m\u001B[37m\u001B[0m \u001B[1m0s\u001B[0m 60ms/step - loss: 14.4840 - mean_absolute_error: 3.8027 - val_loss: 8.1560 - val_mean_absolute_error: 2.7634\n",
      "Epoch 48/100\n",
      "\u001B[1m1/1\u001B[0m \u001B[32m━━━━━━━━━━━━━━━━━━━━\u001B[0m\u001B[37m\u001B[0m \u001B[1m0s\u001B[0m 59ms/step - loss: 13.8919 - mean_absolute_error: 3.7242 - val_loss: 7.6046 - val_mean_absolute_error: 2.6642\n",
      "Epoch 49/100\n",
      "\u001B[1m1/1\u001B[0m \u001B[32m━━━━━━━━━━━━━━━━━━━━\u001B[0m\u001B[37m\u001B[0m \u001B[1m0s\u001B[0m 60ms/step - loss: 13.3190 - mean_absolute_error: 3.6467 - val_loss: 7.0795 - val_mean_absolute_error: 2.5661\n",
      "Epoch 50/100\n",
      "\u001B[1m1/1\u001B[0m \u001B[32m━━━━━━━━━━━━━━━━━━━━\u001B[0m\u001B[37m\u001B[0m \u001B[1m0s\u001B[0m 60ms/step - loss: 12.7648 - mean_absolute_error: 3.5701 - val_loss: 6.5801 - val_mean_absolute_error: 2.4692\n",
      "Epoch 51/100\n",
      "\u001B[1m1/1\u001B[0m \u001B[32m━━━━━━━━━━━━━━━━━━━━\u001B[0m\u001B[37m\u001B[0m \u001B[1m0s\u001B[0m 59ms/step - loss: 12.2288 - mean_absolute_error: 3.4945 - val_loss: 6.1056 - val_mean_absolute_error: 2.3735\n",
      "Epoch 52/100\n",
      "\u001B[1m1/1\u001B[0m \u001B[32m━━━━━━━━━━━━━━━━━━━━\u001B[0m\u001B[37m\u001B[0m \u001B[1m0s\u001B[0m 65ms/step - loss: 11.7108 - mean_absolute_error: 3.4198 - val_loss: 5.6556 - val_mean_absolute_error: 2.2790\n",
      "Epoch 53/100\n",
      "\u001B[1m1/1\u001B[0m \u001B[32m━━━━━━━━━━━━━━━━━━━━\u001B[0m\u001B[37m\u001B[0m \u001B[1m0s\u001B[0m 61ms/step - loss: 11.2103 - mean_absolute_error: 3.3460 - val_loss: 5.2291 - val_mean_absolute_error: 2.1857\n",
      "Epoch 54/100\n",
      "\u001B[1m1/1\u001B[0m \u001B[32m━━━━━━━━━━━━━━━━━━━━\u001B[0m\u001B[37m\u001B[0m \u001B[1m0s\u001B[0m 59ms/step - loss: 10.7270 - mean_absolute_error: 3.2732 - val_loss: 4.8257 - val_mean_absolute_error: 2.0936\n",
      "Epoch 55/100\n",
      "\u001B[1m1/1\u001B[0m \u001B[32m━━━━━━━━━━━━━━━━━━━━\u001B[0m\u001B[37m\u001B[0m \u001B[1m0s\u001B[0m 63ms/step - loss: 10.2604 - mean_absolute_error: 3.2013 - val_loss: 4.4445 - val_mean_absolute_error: 2.0028\n",
      "Epoch 56/100\n",
      "\u001B[1m1/1\u001B[0m \u001B[32m━━━━━━━━━━━━━━━━━━━━\u001B[0m\u001B[37m\u001B[0m \u001B[1m0s\u001B[0m 64ms/step - loss: 9.8101 - mean_absolute_error: 3.1304 - val_loss: 4.0850 - val_mean_absolute_error: 1.9131\n",
      "Epoch 57/100\n",
      "\u001B[1m1/1\u001B[0m \u001B[32m━━━━━━━━━━━━━━━━━━━━\u001B[0m\u001B[37m\u001B[0m \u001B[1m0s\u001B[0m 55ms/step - loss: 9.3757 - mean_absolute_error: 3.0604 - val_loss: 3.7465 - val_mean_absolute_error: 1.8246\n",
      "Epoch 58/100\n",
      "\u001B[1m1/1\u001B[0m \u001B[32m━━━━━━━━━━━━━━━━━━━━\u001B[0m\u001B[37m\u001B[0m \u001B[1m0s\u001B[0m 56ms/step - loss: 8.9569 - mean_absolute_error: 2.9913 - val_loss: 3.4283 - val_mean_absolute_error: 1.7374\n",
      "Epoch 59/100\n",
      "\u001B[1m1/1\u001B[0m \u001B[32m━━━━━━━━━━━━━━━━━━━━\u001B[0m\u001B[37m\u001B[0m \u001B[1m0s\u001B[0m 55ms/step - loss: 8.5533 - mean_absolute_error: 2.9232 - val_loss: 3.1298 - val_mean_absolute_error: 1.6514\n",
      "Epoch 60/100\n",
      "\u001B[1m1/1\u001B[0m \u001B[32m━━━━━━━━━━━━━━━━━━━━\u001B[0m\u001B[37m\u001B[0m \u001B[1m0s\u001B[0m 53ms/step - loss: 8.1644 - mean_absolute_error: 2.8561 - val_loss: 2.8503 - val_mean_absolute_error: 1.5666\n",
      "Epoch 61/100\n",
      "\u001B[1m1/1\u001B[0m \u001B[32m━━━━━━━━━━━━━━━━━━━━\u001B[0m\u001B[37m\u001B[0m \u001B[1m0s\u001B[0m 54ms/step - loss: 7.7900 - mean_absolute_error: 2.7899 - val_loss: 2.5893 - val_mean_absolute_error: 1.4830\n",
      "Epoch 62/100\n",
      "\u001B[1m1/1\u001B[0m \u001B[32m━━━━━━━━━━━━━━━━━━━━\u001B[0m\u001B[37m\u001B[0m \u001B[1m0s\u001B[0m 58ms/step - loss: 7.4295 - mean_absolute_error: 2.7247 - val_loss: 2.3460 - val_mean_absolute_error: 1.4007\n",
      "Epoch 63/100\n",
      "\u001B[1m1/1\u001B[0m \u001B[32m━━━━━━━━━━━━━━━━━━━━\u001B[0m\u001B[37m\u001B[0m \u001B[1m0s\u001B[0m 63ms/step - loss: 7.0828 - mean_absolute_error: 2.6604 - val_loss: 2.1199 - val_mean_absolute_error: 1.3196\n",
      "Epoch 64/100\n",
      "\u001B[1m1/1\u001B[0m \u001B[32m━━━━━━━━━━━━━━━━━━━━\u001B[0m\u001B[37m\u001B[0m \u001B[1m0s\u001B[0m 56ms/step - loss: 6.7493 - mean_absolute_error: 2.5971 - val_loss: 1.9104 - val_mean_absolute_error: 1.2396\n",
      "Epoch 65/100\n",
      "\u001B[1m1/1\u001B[0m \u001B[32m━━━━━━━━━━━━━━━━━━━━\u001B[0m\u001B[37m\u001B[0m \u001B[1m0s\u001B[0m 54ms/step - loss: 6.4286 - mean_absolute_error: 2.5347 - val_loss: 1.7169 - val_mean_absolute_error: 1.1610\n",
      "Epoch 66/100\n",
      "\u001B[1m1/1\u001B[0m \u001B[32m━━━━━━━━━━━━━━━━━━━━\u001B[0m\u001B[37m\u001B[0m \u001B[1m0s\u001B[0m 53ms/step - loss: 6.1206 - mean_absolute_error: 2.4733 - val_loss: 1.5387 - val_mean_absolute_error: 1.0835\n",
      "Epoch 67/100\n",
      "\u001B[1m1/1\u001B[0m \u001B[32m━━━━━━━━━━━━━━━━━━━━\u001B[0m\u001B[37m\u001B[0m \u001B[1m0s\u001B[0m 55ms/step - loss: 5.8247 - mean_absolute_error: 2.4129 - val_loss: 1.3753 - val_mean_absolute_error: 1.0072\n",
      "Epoch 68/100\n",
      "\u001B[1m1/1\u001B[0m \u001B[32m━━━━━━━━━━━━━━━━━━━━\u001B[0m\u001B[37m\u001B[0m \u001B[1m0s\u001B[0m 56ms/step - loss: 5.5407 - mean_absolute_error: 2.3534 - val_loss: 1.2261 - val_mean_absolute_error: 0.9322\n",
      "Epoch 69/100\n",
      "\u001B[1m1/1\u001B[0m \u001B[32m━━━━━━━━━━━━━━━━━━━━\u001B[0m\u001B[37m\u001B[0m \u001B[1m0s\u001B[0m 52ms/step - loss: 5.2681 - mean_absolute_error: 2.2948 - val_loss: 1.0905 - val_mean_absolute_error: 0.8584\n",
      "Epoch 70/100\n",
      "\u001B[1m1/1\u001B[0m \u001B[32m━━━━━━━━━━━━━━━━━━━━\u001B[0m\u001B[37m\u001B[0m \u001B[1m0s\u001B[0m 59ms/step - loss: 5.0067 - mean_absolute_error: 2.2372 - val_loss: 0.9681 - val_mean_absolute_error: 0.7858\n",
      "Epoch 71/100\n",
      "\u001B[1m1/1\u001B[0m \u001B[32m━━━━━━━━━━━━━━━━━━━━\u001B[0m\u001B[37m\u001B[0m \u001B[1m0s\u001B[0m 55ms/step - loss: 4.7561 - mean_absolute_error: 2.1806 - val_loss: 0.8582 - val_mean_absolute_error: 0.7144\n",
      "Epoch 72/100\n",
      "\u001B[1m1/1\u001B[0m \u001B[32m━━━━━━━━━━━━━━━━━━━━\u001B[0m\u001B[37m\u001B[0m \u001B[1m0s\u001B[0m 61ms/step - loss: 4.5160 - mean_absolute_error: 2.1249 - val_loss: 0.7603 - val_mean_absolute_error: 0.6441\n",
      "Epoch 73/100\n",
      "\u001B[1m1/1\u001B[0m \u001B[32m━━━━━━━━━━━━━━━━━━━━\u001B[0m\u001B[37m\u001B[0m \u001B[1m0s\u001B[0m 58ms/step - loss: 4.2860 - mean_absolute_error: 2.0701 - val_loss: 0.6740 - val_mean_absolute_error: 0.5751\n",
      "Epoch 74/100\n",
      "\u001B[1m1/1\u001B[0m \u001B[32m━━━━━━━━━━━━━━━━━━━━\u001B[0m\u001B[37m\u001B[0m \u001B[1m0s\u001B[0m 59ms/step - loss: 4.0658 - mean_absolute_error: 2.0163 - val_loss: 0.5986 - val_mean_absolute_error: 0.5073\n",
      "Epoch 75/100\n",
      "\u001B[1m1/1\u001B[0m \u001B[32m━━━━━━━━━━━━━━━━━━━━\u001B[0m\u001B[37m\u001B[0m \u001B[1m0s\u001B[0m 60ms/step - loss: 3.8551 - mean_absolute_error: 1.9634 - val_loss: 0.5337 - val_mean_absolute_error: 0.4412\n",
      "Epoch 76/100\n",
      "\u001B[1m1/1\u001B[0m \u001B[32m━━━━━━━━━━━━━━━━━━━━\u001B[0m\u001B[37m\u001B[0m \u001B[1m0s\u001B[0m 62ms/step - loss: 3.6537 - mean_absolute_error: 1.9114 - val_loss: 0.4788 - val_mean_absolute_error: 0.3909\n",
      "Epoch 77/100\n",
      "\u001B[1m1/1\u001B[0m \u001B[32m━━━━━━━━━━━━━━━━━━━━\u001B[0m\u001B[37m\u001B[0m \u001B[1m0s\u001B[0m 61ms/step - loss: 3.4611 - mean_absolute_error: 1.8604 - val_loss: 0.4334 - val_mean_absolute_error: 0.3877\n",
      "Epoch 78/100\n",
      "\u001B[1m1/1\u001B[0m \u001B[32m━━━━━━━━━━━━━━━━━━━━\u001B[0m\u001B[37m\u001B[0m \u001B[1m0s\u001B[0m 66ms/step - loss: 3.2770 - mean_absolute_error: 1.8102 - val_loss: 0.3970 - val_mean_absolute_error: 0.4080\n",
      "Epoch 79/100\n",
      "\u001B[1m1/1\u001B[0m \u001B[32m━━━━━━━━━━━━━━━━━━━━\u001B[0m\u001B[37m\u001B[0m \u001B[1m0s\u001B[0m 61ms/step - loss: 3.1013 - mean_absolute_error: 1.7610 - val_loss: 0.3692 - val_mean_absolute_error: 0.4279\n",
      "Epoch 80/100\n",
      "\u001B[1m1/1\u001B[0m \u001B[32m━━━━━━━━━━━━━━━━━━━━\u001B[0m\u001B[37m\u001B[0m \u001B[1m0s\u001B[0m 58ms/step - loss: 2.9336 - mean_absolute_error: 1.7128 - val_loss: 0.3496 - val_mean_absolute_error: 0.4474\n",
      "Epoch 81/100\n",
      "\u001B[1m1/1\u001B[0m \u001B[32m━━━━━━━━━━━━━━━━━━━━\u001B[0m\u001B[37m\u001B[0m \u001B[1m0s\u001B[0m 56ms/step - loss: 2.7735 - mean_absolute_error: 1.6654 - val_loss: 0.3377 - val_mean_absolute_error: 0.4666\n",
      "Epoch 82/100\n",
      "\u001B[1m1/1\u001B[0m \u001B[32m━━━━━━━━━━━━━━━━━━━━\u001B[0m\u001B[37m\u001B[0m \u001B[1m0s\u001B[0m 64ms/step - loss: 2.6210 - mean_absolute_error: 1.6189 - val_loss: 0.3330 - val_mean_absolute_error: 0.4854\n",
      "Epoch 83/100\n",
      "\u001B[1m1/1\u001B[0m \u001B[32m━━━━━━━━━━━━━━━━━━━━\u001B[0m\u001B[37m\u001B[0m \u001B[1m0s\u001B[0m 59ms/step - loss: 2.4755 - mean_absolute_error: 1.5734 - val_loss: 0.3352 - val_mean_absolute_error: 0.5038\n",
      "Epoch 84/100\n",
      "\u001B[1m1/1\u001B[0m \u001B[32m━━━━━━━━━━━━━━━━━━━━\u001B[0m\u001B[37m\u001B[0m \u001B[1m0s\u001B[0m 82ms/step - loss: 2.3370 - mean_absolute_error: 1.5287 - val_loss: 0.3439 - val_mean_absolute_error: 0.5218\n",
      "Epoch 85/100\n",
      "\u001B[1m1/1\u001B[0m \u001B[32m━━━━━━━━━━━━━━━━━━━━\u001B[0m\u001B[37m\u001B[0m \u001B[1m0s\u001B[0m 61ms/step - loss: 2.2052 - mean_absolute_error: 1.4849 - val_loss: 0.3587 - val_mean_absolute_error: 0.5395\n",
      "Epoch 86/100\n",
      "\u001B[1m1/1\u001B[0m \u001B[32m━━━━━━━━━━━━━━━━━━━━\u001B[0m\u001B[37m\u001B[0m \u001B[1m0s\u001B[0m 60ms/step - loss: 2.0797 - mean_absolute_error: 1.4420 - val_loss: 0.3792 - val_mean_absolute_error: 0.5569\n",
      "Epoch 87/100\n",
      "\u001B[1m1/1\u001B[0m \u001B[32m━━━━━━━━━━━━━━━━━━━━\u001B[0m\u001B[37m\u001B[0m \u001B[1m0s\u001B[0m 55ms/step - loss: 1.9604 - mean_absolute_error: 1.4000 - val_loss: 0.4050 - val_mean_absolute_error: 0.5739\n",
      "Epoch 88/100\n",
      "\u001B[1m1/1\u001B[0m \u001B[32m━━━━━━━━━━━━━━━━━━━━\u001B[0m\u001B[37m\u001B[0m \u001B[1m0s\u001B[0m 57ms/step - loss: 1.8470 - mean_absolute_error: 1.3588 - val_loss: 0.4357 - val_mean_absolute_error: 0.5905\n",
      "Epoch 89/100\n",
      "\u001B[1m1/1\u001B[0m \u001B[32m━━━━━━━━━━━━━━━━━━━━\u001B[0m\u001B[37m\u001B[0m \u001B[1m0s\u001B[0m 52ms/step - loss: 1.7393 - mean_absolute_error: 1.3185 - val_loss: 0.4712 - val_mean_absolute_error: 0.6068\n",
      "Epoch 90/100\n",
      "\u001B[1m1/1\u001B[0m \u001B[32m━━━━━━━━━━━━━━━━━━━━\u001B[0m\u001B[37m\u001B[0m \u001B[1m0s\u001B[0m 49ms/step - loss: 1.6370 - mean_absolute_error: 1.2790 - val_loss: 0.5109 - val_mean_absolute_error: 0.6231\n",
      "Epoch 91/100\n",
      "\u001B[1m1/1\u001B[0m \u001B[32m━━━━━━━━━━━━━━━━━━━━\u001B[0m\u001B[37m\u001B[0m \u001B[1m0s\u001B[0m 54ms/step - loss: 1.5399 - mean_absolute_error: 1.2404 - val_loss: 0.5546 - val_mean_absolute_error: 0.6468\n",
      "Epoch 92/100\n",
      "\u001B[1m1/1\u001B[0m \u001B[32m━━━━━━━━━━━━━━━━━━━━\u001B[0m\u001B[37m\u001B[0m \u001B[1m0s\u001B[0m 56ms/step - loss: 1.4479 - mean_absolute_error: 1.2027 - val_loss: 0.6020 - val_mean_absolute_error: 0.6783\n",
      "Epoch 93/100\n",
      "\u001B[1m1/1\u001B[0m \u001B[32m━━━━━━━━━━━━━━━━━━━━\u001B[0m\u001B[37m\u001B[0m \u001B[1m0s\u001B[0m 52ms/step - loss: 1.3606 - mean_absolute_error: 1.1658 - val_loss: 0.6528 - val_mean_absolute_error: 0.7156\n",
      "Epoch 94/100\n",
      "\u001B[1m1/1\u001B[0m \u001B[32m━━━━━━━━━━━━━━━━━━━━\u001B[0m\u001B[37m\u001B[0m \u001B[1m0s\u001B[0m 58ms/step - loss: 1.2780 - mean_absolute_error: 1.1297 - val_loss: 0.7066 - val_mean_absolute_error: 0.7546\n",
      "Epoch 95/100\n",
      "\u001B[1m1/1\u001B[0m \u001B[32m━━━━━━━━━━━━━━━━━━━━\u001B[0m\u001B[37m\u001B[0m \u001B[1m0s\u001B[0m 57ms/step - loss: 1.1997 - mean_absolute_error: 1.0944 - val_loss: 0.7633 - val_mean_absolute_error: 0.7928\n",
      "Epoch 96/100\n",
      "\u001B[1m1/1\u001B[0m \u001B[32m━━━━━━━━━━━━━━━━━━━━\u001B[0m\u001B[37m\u001B[0m \u001B[1m0s\u001B[0m 58ms/step - loss: 1.1257 - mean_absolute_error: 1.0599 - val_loss: 0.8225 - val_mean_absolute_error: 0.8300\n",
      "Epoch 97/100\n",
      "\u001B[1m1/1\u001B[0m \u001B[32m━━━━━━━━━━━━━━━━━━━━\u001B[0m\u001B[37m\u001B[0m \u001B[1m0s\u001B[0m 50ms/step - loss: 1.0556 - mean_absolute_error: 1.0262 - val_loss: 0.8841 - val_mean_absolute_error: 0.8664\n",
      "Epoch 98/100\n",
      "\u001B[1m1/1\u001B[0m \u001B[32m━━━━━━━━━━━━━━━━━━━━\u001B[0m\u001B[37m\u001B[0m \u001B[1m0s\u001B[0m 52ms/step - loss: 0.9895 - mean_absolute_error: 0.9933 - val_loss: 0.9476 - val_mean_absolute_error: 0.9019\n",
      "Epoch 99/100\n",
      "\u001B[1m1/1\u001B[0m \u001B[32m━━━━━━━━━━━━━━━━━━━━\u001B[0m\u001B[37m\u001B[0m \u001B[1m0s\u001B[0m 54ms/step - loss: 0.9270 - mean_absolute_error: 0.9612 - val_loss: 1.0130 - val_mean_absolute_error: 0.9366\n",
      "Epoch 100/100\n",
      "\u001B[1m1/1\u001B[0m \u001B[32m━━━━━━━━━━━━━━━━━━━━\u001B[0m\u001B[37m\u001B[0m \u001B[1m0s\u001B[0m 52ms/step - loss: 0.8680 - mean_absolute_error: 0.9299 - val_loss: 1.0800 - val_mean_absolute_error: 0.9704\n"
     ]
    },
    {
     "data": {
      "text/plain": "<keras.src.callbacks.history.History at 0x21aca207890>"
     },
     "execution_count": 74,
     "metadata": {},
     "output_type": "execute_result"
    }
   ],
   "source": [
    "dataset = [[[i, 1], 1 if i <= 36 else 0] for i in range(26, 47)]\n",
    "dataset += [[[i, 0], 0] for i in range(26, 47)]\n",
    "X = np.array([i[0] for i in dataset])\n",
    "Y = np.array([i[1] for i in dataset])\n",
    "# Обучим\n",
    "model.fit(\n",
    "    X, # Набор входных данных\n",
    "    Y, # Набор правильных ответов\n",
    "    validation_split=0.8, # Этот параметр автоматически выделит часть обучающего набора на валидационные данные. В данном случа 20%\n",
    "    epochs=100, # Процесс обучения завершится после 10 эпох\n",
    "    batch_size = 8 # Набор данных будет разбит на пакеты (батчи) по 8 элементов набора в каждом. \n",
    ")"
   ],
   "metadata": {
    "collapsed": false,
    "ExecuteTime": {
     "end_time": "2023-12-16T13:08:59.161071200Z",
     "start_time": "2023-12-16T13:08:51.575955500Z"
    }
   },
   "id": "1f502ea8c9ce5824"
  },
  {
   "cell_type": "code",
   "execution_count": 75,
   "outputs": [
    {
     "name": "stdout",
     "output_type": "stream",
     "text": [
      "\u001B[1m2/2\u001B[0m \u001B[32m━━━━━━━━━━━━━━━━━━━━\u001B[0m\u001B[37m\u001B[0m \u001B[1m0s\u001B[0m 22ms/step\n",
      "\u001B[1m2/2\u001B[0m \u001B[32m━━━━━━━━━━━━━━━━━━━━\u001B[0m\u001B[37m\u001B[0m \u001B[1m0s\u001B[0m 2ms/step \n"
     ]
    },
    {
     "data": {
      "text/plain": "<Figure size 640x480 with 1 Axes>",
      "image/png": "[encoded data removed]"
     },
     "metadata": {},
     "output_type": "display_data"
    }
   ],
   "source": [
    "sun = 0\n",
    "X_test = []\n",
    "for C in range(0, 51):\n",
    "  X_test.append([C, sun])\n",
    "X_test = np.array(X_test)\n",
    "feedforwardsNoSun = model.predict(X_test)\n",
    "sun = 1\n",
    "X_test = []\n",
    "for C in range(0, 51):\n",
    "  X_test.append([C, sun])\n",
    "X_test = np.array(X_test)\n",
    "feedforwardsSun = model.predict(X_test)\n",
    "\n",
    "fig, ax = plt.subplots()\n",
    "\n",
    "ax.plot([C for C in range(0, 51)], feedforwardsNoSun, linewidth=2.0, label='Нет солнца')\n",
    "\n",
    "ax.plot([C for C in range(0, 51)], feedforwardsSun, linewidth=2.0, label='Есть солнце')\n",
    "ax.legend()\n",
    "plt.show()"
   ],
   "metadata": {
    "collapsed": false,
    "ExecuteTime": {
     "end_time": "2023-12-16T13:08:59.420033Z",
     "start_time": "2023-12-16T13:08:59.131763300Z"
    }
   },
   "id": "3b03b82168c7934e"
  },
  {
   "cell_type": "code",
   "execution_count": 75,
   "outputs": [],
   "source": [],
   "metadata": {
    "collapsed": false,
    "ExecuteTime": {
     "end_time": "2023-12-16T13:08:59.421286200Z",
     "start_time": "2023-12-16T13:08:59.412024700Z"
    }
   },
   "id": "76513367d45547a3"
  },
  {
   "cell_type": "code",
   "execution_count": 76,
   "outputs": [
    {
     "data": {
      "text/plain": "\u001B[1mModel: \"sequential_14\"\u001B[0m\n",
      "text/html": "<pre style=\"white-space:pre;overflow-x:auto;line-height:normal;font-family:Menlo,'DejaVu Sans Mono',consolas,'Courier New',monospace\"><span style=\"font-weight: bold\">Model: \"sequential_14\"</span>\n</pre>\n"
     },
     "metadata": {},
     "output_type": "display_data"
    },
    {
     "data": {
      "text/plain": "┏━━━━━━━━━━━━━━━━━━━━━━━━━━━━━━━━━┳━━━━━━━━━━━━━━━━━━━━━━━━━━━┳━━━━━━━━━━━━┓\n┃\u001B[1m \u001B[0m\u001B[1mLayer (type)                   \u001B[0m\u001B[1m \u001B[0m┃\u001B[1m \u001B[0m\u001B[1mOutput Shape             \u001B[0m\u001B[1m \u001B[0m┃\u001B[1m \u001B[0m\u001B[1m   Param #\u001B[0m\u001B[1m \u001B[0m┃\n┡━━━━━━━━━━━━━━━━━━━━━━━━━━━━━━━━━╇━━━━━━━━━━━━━━━━━━━━━━━━━━━╇━━━━━━━━━━━━┩\n│ hidden_layer_1 (\u001B[38;5;33mDense\u001B[0m)          │ (\u001B[38;5;45mNone\u001B[0m, \u001B[38;5;34m6\u001B[0m)                 │         \u001B[38;5;34m18\u001B[0m │\n├─────────────────────────────────┼───────────────────────────┼────────────┤\n│ dense_12 (\u001B[38;5;33mDense\u001B[0m)                │ (\u001B[38;5;45mNone\u001B[0m, \u001B[38;5;34m1\u001B[0m)                 │          \u001B[38;5;34m7\u001B[0m │\n└─────────────────────────────────┴───────────────────────────┴────────────┘\n",
      "text/html": "<pre style=\"white-space:pre;overflow-x:auto;line-height:normal;font-family:Menlo,'DejaVu Sans Mono',consolas,'Courier New',monospace\">┏━━━━━━━━━━━━━━━━━━━━━━━━━━━━━━━━━┳━━━━━━━━━━━━━━━━━━━━━━━━━━━┳━━━━━━━━━━━━┓\n┃<span style=\"font-weight: bold\"> Layer (type)                    </span>┃<span style=\"font-weight: bold\"> Output Shape              </span>┃<span style=\"font-weight: bold\">    Param # </span>┃\n┡━━━━━━━━━━━━━━━━━━━━━━━━━━━━━━━━━╇━━━━━━━━━━━━━━━━━━━━━━━━━━━╇━━━━━━━━━━━━┩\n│ hidden_layer_1 (<span style=\"color: #0087ff; text-decoration-color: #0087ff\">Dense</span>)          │ (<span style=\"color: #00d7ff; text-decoration-color: #00d7ff\">None</span>, <span style=\"color: #00af00; text-decoration-color: #00af00\">6</span>)                 │         <span style=\"color: #00af00; text-decoration-color: #00af00\">18</span> │\n├─────────────────────────────────┼───────────────────────────┼────────────┤\n│ dense_12 (<span style=\"color: #0087ff; text-decoration-color: #0087ff\">Dense</span>)                │ (<span style=\"color: #00d7ff; text-decoration-color: #00d7ff\">None</span>, <span style=\"color: #00af00; text-decoration-color: #00af00\">1</span>)                 │          <span style=\"color: #00af00; text-decoration-color: #00af00\">7</span> │\n└─────────────────────────────────┴───────────────────────────┴────────────┘\n</pre>\n"
     },
     "metadata": {},
     "output_type": "display_data"
    },
    {
     "data": {
      "text/plain": "\u001B[1m Total params: \u001B[0m\u001B[38;5;34m25\u001B[0m (100.00 B)\n",
      "text/html": "<pre style=\"white-space:pre;overflow-x:auto;line-height:normal;font-family:Menlo,'DejaVu Sans Mono',consolas,'Courier New',monospace\"><span style=\"font-weight: bold\"> Total params: </span><span style=\"color: #00af00; text-decoration-color: #00af00\">25</span> (100.00 B)\n</pre>\n"
     },
     "metadata": {},
     "output_type": "display_data"
    },
    {
     "data": {
      "text/plain": "\u001B[1m Trainable params: \u001B[0m\u001B[38;5;34m25\u001B[0m (100.00 B)\n",
      "text/html": "<pre style=\"white-space:pre;overflow-x:auto;line-height:normal;font-family:Menlo,'DejaVu Sans Mono',consolas,'Courier New',monospace\"><span style=\"font-weight: bold\"> Trainable params: </span><span style=\"color: #00af00; text-decoration-color: #00af00\">25</span> (100.00 B)\n</pre>\n"
     },
     "metadata": {},
     "output_type": "display_data"
    },
    {
     "data": {
      "text/plain": "\u001B[1m Non-trainable params: \u001B[0m\u001B[38;5;34m0\u001B[0m (0.00 B)\n",
      "text/html": "<pre style=\"white-space:pre;overflow-x:auto;line-height:normal;font-family:Menlo,'DejaVu Sans Mono',consolas,'Courier New',monospace\"><span style=\"font-weight: bold\"> Non-trainable params: </span><span style=\"color: #00af00; text-decoration-color: #00af00\">0</span> (0.00 B)\n</pre>\n"
     },
     "metadata": {},
     "output_type": "display_data"
    }
   ],
   "source": [
    "# Создадим модель\n",
    "model = tf.keras.models.Sequential([\n",
    "  tf.keras.layers.Dense(6, activation='relu', input_shape=(2,), name='hidden_layer_1'),\n",
    "  # tf.keras.layers.Dropout(0.2, name='dropout'),\n",
    "  # tf.keras.layers.Dense(10, name='hidden_layer_2')\n",
    "  tf.keras.layers.Dense(1)\n",
    "])\n",
    "model.summary()"
   ],
   "metadata": {
    "collapsed": false,
    "ExecuteTime": {
     "end_time": "2023-12-16T13:08:59.476798900Z",
     "start_time": "2023-12-16T13:08:59.416033100Z"
    }
   },
   "id": "610450531fe52987"
  },
  {
   "cell_type": "code",
   "execution_count": 77,
   "outputs": [],
   "source": [
    "# Скомпилируем\n",
    "model.compile(\n",
    "    optimizer='Adam',\n",
    "    loss='mse',\n",
    "    metrics=['mean_absolute_error']\n",
    ")"
   ],
   "metadata": {
    "collapsed": false,
    "ExecuteTime": {
     "end_time": "2023-12-16T13:08:59.476798900Z",
     "start_time": "2023-12-16T13:08:59.442846600Z"
    }
   },
   "id": "91a3d4c763dbc057"
  },
  {
   "cell_type": "code",
   "execution_count": 78,
   "outputs": [
    {
     "name": "stdout",
     "output_type": "stream",
     "text": [
      "Epoch 1/100\n",
      "\u001B[1m1/1\u001B[0m \u001B[32m━━━━━━━━━━━━━━━━━━━━\u001B[0m\u001B[37m\u001B[0m \u001B[1m1s\u001B[0m 751ms/step - loss: 6.2939 - mean_absolute_error: 2.5065 - val_loss: 3.3503 - val_mean_absolute_error: 1.7937\n",
      "Epoch 2/100\n",
      "\u001B[1m1/1\u001B[0m \u001B[32m━━━━━━━━━━━━━━━━━━━━\u001B[0m\u001B[37m\u001B[0m \u001B[1m0s\u001B[0m 56ms/step - loss: 5.8058 - mean_absolute_error: 2.4075 - val_loss: 2.8981 - val_mean_absolute_error: 1.6653\n",
      "Epoch 3/100\n",
      "\u001B[1m1/1\u001B[0m \u001B[32m━━━━━━━━━━━━━━━━━━━━\u001B[0m\u001B[37m\u001B[0m \u001B[1m0s\u001B[0m 64ms/step - loss: 5.3380 - mean_absolute_error: 2.3086 - val_loss: 2.4805 - val_mean_absolute_error: 1.5373\n",
      "Epoch 4/100\n",
      "\u001B[1m1/1\u001B[0m \u001B[32m━━━━━━━━━━━━━━━━━━━━\u001B[0m\u001B[37m\u001B[0m \u001B[1m0s\u001B[0m 59ms/step - loss: 4.8908 - mean_absolute_error: 2.2099 - val_loss: 2.0976 - val_mean_absolute_error: 1.4096\n",
      "Epoch 5/100\n",
      "\u001B[1m1/1\u001B[0m \u001B[32m━━━━━━━━━━━━━━━━━━━━\u001B[0m\u001B[37m\u001B[0m \u001B[1m0s\u001B[0m 54ms/step - loss: 4.4645 - mean_absolute_error: 2.1115 - val_loss: 1.7495 - val_mean_absolute_error: 1.2824\n",
      "Epoch 6/100\n",
      "\u001B[1m1/1\u001B[0m \u001B[32m━━━━━━━━━━━━━━━━━━━━\u001B[0m\u001B[37m\u001B[0m \u001B[1m0s\u001B[0m 53ms/step - loss: 4.0594 - mean_absolute_error: 2.0136 - val_loss: 1.4359 - val_mean_absolute_error: 1.1560\n",
      "Epoch 7/100\n",
      "\u001B[1m1/1\u001B[0m \u001B[32m━━━━━━━━━━━━━━━━━━━━\u001B[0m\u001B[37m\u001B[0m \u001B[1m0s\u001B[0m 54ms/step - loss: 3.6755 - mean_absolute_error: 1.9161 - val_loss: 1.1568 - val_mean_absolute_error: 1.0303\n",
      "Epoch 8/100\n",
      "\u001B[1m1/1\u001B[0m \u001B[32m━━━━━━━━━━━━━━━━━━━━\u001B[0m\u001B[37m\u001B[0m \u001B[1m0s\u001B[0m 52ms/step - loss: 3.3130 - mean_absolute_error: 1.8193 - val_loss: 0.9118 - val_mean_absolute_error: 0.9057\n",
      "Epoch 9/100\n",
      "\u001B[1m1/1\u001B[0m \u001B[32m━━━━━━━━━━━━━━━━━━━━\u001B[0m\u001B[37m\u001B[0m \u001B[1m0s\u001B[0m 53ms/step - loss: 2.9719 - mean_absolute_error: 1.7233 - val_loss: 0.7003 - val_mean_absolute_error: 0.7821\n",
      "Epoch 10/100\n",
      "\u001B[1m1/1\u001B[0m \u001B[32m━━━━━━━━━━━━━━━━━━━━\u001B[0m\u001B[37m\u001B[0m \u001B[1m0s\u001B[0m 54ms/step - loss: 2.6523 - mean_absolute_error: 1.6281 - val_loss: 0.5218 - val_mean_absolute_error: 0.6599\n",
      "Epoch 11/100\n",
      "\u001B[1m1/1\u001B[0m \u001B[32m━━━━━━━━━━━━━━━━━━━━\u001B[0m\u001B[37m\u001B[0m \u001B[1m0s\u001B[0m 56ms/step - loss: 2.3540 - mean_absolute_error: 1.5339 - val_loss: 0.3755 - val_mean_absolute_error: 0.5391\n",
      "Epoch 12/100\n",
      "\u001B[1m1/1\u001B[0m \u001B[32m━━━━━━━━━━━━━━━━━━━━\u001B[0m\u001B[37m\u001B[0m \u001B[1m0s\u001B[0m 59ms/step - loss: 2.0767 - mean_absolute_error: 1.4408 - val_loss: 0.2604 - val_mean_absolute_error: 0.4200\n",
      "Epoch 13/100\n",
      "\u001B[1m1/1\u001B[0m \u001B[32m━━━━━━━━━━━━━━━━━━━━\u001B[0m\u001B[37m\u001B[0m \u001B[1m0s\u001B[0m 57ms/step - loss: 1.8203 - mean_absolute_error: 1.3490 - val_loss: 0.1754 - val_mean_absolute_error: 0.3027\n",
      "Epoch 14/100\n",
      "\u001B[1m1/1\u001B[0m \u001B[32m━━━━━━━━━━━━━━━━━━━━\u001B[0m\u001B[37m\u001B[0m \u001B[1m0s\u001B[0m 66ms/step - loss: 1.5844 - mean_absolute_error: 1.2587 - val_loss: 0.1192 - val_mean_absolute_error: 0.1875\n",
      "Epoch 15/100\n",
      "\u001B[1m1/1\u001B[0m \u001B[32m━━━━━━━━━━━━━━━━━━━━\u001B[0m\u001B[37m\u001B[0m \u001B[1m0s\u001B[0m 59ms/step - loss: 1.3686 - mean_absolute_error: 1.1699 - val_loss: 0.0906 - val_mean_absolute_error: 0.1287\n",
      "Epoch 16/100\n",
      "\u001B[1m1/1\u001B[0m \u001B[32m━━━━━━━━━━━━━━━━━━━━\u001B[0m\u001B[37m\u001B[0m \u001B[1m0s\u001B[0m 57ms/step - loss: 1.1723 - mean_absolute_error: 1.0827 - val_loss: 0.0878 - val_mean_absolute_error: 0.1834\n",
      "Epoch 17/100\n",
      "\u001B[1m1/1\u001B[0m \u001B[32m━━━━━━━━━━━━━━━━━━━━\u001B[0m\u001B[37m\u001B[0m \u001B[1m0s\u001B[0m 54ms/step - loss: 0.9950 - mean_absolute_error: 0.9975 - val_loss: 0.1093 - val_mean_absolute_error: 0.2767\n",
      "Epoch 18/100\n",
      "\u001B[1m1/1\u001B[0m \u001B[32m━━━━━━━━━━━━━━━━━━━━\u001B[0m\u001B[37m\u001B[0m \u001B[1m0s\u001B[0m 58ms/step - loss: 0.8360 - mean_absolute_error: 0.9142 - val_loss: 0.1532 - val_mean_absolute_error: 0.3676\n",
      "Epoch 19/100\n",
      "\u001B[1m1/1\u001B[0m \u001B[32m━━━━━━━━━━━━━━━━━━━━\u001B[0m\u001B[37m\u001B[0m \u001B[1m0s\u001B[0m 52ms/step - loss: 0.6945 - mean_absolute_error: 0.8331 - val_loss: 0.2175 - val_mean_absolute_error: 0.4559\n",
      "Epoch 20/100\n",
      "\u001B[1m1/1\u001B[0m \u001B[32m━━━━━━━━━━━━━━━━━━━━\u001B[0m\u001B[37m\u001B[0m \u001B[1m0s\u001B[0m 53ms/step - loss: 0.5696 - mean_absolute_error: 0.7543 - val_loss: 0.3002 - val_mean_absolute_error: 0.5414\n",
      "Epoch 21/100\n",
      "\u001B[1m1/1\u001B[0m \u001B[32m━━━━━━━━━━━━━━━━━━━━\u001B[0m\u001B[37m\u001B[0m \u001B[1m0s\u001B[0m 63ms/step - loss: 0.4606 - mean_absolute_error: 0.6780 - val_loss: 0.3991 - val_mean_absolute_error: 0.6241\n",
      "Epoch 22/100\n",
      "\u001B[1m1/1\u001B[0m \u001B[32m━━━━━━━━━━━━━━━━━━━━\u001B[0m\u001B[37m\u001B[0m \u001B[1m0s\u001B[0m 64ms/step - loss: 0.3664 - mean_absolute_error: 0.6042 - val_loss: 0.5121 - val_mean_absolute_error: 0.7036\n",
      "Epoch 23/100\n",
      "\u001B[1m1/1\u001B[0m \u001B[32m━━━━━━━━━━━━━━━━━━━━\u001B[0m\u001B[37m\u001B[0m \u001B[1m0s\u001B[0m 59ms/step - loss: 0.2860 - mean_absolute_error: 0.5332 - val_loss: 0.6368 - val_mean_absolute_error: 0.7800\n",
      "Epoch 24/100\n",
      "\u001B[1m1/1\u001B[0m \u001B[32m━━━━━━━━━━━━━━━━━━━━\u001B[0m\u001B[37m\u001B[0m \u001B[1m0s\u001B[0m 70ms/step - loss: 0.2184 - mean_absolute_error: 0.4650 - val_loss: 0.7710 - val_mean_absolute_error: 0.8530\n",
      "Epoch 25/100\n",
      "\u001B[1m1/1\u001B[0m \u001B[32m━━━━━━━━━━━━━━━━━━━━\u001B[0m\u001B[37m\u001B[0m \u001B[1m0s\u001B[0m 66ms/step - loss: 0.1626 - mean_absolute_error: 0.3999 - val_loss: 0.9124 - val_mean_absolute_error: 0.9225\n",
      "Epoch 26/100\n",
      "\u001B[1m1/1\u001B[0m \u001B[32m━━━━━━━━━━━━━━━━━━━━\u001B[0m\u001B[37m\u001B[0m \u001B[1m0s\u001B[0m 59ms/step - loss: 0.1173 - mean_absolute_error: 0.3378 - val_loss: 1.0588 - val_mean_absolute_error: 0.9884\n",
      "Epoch 27/100\n",
      "\u001B[1m1/1\u001B[0m \u001B[32m━━━━━━━━━━━━━━━━━━━━\u001B[0m\u001B[37m\u001B[0m \u001B[1m0s\u001B[0m 61ms/step - loss: 0.0815 - mean_absolute_error: 0.2789 - val_loss: 1.2079 - val_mean_absolute_error: 1.0507\n",
      "Epoch 28/100\n",
      "\u001B[1m1/1\u001B[0m \u001B[32m━━━━━━━━━━━━━━━━━━━━\u001B[0m\u001B[37m\u001B[0m \u001B[1m0s\u001B[0m 63ms/step - loss: 0.0541 - mean_absolute_error: 0.2234 - val_loss: 1.3577 - val_mean_absolute_error: 1.1104\n",
      "Epoch 29/100\n",
      "\u001B[1m1/1\u001B[0m \u001B[32m━━━━━━━━━━━━━━━━━━━━\u001B[0m\u001B[37m\u001B[0m \u001B[1m0s\u001B[0m 60ms/step - loss: 0.0340 - mean_absolute_error: 0.1711 - val_loss: 1.5061 - val_mean_absolute_error: 1.1715\n",
      "Epoch 30/100\n",
      "\u001B[1m1/1\u001B[0m \u001B[32m━━━━━━━━━━━━━━━━━━━━\u001B[0m\u001B[37m\u001B[0m \u001B[1m0s\u001B[0m 67ms/step - loss: 0.0202 - mean_absolute_error: 0.1224 - val_loss: 1.6513 - val_mean_absolute_error: 1.2303\n",
      "Epoch 31/100\n",
      "\u001B[1m1/1\u001B[0m \u001B[32m━━━━━━━━━━━━━━━━━━━━\u001B[0m\u001B[37m\u001B[0m \u001B[1m0s\u001B[0m 80ms/step - loss: 0.0117 - mean_absolute_error: 0.0881 - val_loss: 1.7916 - val_mean_absolute_error: 1.2846\n",
      "Epoch 32/100\n",
      "\u001B[1m1/1\u001B[0m \u001B[32m━━━━━━━━━━━━━━━━━━━━\u001B[0m\u001B[37m\u001B[0m \u001B[1m0s\u001B[0m 62ms/step - loss: 0.0075 - mean_absolute_error: 0.0734 - val_loss: 1.9255 - val_mean_absolute_error: 1.3343\n",
      "Epoch 33/100\n",
      "\u001B[1m1/1\u001B[0m \u001B[32m━━━━━━━━━━━━━━━━━━━━\u001B[0m\u001B[37m\u001B[0m \u001B[1m0s\u001B[0m 60ms/step - loss: 0.0067 - mean_absolute_error: 0.0714 - val_loss: 2.0516 - val_mean_absolute_error: 1.3795\n",
      "Epoch 34/100\n",
      "\u001B[1m1/1\u001B[0m \u001B[32m━━━━━━━━━━━━━━━━━━━━\u001B[0m\u001B[37m\u001B[0m \u001B[1m0s\u001B[0m 60ms/step - loss: 0.0086 - mean_absolute_error: 0.0786 - val_loss: 2.1688 - val_mean_absolute_error: 1.4203\n",
      "Epoch 35/100\n",
      "\u001B[1m1/1\u001B[0m \u001B[32m━━━━━━━━━━━━━━━━━━━━\u001B[0m\u001B[37m\u001B[0m \u001B[1m0s\u001B[0m 55ms/step - loss: 0.0123 - mean_absolute_error: 0.0915 - val_loss: 2.2762 - val_mean_absolute_error: 1.4566\n",
      "Epoch 36/100\n",
      "\u001B[1m1/1\u001B[0m \u001B[32m━━━━━━━━━━━━━━━━━━━━\u001B[0m\u001B[37m\u001B[0m \u001B[1m0s\u001B[0m 61ms/step - loss: 0.0174 - mean_absolute_error: 0.1070 - val_loss: 2.3729 - val_mean_absolute_error: 1.4886\n",
      "Epoch 37/100\n",
      "\u001B[1m1/1\u001B[0m \u001B[32m━━━━━━━━━━━━━━━━━━━━\u001B[0m\u001B[37m\u001B[0m \u001B[1m0s\u001B[0m 64ms/step - loss: 0.0231 - mean_absolute_error: 0.1262 - val_loss: 2.4586 - val_mean_absolute_error: 1.5163\n",
      "Epoch 38/100\n",
      "\u001B[1m1/1\u001B[0m \u001B[32m━━━━━━━━━━━━━━━━━━━━\u001B[0m\u001B[37m\u001B[0m \u001B[1m0s\u001B[0m 57ms/step - loss: 0.0291 - mean_absolute_error: 0.1435 - val_loss: 2.5329 - val_mean_absolute_error: 1.5400\n",
      "Epoch 39/100\n",
      "\u001B[1m1/1\u001B[0m \u001B[32m━━━━━━━━━━━━━━━━━━━━\u001B[0m\u001B[37m\u001B[0m \u001B[1m0s\u001B[0m 58ms/step - loss: 0.0349 - mean_absolute_error: 0.1618 - val_loss: 2.5957 - val_mean_absolute_error: 1.5597\n",
      "Epoch 40/100\n",
      "\u001B[1m1/1\u001B[0m \u001B[32m━━━━━━━━━━━━━━━━━━━━\u001B[0m\u001B[37m\u001B[0m \u001B[1m0s\u001B[0m 59ms/step - loss: 0.0403 - mean_absolute_error: 0.1770 - val_loss: 2.6470 - val_mean_absolute_error: 1.5756\n",
      "Epoch 41/100\n",
      "\u001B[1m1/1\u001B[0m \u001B[32m━━━━━━━━━━━━━━━━━━━━\u001B[0m\u001B[37m\u001B[0m \u001B[1m0s\u001B[0m 61ms/step - loss: 0.0450 - mean_absolute_error: 0.1893 - val_loss: 2.6870 - val_mean_absolute_error: 1.5880\n",
      "Epoch 42/100\n",
      "\u001B[1m1/1\u001B[0m \u001B[32m━━━━━━━━━━━━━━━━━━━━\u001B[0m\u001B[37m\u001B[0m \u001B[1m0s\u001B[0m 60ms/step - loss: 0.0488 - mean_absolute_error: 0.1988 - val_loss: 2.7162 - val_mean_absolute_error: 1.5969\n",
      "Epoch 43/100\n",
      "\u001B[1m1/1\u001B[0m \u001B[32m━━━━━━━━━━━━━━━━━━━━\u001B[0m\u001B[37m\u001B[0m \u001B[1m0s\u001B[0m 59ms/step - loss: 0.0517 - mean_absolute_error: 0.2056 - val_loss: 2.7349 - val_mean_absolute_error: 1.6026\n",
      "Epoch 44/100\n",
      "\u001B[1m1/1\u001B[0m \u001B[32m━━━━━━━━━━━━━━━━━━━━\u001B[0m\u001B[37m\u001B[0m \u001B[1m0s\u001B[0m 59ms/step - loss: 0.0536 - mean_absolute_error: 0.2100 - val_loss: 2.7439 - val_mean_absolute_error: 1.6053\n",
      "Epoch 45/100\n",
      "\u001B[1m1/1\u001B[0m \u001B[32m━━━━━━━━━━━━━━━━━━━━\u001B[0m\u001B[37m\u001B[0m \u001B[1m0s\u001B[0m 61ms/step - loss: 0.0545 - mean_absolute_error: 0.2121 - val_loss: 2.7437 - val_mean_absolute_error: 1.6052\n",
      "Epoch 46/100\n",
      "\u001B[1m1/1\u001B[0m \u001B[32m━━━━━━━━━━━━━━━━━━━━\u001B[0m\u001B[37m\u001B[0m \u001B[1m0s\u001B[0m 58ms/step - loss: 0.0545 - mean_absolute_error: 0.2121 - val_loss: 2.7352 - val_mean_absolute_error: 1.6027\n",
      "Epoch 47/100\n",
      "\u001B[1m1/1\u001B[0m \u001B[32m━━━━━━━━━━━━━━━━━━━━\u001B[0m\u001B[37m\u001B[0m \u001B[1m0s\u001B[0m 58ms/step - loss: 0.0536 - mean_absolute_error: 0.2101 - val_loss: 2.7191 - val_mean_absolute_error: 1.5978\n",
      "Epoch 48/100\n",
      "\u001B[1m1/1\u001B[0m \u001B[32m━━━━━━━━━━━━━━━━━━━━\u001B[0m\u001B[37m\u001B[0m \u001B[1m0s\u001B[0m 60ms/step - loss: 0.0520 - mean_absolute_error: 0.2063 - val_loss: 2.6962 - val_mean_absolute_error: 1.5908\n",
      "Epoch 49/100\n",
      "\u001B[1m1/1\u001B[0m \u001B[32m━━━━━━━━━━━━━━━━━━━━\u001B[0m\u001B[37m\u001B[0m \u001B[1m0s\u001B[0m 62ms/step - loss: 0.0497 - mean_absolute_error: 0.2009 - val_loss: 2.6674 - val_mean_absolute_error: 1.5819\n",
      "Epoch 50/100\n",
      "\u001B[1m1/1\u001B[0m \u001B[32m━━━━━━━━━━━━━━━━━━━━\u001B[0m\u001B[37m\u001B[0m \u001B[1m0s\u001B[0m 63ms/step - loss: 0.0469 - mean_absolute_error: 0.1941 - val_loss: 2.6336 - val_mean_absolute_error: 1.5715\n",
      "Epoch 51/100\n",
      "\u001B[1m1/1\u001B[0m \u001B[32m━━━━━━━━━━━━━━━━━━━━\u001B[0m\u001B[37m\u001B[0m \u001B[1m0s\u001B[0m 61ms/step - loss: 0.0437 - mean_absolute_error: 0.1860 - val_loss: 2.5955 - val_mean_absolute_error: 1.5596\n",
      "Epoch 52/100\n",
      "\u001B[1m1/1\u001B[0m \u001B[32m━━━━━━━━━━━━━━━━━━━━\u001B[0m\u001B[37m\u001B[0m \u001B[1m0s\u001B[0m 63ms/step - loss: 0.0403 - mean_absolute_error: 0.1769 - val_loss: 2.5540 - val_mean_absolute_error: 1.5466\n",
      "Epoch 53/100\n",
      "\u001B[1m1/1\u001B[0m \u001B[32m━━━━━━━━━━━━━━━━━━━━\u001B[0m\u001B[37m\u001B[0m \u001B[1m0s\u001B[0m 58ms/step - loss: 0.0367 - mean_absolute_error: 0.1669 - val_loss: 2.5098 - val_mean_absolute_error: 1.5327\n",
      "Epoch 54/100\n",
      "\u001B[1m1/1\u001B[0m \u001B[32m━━━━━━━━━━━━━━━━━━━━\u001B[0m\u001B[37m\u001B[0m \u001B[1m0s\u001B[0m 59ms/step - loss: 0.0331 - mean_absolute_error: 0.1561 - val_loss: 2.4636 - val_mean_absolute_error: 1.5179\n",
      "Epoch 55/100\n",
      "\u001B[1m1/1\u001B[0m \u001B[32m━━━━━━━━━━━━━━━━━━━━\u001B[0m\u001B[37m\u001B[0m \u001B[1m0s\u001B[0m 60ms/step - loss: 0.0295 - mean_absolute_error: 0.1447 - val_loss: 2.4162 - val_mean_absolute_error: 1.5026\n",
      "Epoch 56/100\n",
      "\u001B[1m1/1\u001B[0m \u001B[32m━━━━━━━━━━━━━━━━━━━━\u001B[0m\u001B[37m\u001B[0m \u001B[1m0s\u001B[0m 58ms/step - loss: 0.0261 - mean_absolute_error: 0.1347 - val_loss: 2.3681 - val_mean_absolute_error: 1.4870\n",
      "Epoch 57/100\n",
      "\u001B[1m1/1\u001B[0m \u001B[32m━━━━━━━━━━━━━━━━━━━━\u001B[0m\u001B[37m\u001B[0m \u001B[1m0s\u001B[0m 62ms/step - loss: 0.0228 - mean_absolute_error: 0.1253 - val_loss: 2.3200 - val_mean_absolute_error: 1.4712\n",
      "Epoch 58/100\n",
      "\u001B[1m1/1\u001B[0m \u001B[32m━━━━━━━━━━━━━━━━━━━━\u001B[0m\u001B[37m\u001B[0m \u001B[1m0s\u001B[0m 59ms/step - loss: 0.0199 - mean_absolute_error: 0.1157 - val_loss: 2.2723 - val_mean_absolute_error: 1.4553\n",
      "Epoch 59/100\n",
      "\u001B[1m1/1\u001B[0m \u001B[32m━━━━━━━━━━━━━━━━━━━━\u001B[0m\u001B[37m\u001B[0m \u001B[1m0s\u001B[0m 66ms/step - loss: 0.0172 - mean_absolute_error: 0.1063 - val_loss: 2.2254 - val_mean_absolute_error: 1.4395\n",
      "Epoch 60/100\n",
      "\u001B[1m1/1\u001B[0m \u001B[32m━━━━━━━━━━━━━━━━━━━━\u001B[0m\u001B[37m\u001B[0m \u001B[1m0s\u001B[0m 59ms/step - loss: 0.0148 - mean_absolute_error: 0.0997 - val_loss: 2.1798 - val_mean_absolute_error: 1.4240\n",
      "Epoch 61/100\n",
      "\u001B[1m1/1\u001B[0m \u001B[32m━━━━━━━━━━━━━━━━━━━━\u001B[0m\u001B[37m\u001B[0m \u001B[1m0s\u001B[0m 65ms/step - loss: 0.0128 - mean_absolute_error: 0.0931 - val_loss: 2.1359 - val_mean_absolute_error: 1.4089\n",
      "Epoch 62/100\n",
      "\u001B[1m1/1\u001B[0m \u001B[32m━━━━━━━━━━━━━━━━━━━━\u001B[0m\u001B[37m\u001B[0m \u001B[1m0s\u001B[0m 55ms/step - loss: 0.0111 - mean_absolute_error: 0.0867 - val_loss: 2.0938 - val_mean_absolute_error: 1.3943\n",
      "Epoch 63/100\n",
      "\u001B[1m1/1\u001B[0m \u001B[32m━━━━━━━━━━━━━━━━━━━━\u001B[0m\u001B[37m\u001B[0m \u001B[1m0s\u001B[0m 60ms/step - loss: 0.0097 - mean_absolute_error: 0.0821 - val_loss: 2.0539 - val_mean_absolute_error: 1.3803\n",
      "Epoch 64/100\n",
      "\u001B[1m1/1\u001B[0m \u001B[32m━━━━━━━━━━━━━━━━━━━━\u001B[0m\u001B[37m\u001B[0m \u001B[1m0s\u001B[0m 63ms/step - loss: 0.0086 - mean_absolute_error: 0.0787 - val_loss: 2.0163 - val_mean_absolute_error: 1.3670\n",
      "Epoch 65/100\n",
      "\u001B[1m1/1\u001B[0m \u001B[32m━━━━━━━━━━━━━━━━━━━━\u001B[0m\u001B[37m\u001B[0m \u001B[1m0s\u001B[0m 60ms/step - loss: 0.0078 - mean_absolute_error: 0.0756 - val_loss: 1.9812 - val_mean_absolute_error: 1.3545\n",
      "Epoch 66/100\n",
      "\u001B[1m1/1\u001B[0m \u001B[32m━━━━━━━━━━━━━━━━━━━━\u001B[0m\u001B[37m\u001B[0m \u001B[1m0s\u001B[0m 58ms/step - loss: 0.0072 - mean_absolute_error: 0.0725 - val_loss: 1.9487 - val_mean_absolute_error: 1.3427\n",
      "Epoch 67/100\n",
      "\u001B[1m1/1\u001B[0m \u001B[32m━━━━━━━━━━━━━━━━━━━━\u001B[0m\u001B[37m\u001B[0m \u001B[1m0s\u001B[0m 62ms/step - loss: 0.0069 - mean_absolute_error: 0.0718 - val_loss: 1.9188 - val_mean_absolute_error: 1.3319\n",
      "Epoch 68/100\n",
      "\u001B[1m1/1\u001B[0m \u001B[32m━━━━━━━━━━━━━━━━━━━━\u001B[0m\u001B[37m\u001B[0m \u001B[1m0s\u001B[0m 56ms/step - loss: 0.0067 - mean_absolute_error: 0.0712 - val_loss: 1.8917 - val_mean_absolute_error: 1.3219\n",
      "Epoch 69/100\n",
      "\u001B[1m1/1\u001B[0m \u001B[32m━━━━━━━━━━━━━━━━━━━━\u001B[0m\u001B[37m\u001B[0m \u001B[1m0s\u001B[0m 61ms/step - loss: 0.0066 - mean_absolute_error: 0.0707 - val_loss: 1.8673 - val_mean_absolute_error: 1.3129\n",
      "Epoch 70/100\n",
      "\u001B[1m1/1\u001B[0m \u001B[32m━━━━━━━━━━━━━━━━━━━━\u001B[0m\u001B[37m\u001B[0m \u001B[1m0s\u001B[0m 63ms/step - loss: 0.0067 - mean_absolute_error: 0.0703 - val_loss: 1.8455 - val_mean_absolute_error: 1.3048\n",
      "Epoch 71/100\n",
      "\u001B[1m1/1\u001B[0m \u001B[32m━━━━━━━━━━━━━━━━━━━━\u001B[0m\u001B[37m\u001B[0m \u001B[1m0s\u001B[0m 58ms/step - loss: 0.0068 - mean_absolute_error: 0.0704 - val_loss: 1.8265 - val_mean_absolute_error: 1.2977\n",
      "Epoch 72/100\n",
      "\u001B[1m1/1\u001B[0m \u001B[32m━━━━━━━━━━━━━━━━━━━━\u001B[0m\u001B[37m\u001B[0m \u001B[1m0s\u001B[0m 56ms/step - loss: 0.0070 - mean_absolute_error: 0.0714 - val_loss: 1.8100 - val_mean_absolute_error: 1.2915\n",
      "Epoch 73/100\n",
      "\u001B[1m1/1\u001B[0m \u001B[32m━━━━━━━━━━━━━━━━━━━━\u001B[0m\u001B[37m\u001B[0m \u001B[1m0s\u001B[0m 61ms/step - loss: 0.0072 - mean_absolute_error: 0.0723 - val_loss: 1.7960 - val_mean_absolute_error: 1.2863\n",
      "Epoch 74/100\n",
      "\u001B[1m1/1\u001B[0m \u001B[32m━━━━━━━━━━━━━━━━━━━━\u001B[0m\u001B[37m\u001B[0m \u001B[1m0s\u001B[0m 63ms/step - loss: 0.0074 - mean_absolute_error: 0.0731 - val_loss: 1.7845 - val_mean_absolute_error: 1.2819\n",
      "Epoch 75/100\n",
      "\u001B[1m1/1\u001B[0m \u001B[32m━━━━━━━━━━━━━━━━━━━━\u001B[0m\u001B[37m\u001B[0m \u001B[1m0s\u001B[0m 61ms/step - loss: 0.0076 - mean_absolute_error: 0.0737 - val_loss: 1.7753 - val_mean_absolute_error: 1.2784\n",
      "Epoch 76/100\n",
      "\u001B[1m1/1\u001B[0m \u001B[32m━━━━━━━━━━━━━━━━━━━━\u001B[0m\u001B[37m\u001B[0m \u001B[1m0s\u001B[0m 59ms/step - loss: 0.0078 - mean_absolute_error: 0.0742 - val_loss: 1.7683 - val_mean_absolute_error: 1.2757\n",
      "Epoch 77/100\n",
      "\u001B[1m1/1\u001B[0m \u001B[32m━━━━━━━━━━━━━━━━━━━━\u001B[0m\u001B[37m\u001B[0m \u001B[1m0s\u001B[0m 56ms/step - loss: 0.0079 - mean_absolute_error: 0.0746 - val_loss: 1.7633 - val_mean_absolute_error: 1.2738\n",
      "Epoch 78/100\n",
      "\u001B[1m1/1\u001B[0m \u001B[32m━━━━━━━━━━━━━━━━━━━━\u001B[0m\u001B[37m\u001B[0m \u001B[1m0s\u001B[0m 61ms/step - loss: 0.0080 - mean_absolute_error: 0.0749 - val_loss: 1.7603 - val_mean_absolute_error: 1.2727\n",
      "Epoch 79/100\n",
      "\u001B[1m1/1\u001B[0m \u001B[32m━━━━━━━━━━━━━━━━━━━━\u001B[0m\u001B[37m\u001B[0m \u001B[1m0s\u001B[0m 58ms/step - loss: 0.0081 - mean_absolute_error: 0.0750 - val_loss: 1.7591 - val_mean_absolute_error: 1.2722\n",
      "Epoch 80/100\n",
      "\u001B[1m1/1\u001B[0m \u001B[32m━━━━━━━━━━━━━━━━━━━━\u001B[0m\u001B[37m\u001B[0m \u001B[1m0s\u001B[0m 57ms/step - loss: 0.0081 - mean_absolute_error: 0.0751 - val_loss: 1.7596 - val_mean_absolute_error: 1.2724\n",
      "Epoch 81/100\n",
      "\u001B[1m1/1\u001B[0m \u001B[32m━━━━━━━━━━━━━━━━━━━━\u001B[0m\u001B[37m\u001B[0m \u001B[1m0s\u001B[0m 61ms/step - loss: 0.0081 - mean_absolute_error: 0.0751 - val_loss: 1.7615 - val_mean_absolute_error: 1.2732\n",
      "Epoch 82/100\n",
      "\u001B[1m1/1\u001B[0m \u001B[32m━━━━━━━━━━━━━━━━━━━━\u001B[0m\u001B[37m\u001B[0m \u001B[1m0s\u001B[0m 57ms/step - loss: 0.0080 - mean_absolute_error: 0.0750 - val_loss: 1.7648 - val_mean_absolute_error: 1.2744\n",
      "Epoch 83/100\n",
      "\u001B[1m1/1\u001B[0m \u001B[32m━━━━━━━━━━━━━━━━━━━━\u001B[0m\u001B[37m\u001B[0m \u001B[1m0s\u001B[0m 60ms/step - loss: 0.0080 - mean_absolute_error: 0.0748 - val_loss: 1.7693 - val_mean_absolute_error: 1.2761\n",
      "Epoch 84/100\n",
      "\u001B[1m1/1\u001B[0m \u001B[32m━━━━━━━━━━━━━━━━━━━━\u001B[0m\u001B[37m\u001B[0m \u001B[1m0s\u001B[0m 63ms/step - loss: 0.0079 - mean_absolute_error: 0.0745 - val_loss: 1.7748 - val_mean_absolute_error: 1.2782\n",
      "Epoch 85/100\n",
      "\u001B[1m1/1\u001B[0m \u001B[32m━━━━━━━━━━━━━━━━━━━━\u001B[0m\u001B[37m\u001B[0m \u001B[1m0s\u001B[0m 59ms/step - loss: 0.0078 - mean_absolute_error: 0.0742 - val_loss: 1.7812 - val_mean_absolute_error: 1.2806\n",
      "Epoch 86/100\n",
      "\u001B[1m1/1\u001B[0m \u001B[32m━━━━━━━━━━━━━━━━━━━━\u001B[0m\u001B[37m\u001B[0m \u001B[1m0s\u001B[0m 59ms/step - loss: 0.0076 - mean_absolute_error: 0.0739 - val_loss: 1.7883 - val_mean_absolute_error: 1.2834\n",
      "Epoch 87/100\n",
      "\u001B[1m1/1\u001B[0m \u001B[32m━━━━━━━━━━━━━━━━━━━━\u001B[0m\u001B[37m\u001B[0m \u001B[1m0s\u001B[0m 60ms/step - loss: 0.0075 - mean_absolute_error: 0.0735 - val_loss: 1.7960 - val_mean_absolute_error: 1.2863\n",
      "Epoch 88/100\n",
      "\u001B[1m1/1\u001B[0m \u001B[32m━━━━━━━━━━━━━━━━━━━━\u001B[0m\u001B[37m\u001B[0m \u001B[1m0s\u001B[0m 59ms/step - loss: 0.0074 - mean_absolute_error: 0.0730 - val_loss: 1.8042 - val_mean_absolute_error: 1.2894\n",
      "Epoch 89/100\n",
      "\u001B[1m1/1\u001B[0m \u001B[32m━━━━━━━━━━━━━━━━━━━━\u001B[0m\u001B[37m\u001B[0m \u001B[1m0s\u001B[0m 67ms/step - loss: 0.0072 - mean_absolute_error: 0.0726 - val_loss: 1.8127 - val_mean_absolute_error: 1.2926\n",
      "Epoch 90/100\n",
      "\u001B[1m1/1\u001B[0m \u001B[32m━━━━━━━━━━━━━━━━━━━━\u001B[0m\u001B[37m\u001B[0m \u001B[1m0s\u001B[0m 61ms/step - loss: 0.0071 - mean_absolute_error: 0.0721 - val_loss: 1.8214 - val_mean_absolute_error: 1.2958\n",
      "Epoch 91/100\n",
      "\u001B[1m1/1\u001B[0m \u001B[32m━━━━━━━━━━━━━━━━━━━━\u001B[0m\u001B[37m\u001B[0m \u001B[1m0s\u001B[0m 66ms/step - loss: 0.0070 - mean_absolute_error: 0.0716 - val_loss: 1.8301 - val_mean_absolute_error: 1.2991\n",
      "Epoch 92/100\n",
      "\u001B[1m1/1\u001B[0m \u001B[32m━━━━━━━━━━━━━━━━━━━━\u001B[0m\u001B[37m\u001B[0m \u001B[1m0s\u001B[0m 56ms/step - loss: 0.0069 - mean_absolute_error: 0.0711 - val_loss: 1.8389 - val_mean_absolute_error: 1.3024\n",
      "Epoch 93/100\n",
      "\u001B[1m1/1\u001B[0m \u001B[32m━━━━━━━━━━━━━━━━━━━━\u001B[0m\u001B[37m\u001B[0m \u001B[1m0s\u001B[0m 55ms/step - loss: 0.0068 - mean_absolute_error: 0.0707 - val_loss: 1.8474 - val_mean_absolute_error: 1.3056\n",
      "Epoch 94/100\n",
      "\u001B[1m1/1\u001B[0m \u001B[32m━━━━━━━━━━━━━━━━━━━━\u001B[0m\u001B[37m\u001B[0m \u001B[1m0s\u001B[0m 55ms/step - loss: 0.0068 - mean_absolute_error: 0.0702 - val_loss: 1.8558 - val_mean_absolute_error: 1.3087\n",
      "Epoch 95/100\n",
      "\u001B[1m1/1\u001B[0m \u001B[32m━━━━━━━━━━━━━━━━━━━━\u001B[0m\u001B[37m\u001B[0m \u001B[1m0s\u001B[0m 64ms/step - loss: 0.0067 - mean_absolute_error: 0.0700 - val_loss: 1.8638 - val_mean_absolute_error: 1.3117\n",
      "Epoch 96/100\n",
      "\u001B[1m1/1\u001B[0m \u001B[32m━━━━━━━━━━━━━━━━━━━━\u001B[0m\u001B[37m\u001B[0m \u001B[1m0s\u001B[0m 57ms/step - loss: 0.0067 - mean_absolute_error: 0.0702 - val_loss: 1.8714 - val_mean_absolute_error: 1.3145\n",
      "Epoch 97/100\n",
      "\u001B[1m1/1\u001B[0m \u001B[32m━━━━━━━━━━━━━━━━━━━━\u001B[0m\u001B[37m\u001B[0m \u001B[1m0s\u001B[0m 62ms/step - loss: 0.0066 - mean_absolute_error: 0.0703 - val_loss: 1.8785 - val_mean_absolute_error: 1.3171\n",
      "Epoch 98/100\n",
      "\u001B[1m1/1\u001B[0m \u001B[32m━━━━━━━━━━━━━━━━━━━━\u001B[0m\u001B[37m\u001B[0m \u001B[1m0s\u001B[0m 58ms/step - loss: 0.0066 - mean_absolute_error: 0.0705 - val_loss: 1.8852 - val_mean_absolute_error: 1.3196\n",
      "Epoch 99/100\n",
      "\u001B[1m1/1\u001B[0m \u001B[32m━━━━━━━━━━━━━━━━━━━━\u001B[0m\u001B[37m\u001B[0m \u001B[1m0s\u001B[0m 61ms/step - loss: 0.0066 - mean_absolute_error: 0.0706 - val_loss: 1.8913 - val_mean_absolute_error: 1.3218\n",
      "Epoch 100/100\n",
      "\u001B[1m1/1\u001B[0m \u001B[32m━━━━━━━━━━━━━━━━━━━━\u001B[0m\u001B[37m\u001B[0m \u001B[1m0s\u001B[0m 57ms/step - loss: 0.0066 - mean_absolute_error: 0.0707 - val_loss: 1.8968 - val_mean_absolute_error: 1.3239\n"
     ]
    },
    {
     "data": {
      "text/plain": "<keras.src.callbacks.history.History at 0x21acb06b690>"
     },
     "execution_count": 78,
     "metadata": {},
     "output_type": "execute_result"
    }
   ],
   "source": [
    "dataset = [[[i, 1], 1 if i <= 36 else 0] for i in range(26, 47)]\n",
    "dataset += [[[i, 0], 0] for i in range(26, 47)]\n",
    "X = np.array([i[0] for i in dataset])\n",
    "Y = np.array([i[1] for i in dataset])\n",
    "# Обучим\n",
    "model.fit(\n",
    "    X, # Набор входных данных\n",
    "    Y, # Набор правильных ответов\n",
    "    validation_split=0.8, # Этот параметр автоматически выделит часть обучающего набора на валидационные данные. В данном случа 20%\n",
    "    epochs=100, # Процесс обучения завершится после 10 эпох\n",
    "    batch_size = 8 # Набор данных будет разбит на пакеты (батчи) по 8 элементов набора в каждом. \n",
    ")"
   ],
   "metadata": {
    "collapsed": false,
    "ExecuteTime": {
     "end_time": "2023-12-16T13:09:06.522615700Z",
     "start_time": "2023-12-16T13:08:59.449943Z"
    }
   },
   "id": "29537560431f3972"
  },
  {
   "cell_type": "code",
   "execution_count": 79,
   "outputs": [
    {
     "name": "stdout",
     "output_type": "stream",
     "text": [
      "\u001B[1m2/2\u001B[0m \u001B[32m━━━━━━━━━━━━━━━━━━━━\u001B[0m\u001B[37m\u001B[0m \u001B[1m0s\u001B[0m 26ms/step\n",
      "\u001B[1m2/2\u001B[0m \u001B[32m━━━━━━━━━━━━━━━━━━━━\u001B[0m\u001B[37m\u001B[0m \u001B[1m0s\u001B[0m 3ms/step \n"
     ]
    },
    {
     "data": {
      "text/plain": "<Figure size 640x480 with 1 Axes>",
      "image/png": "[encoded data removed]"
     },
     "metadata": {},
     "output_type": "display_data"
    }
   ],
   "source": [
    "sun = 0\n",
    "X_test = []\n",
    "for C in range(0, 51):\n",
    "  X_test.append([C, sun])\n",
    "X_test = np.array(X_test)\n",
    "feedforwardsNoSun = model.predict(X_test)\n",
    "sun = 1\n",
    "X_test = []\n",
    "for C in range(0, 51):\n",
    "  X_test.append([C, sun])\n",
    "X_test = np.array(X_test)\n",
    "feedforwardsSun = model.predict(X_test)\n",
    "\n",
    "fig, ax = plt.subplots()\n",
    "\n",
    "ax.plot([C for C in range(0, 51)], feedforwardsNoSun, linewidth=2.0, label='Нет солнца')\n",
    "\n",
    "ax.plot([C for C in range(0, 51)], feedforwardsSun, linewidth=2.0, label='Есть солнце')\n",
    "ax.legend()\n",
    "plt.show()"
   ],
   "metadata": {
    "collapsed": false,
    "ExecuteTime": {
     "end_time": "2023-12-16T13:09:06.813575700Z",
     "start_time": "2023-12-16T13:09:06.518090200Z"
    }
   },
   "id": "d415f4134982f41e"
  },
  {
   "cell_type": "code",
   "execution_count": 79,
   "outputs": [],
   "source": [],
   "metadata": {
    "collapsed": false,
    "ExecuteTime": {
     "end_time": "2023-12-16T13:09:06.822881700Z",
     "start_time": "2023-12-16T13:09:06.814828700Z"
    }
   },
   "id": "46fac3e8526e5882"
  },
  {
   "cell_type": "code",
   "execution_count": null,
   "outputs": [],
   "source": [],
   "metadata": {
    "collapsed": false
   },
   "id": "c7cbb7272dd44bf8"
  }
 ],
 "metadata": {
  "kernelspec": {
   "display_name": "Python 3",
   "language": "python",
   "name": "python3"
  },
  "language_info": {
   "codemirror_mode": {
    "name": "ipython",
    "version": 2
   },
   "file_extension": ".py",
   "mimetype": "text/x-python",
   "name": "python",
   "nbconvert_exporter": "python",
   "pygments_lexer": "ipython2",
   "version": "2.7.6"
  }
 },
 "nbformat": 4,
 "nbformat_minor": 5
}
