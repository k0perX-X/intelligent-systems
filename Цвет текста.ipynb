{
 "cells": [
  {
   "cell_type": "code",
   "execution_count": 162,
   "id": "d87d14210bf31a70",
   "metadata": {
    "ExecuteTime": {
     "end_time": "2023-12-16T17:43:01.546235900Z",
     "start_time": "2023-12-16T17:43:01.517633500Z"
    },
    "collapsed": false,
    "jupyter": {
     "outputs_hidden": false
    }
   },
   "outputs": [],
   "source": [
    "import pandas as pd\n",
    "import math"
   ]
  },
  {
   "cell_type": "markdown",
   "id": "e75ed5c6fde6b6d1",
   "metadata": {
    "collapsed": false,
    "jupyter": {
     "outputs_hidden": false
    }
   },
   "source": [
    "# Расчет без применения второго правила (как в примере)"
   ]
  },
  {
   "cell_type": "code",
   "execution_count": 163,
   "id": "initial_id",
   "metadata": {
    "ExecuteTime": {
     "end_time": "2023-12-16T17:43:01.678257Z",
     "start_time": "2023-12-16T17:43:01.525362700Z"
    },
    "collapsed": true,
    "jupyter": {
     "outputs_hidden": true
    }
   },
   "outputs": [],
   "source": [
    "pravilo_1 = True\n",
    "pravilo_2 = False\n",
    "text = '''\n",
    "мЫ шлИ пОд грОхот канонАды\n",
    "мЫ смЕрти смотрЕли в лицО\n",
    "вперОд продвигАлись отрЯды\n",
    "спартАковцев смЕлых бойцОв\n",
    "срЕдь нАс бЫл йУный барабАнщик\n",
    "в атАках Он шОл впередИ\n",
    "с весЁлым дрУгом-барабАном\n",
    "с огнЁм большевИстским в грудИ\n",
    "промчАлись гОды боевЫе\n",
    "окОнчен нАш слАвный похОд\n",
    "погИб нАш йУный барабАнщик\n",
    "нО пЕсня О нЁм нЕ умрЁт\n",
    "'''\n",
    "pin = [0.116, 0.126, 0.102, 0.077, 0.040, 0.024]"
   ]
  },
  {
   "cell_type": "code",
   "execution_count": 164,
   "id": "6229c7b1323f378b",
   "metadata": {
    "ExecuteTime": {
     "end_time": "2023-12-16T17:43:01.679245700Z",
     "start_time": "2023-12-16T17:43:01.530692400Z"
    },
    "collapsed": false,
    "jupyter": {
     "outputs_hidden": false
    }
   },
   "outputs": [
    {
     "data": {
      "text/plain": [
       "['мЫ',\n",
       " 'шлИ',\n",
       " 'пОд',\n",
       " 'грОхот',\n",
       " 'канонАды',\n",
       " 'мЫ',\n",
       " 'смЕрти',\n",
       " 'смотрЕли',\n",
       " 'в',\n",
       " 'лицО',\n",
       " 'вперОд',\n",
       " 'продвигАлись',\n",
       " 'отрЯды',\n",
       " 'спартАковцев',\n",
       " 'смЕлых',\n",
       " 'бойцОв',\n",
       " 'срЕдь',\n",
       " 'нАс',\n",
       " 'бЫл',\n",
       " 'йУный',\n",
       " 'барабАнщик',\n",
       " 'в',\n",
       " 'атАках',\n",
       " 'Он',\n",
       " 'шОл',\n",
       " 'впередИ',\n",
       " 'с',\n",
       " 'весЁлым',\n",
       " 'дрУгом-барабАном',\n",
       " 'с',\n",
       " 'огнЁм',\n",
       " 'большевИстским',\n",
       " 'в',\n",
       " 'грудИ',\n",
       " 'промчАлись',\n",
       " 'гОды',\n",
       " 'боевЫе',\n",
       " 'окОнчен',\n",
       " 'нАш',\n",
       " 'слАвный',\n",
       " 'похОд',\n",
       " 'погИб',\n",
       " 'нАш',\n",
       " 'йУный',\n",
       " 'барабАнщик',\n",
       " 'нО',\n",
       " 'пЕсня',\n",
       " 'О',\n",
       " 'нЁм',\n",
       " 'нЕ',\n",
       " 'умрЁт']"
      ]
     },
     "execution_count": 164,
     "metadata": {},
     "output_type": "execute_result"
    }
   ],
   "source": [
    "words = text.split()\n",
    "first_letters = [word.lower()[0] for word in words]\n",
    "words"
   ]
  },
  {
   "cell_type": "code",
   "execution_count": 165,
   "id": "f57f1980f72d5833",
   "metadata": {
    "ExecuteTime": {
     "end_time": "2023-12-16T17:43:01.680246Z",
     "start_time": "2023-12-16T17:43:01.537467100Z"
    },
    "collapsed": false,
    "jupyter": {
     "outputs_hidden": false
    }
   },
   "outputs": [
    {
     "data": {
      "text/plain": [
       "'R = 316'"
      ]
     },
     "execution_count": 165,
     "metadata": {},
     "output_type": "execute_result"
    }
   ],
   "source": [
    "R = (len(words) * 3 if pravilo_2 else 0) + sum([sum(map(str.isupper, word)) for word in words]) + sum(\n",
    "    [len(word) for word in words])\n",
    "f\"R = {R}\""
   ]
  },
  {
   "cell_type": "code",
   "execution_count": 166,
   "id": "a5ef7d29d1743c0a",
   "metadata": {
    "ExecuteTime": {
     "end_time": "2023-12-16T17:43:01.739127200Z",
     "start_time": "2023-12-16T17:43:01.542849200Z"
    },
    "collapsed": false,
    "jupyter": {
     "outputs_hidden": false
    }
   },
   "outputs": [
    {
     "data": {
      "text/plain": [
       "'Количество а + я = 37'"
      ]
     },
     "execution_count": 166,
     "metadata": {},
     "output_type": "execute_result"
    }
   ],
   "source": [
    "a_ya = (text.count(\"а\") + (text.count(\"А\") * 2 if pravilo_1 else text.count(\"А\")) +\n",
    "        (text.count(\"я\") + (text.count(\"Я\") * 2 if pravilo_1 else text.count(\"Я\"))) +\n",
    "        ((first_letters.count(\"а\") + first_letters.count(\"я\")) if pravilo_2 else 0))\n",
    "f\"Количество а + я = {a_ya}\""
   ]
  },
  {
   "cell_type": "code",
   "execution_count": 167,
   "id": "c205686a9fcca2dc",
   "metadata": {
    "ExecuteTime": {
     "end_time": "2023-12-16T17:43:01.742632600Z",
     "start_time": "2023-12-16T17:43:01.549235500Z"
    },
    "collapsed": false,
    "jupyter": {
     "outputs_hidden": false
    }
   },
   "outputs": [
    {
     "data": {
      "text/plain": [
       "'Количество О+0.5Ё = 44.0'"
      ]
     },
     "execution_count": 167,
     "metadata": {},
     "output_type": "execute_result"
    }
   ],
   "source": [
    "o_yo = (text.count(\"о\") + (text.count(\"О\") * 2 if pravilo_1 else text.count(\"О\")) +\n",
    "        (text.count(\"ё\") + (text.count(\"Ё\") * 2 if pravilo_1 else text.count(\"Ё\"))) * 0.5 +\n",
    "        ((first_letters.count(\"о\") + first_letters.count(\"ё\") * 0.5) if pravilo_2 else 0))\n",
    "f\"Количество О+0.5Ё = {o_yo}\""
   ]
  },
  {
   "cell_type": "code",
   "execution_count": 168,
   "id": "8263da6568b3bfd",
   "metadata": {
    "ExecuteTime": {
     "end_time": "2023-12-16T17:43:01.742632600Z",
     "start_time": "2023-12-16T17:43:01.554660700Z"
    },
    "collapsed": false,
    "jupyter": {
     "outputs_hidden": false
    }
   },
   "outputs": [
    {
     "data": {
      "text/plain": [
       "'Количество Е+0.5Ё = 25.0'"
      ]
     },
     "execution_count": 168,
     "metadata": {},
     "output_type": "execute_result"
    }
   ],
   "source": [
    "e_yo = (text.count(\"е\") + (text.count(\"Е\") * 2 if pravilo_1 else text.count(\"Е\")) +\n",
    "        (text.count(\"ё\") + (text.count(\"Ё\") * 2 if pravilo_1 else text.count(\"Ё\"))) * 0.5 +\n",
    "        ((first_letters.count(\"е\") + first_letters.count(\"ё\") * 0.5) if pravilo_2 else 0))\n",
    "f\"Количество Е+0.5Ё = {e_yo}\""
   ]
  },
  {
   "cell_type": "code",
   "execution_count": 169,
   "id": "6a4871ec16e1b9ba",
   "metadata": {
    "ExecuteTime": {
     "end_time": "2023-12-16T17:43:01.742632600Z",
     "start_time": "2023-12-16T17:43:01.563227100Z"
    },
    "collapsed": false,
    "jupyter": {
     "outputs_hidden": false
    }
   },
   "outputs": [
    {
     "data": {
      "text/plain": [
       "'Количество И+0.5Й = 25'"
      ]
     },
     "execution_count": 169,
     "metadata": {},
     "output_type": "execute_result"
    }
   ],
   "source": [
    "i_y = (text.count(\"и\") + (text.count(\"И\") * 2 if pravilo_1 else text.count(\"И\")) + text.count(\"й\") +\n",
    "       ((first_letters.count(\"и\") + first_letters.count(\"й\") * 0.5) if pravilo_2 else 0))\n",
    "f\"Количество И+0.5Й = {i_y}\""
   ]
  },
  {
   "cell_type": "code",
   "execution_count": 170,
   "id": "b4c56caaa970e541",
   "metadata": {
    "ExecuteTime": {
     "end_time": "2023-12-16T17:43:01.742632600Z",
     "start_time": "2023-12-16T17:43:01.567948500Z"
    },
    "collapsed": false,
    "jupyter": {
     "outputs_hidden": false
    }
   },
   "outputs": [
    {
     "data": {
      "text/plain": [
       "'Количество У+Ю = 8'"
      ]
     },
     "execution_count": 170,
     "metadata": {},
     "output_type": "execute_result"
    }
   ],
   "source": [
    "u_yu = (text.count(\"у\") + (text.count(\"У\") * 2 if pravilo_1 else text.count(\"У\")) +\n",
    "        (text.count(\"ю\") + (text.count(\"Ю\") * 2 if pravilo_1 else text.count(\"Ю\"))) +\n",
    "        ((first_letters.count(\"у\") + first_letters.count(\"ю\")) if pravilo_2 else 0))\n",
    "f\"Количество У+Ю = {u_yu}\""
   ]
  },
  {
   "cell_type": "code",
   "execution_count": 171,
   "id": "13f40553fe55d959",
   "metadata": {
    "ExecuteTime": {
     "end_time": "2023-12-16T17:43:01.742632600Z",
     "start_time": "2023-12-16T17:43:01.573414200Z"
    },
    "collapsed": false,
    "jupyter": {
     "outputs_hidden": false
    }
   },
   "outputs": [
    {
     "data": {
      "text/plain": [
       "'Количество Ы = 16'"
      ]
     },
     "execution_count": 171,
     "metadata": {},
     "output_type": "execute_result"
    }
   ],
   "source": [
    "y = (text.count(\"ы\") + (text.count(\"Ы\") * 2 if pravilo_1 else text.count(\"Ы\")) +\n",
    "     (first_letters.count(\"ы\") if pravilo_2 else 0))\n",
    "f\"Количество Ы = {y}\""
   ]
  },
  {
   "cell_type": "code",
   "execution_count": 172,
   "id": "147023ac2bafb661",
   "metadata": {
    "ExecuteTime": {
     "end_time": "2023-12-16T17:43:01.743638900Z",
     "start_time": "2023-12-16T17:43:01.581331900Z"
    },
    "collapsed": false,
    "jupyter": {
     "outputs_hidden": false
    }
   },
   "outputs": [
    {
     "data": {
      "text/html": [
       "<div>\n",
       "<style scoped>\n",
       "    .dataframe tbody tr th:only-of-type {\n",
       "        vertical-align: middle;\n",
       "    }\n",
       "\n",
       "    .dataframe tbody tr th {\n",
       "        vertical-align: top;\n",
       "    }\n",
       "\n",
       "    .dataframe thead th {\n",
       "        text-align: right;\n",
       "    }\n",
       "</style>\n",
       "<table border=\"1\" class=\"dataframe\">\n",
       "  <thead>\n",
       "    <tr style=\"text-align: right;\">\n",
       "      <th></th>\n",
       "      <th>Количество</th>\n",
       "      <th>Частость</th>\n",
       "      <th>Норма частости</th>\n",
       "      <th>Разброс</th>\n",
       "      <th>Сила цвета</th>\n",
       "    </tr>\n",
       "  </thead>\n",
       "  <tbody>\n",
       "    <tr>\n",
       "      <th>А+Я</th>\n",
       "      <td>37.0</td>\n",
       "      <td>0.117089</td>\n",
       "      <td>0.116</td>\n",
       "      <td>0.018014</td>\n",
       "      <td>0.060431</td>\n",
       "    </tr>\n",
       "    <tr>\n",
       "      <th>О+0.5Ё</th>\n",
       "      <td>44.0</td>\n",
       "      <td>0.139241</td>\n",
       "      <td>0.126</td>\n",
       "      <td>0.018668</td>\n",
       "      <td>0.709263</td>\n",
       "    </tr>\n",
       "    <tr>\n",
       "      <th>Е+0.5Ё</th>\n",
       "      <td>25.0</td>\n",
       "      <td>0.079114</td>\n",
       "      <td>0.102</td>\n",
       "      <td>0.017025</td>\n",
       "      <td>-1.344239</td>\n",
       "    </tr>\n",
       "    <tr>\n",
       "      <th>И+0.5Й</th>\n",
       "      <td>25.0</td>\n",
       "      <td>0.079114</td>\n",
       "      <td>0.077</td>\n",
       "      <td>0.014997</td>\n",
       "      <td>0.140957</td>\n",
       "    </tr>\n",
       "    <tr>\n",
       "      <th>У+Ю</th>\n",
       "      <td>8.0</td>\n",
       "      <td>0.025316</td>\n",
       "      <td>0.040</td>\n",
       "      <td>0.011024</td>\n",
       "      <td>-1.332014</td>\n",
       "    </tr>\n",
       "    <tr>\n",
       "      <th>Ы</th>\n",
       "      <td>16.0</td>\n",
       "      <td>0.050633</td>\n",
       "      <td>0.024</td>\n",
       "      <td>0.008610</td>\n",
       "      <td>3.093368</td>\n",
       "    </tr>\n",
       "  </tbody>\n",
       "</table>\n",
       "</div>"
      ],
      "text/plain": [
       "        Количество  Частость  Норма частости   Разброс  Сила цвета\n",
       "А+Я           37.0  0.117089           0.116  0.018014    0.060431\n",
       "О+0.5Ё        44.0  0.139241           0.126  0.018668    0.709263\n",
       "Е+0.5Ё        25.0  0.079114           0.102  0.017025   -1.344239\n",
       "И+0.5Й        25.0  0.079114           0.077  0.014997    0.140957\n",
       "У+Ю            8.0  0.025316           0.040  0.011024   -1.332014\n",
       "Ы             16.0  0.050633           0.024  0.008610    3.093368"
      ]
     },
     "execution_count": 172,
     "metadata": {},
     "output_type": "execute_result"
    }
   ],
   "source": [
    "def get_data(ni, num):\n",
    "    def di():\n",
    "        return math.sqrt(pin[num] * (1 - pin[num]) / R)\n",
    "\n",
    "    def ai():\n",
    "        return (ni / R - pin[num]) / di()\n",
    "\n",
    "    return [ni, ni / R, pin[num], di(), ai()]\n",
    "\n",
    "\n",
    "pd.DataFrame(\n",
    "    data=[get_data(a_ya, 0), get_data(o_yo, 1), get_data(e_yo, 2), get_data(i_y, 3), get_data(u_yu, 4), get_data(y, 5)],\n",
    "    columns=[\"Количество\", 'Частость', 'Норма частости', 'Разброс', 'Сила цвета'],\n",
    "    index=['А+Я', 'О+0.5Ё', 'Е+0.5Ё', 'И+0.5Й', 'У+Ю', 'Ы']\n",
    ")"
   ]
  },
  {
   "cell_type": "markdown",
   "id": "5cf51c6008d1f470",
   "metadata": {
    "collapsed": false,
    "jupyter": {
     "outputs_hidden": false
    }
   },
   "source": [
    "# Расчет с применением второго правила"
   ]
  },
  {
   "cell_type": "code",
   "execution_count": 173,
   "id": "3aa1386bdd2ba073",
   "metadata": {
    "ExecuteTime": {
     "end_time": "2023-12-16T17:43:01.743638900Z",
     "start_time": "2023-12-16T17:43:01.589500400Z"
    },
    "collapsed": false,
    "jupyter": {
     "outputs_hidden": false
    }
   },
   "outputs": [],
   "source": [
    "pravilo_1 = True\n",
    "pravilo_2 = True\n",
    "text = '''\n",
    "мЫ шлИ пОд грОхот канонАды\n",
    "мЫ смЕрти смотрЕли в лицО\n",
    "вперОд продвигАлись отрЯды\n",
    "спартАковцев смЕлых бойцОв\n",
    "срЕдь нАс бЫл йУный барабАнщик\n",
    "в атАках Он шОл впередИ\n",
    "с весЁлым дрУгом-барабАном\n",
    "с огнЁм большевИстским в грудИ\n",
    "промчАлись гОды боевЫе\n",
    "окОнчен нАш слАвный похОд\n",
    "погИб нАш йУный барабАнщик\n",
    "нО пЕсня О нЁм нЕ умрЁт\n",
    "'''\n",
    "pin = [0.116, 0.126, 0.102, 0.077, 0.040, 0.024]"
   ]
  },
  {
   "cell_type": "code",
   "execution_count": 174,
   "id": "1eafec23b42a6dec",
   "metadata": {
    "ExecuteTime": {
     "end_time": "2023-12-16T17:43:01.743638900Z",
     "start_time": "2023-12-16T17:43:01.597546800Z"
    },
    "collapsed": false,
    "jupyter": {
     "outputs_hidden": false
    }
   },
   "outputs": [
    {
     "data": {
      "text/plain": [
       "['мЫ',\n",
       " 'шлИ',\n",
       " 'пОд',\n",
       " 'грОхот',\n",
       " 'канонАды',\n",
       " 'мЫ',\n",
       " 'смЕрти',\n",
       " 'смотрЕли',\n",
       " 'в',\n",
       " 'лицО',\n",
       " 'вперОд',\n",
       " 'продвигАлись',\n",
       " 'отрЯды',\n",
       " 'спартАковцев',\n",
       " 'смЕлых',\n",
       " 'бойцОв',\n",
       " 'срЕдь',\n",
       " 'нАс',\n",
       " 'бЫл',\n",
       " 'йУный',\n",
       " 'барабАнщик',\n",
       " 'в',\n",
       " 'атАках',\n",
       " 'Он',\n",
       " 'шОл',\n",
       " 'впередИ',\n",
       " 'с',\n",
       " 'весЁлым',\n",
       " 'дрУгом-барабАном',\n",
       " 'с',\n",
       " 'огнЁм',\n",
       " 'большевИстским',\n",
       " 'в',\n",
       " 'грудИ',\n",
       " 'промчАлись',\n",
       " 'гОды',\n",
       " 'боевЫе',\n",
       " 'окОнчен',\n",
       " 'нАш',\n",
       " 'слАвный',\n",
       " 'похОд',\n",
       " 'погИб',\n",
       " 'нАш',\n",
       " 'йУный',\n",
       " 'барабАнщик',\n",
       " 'нО',\n",
       " 'пЕсня',\n",
       " 'О',\n",
       " 'нЁм',\n",
       " 'нЕ',\n",
       " 'умрЁт']"
      ]
     },
     "execution_count": 174,
     "metadata": {},
     "output_type": "execute_result"
    }
   ],
   "source": [
    "words = text.split()\n",
    "first_letters = [word.lower()[0] for word in words]\n",
    "words"
   ]
  },
  {
   "cell_type": "code",
   "execution_count": 175,
   "id": "2dbea7f0a06dcfce",
   "metadata": {
    "ExecuteTime": {
     "end_time": "2023-12-16T17:43:01.743638900Z",
     "start_time": "2023-12-16T17:43:01.602623600Z"
    },
    "collapsed": false,
    "jupyter": {
     "outputs_hidden": false
    }
   },
   "outputs": [
    {
     "data": {
      "text/plain": [
       "'R = 469'"
      ]
     },
     "execution_count": 175,
     "metadata": {},
     "output_type": "execute_result"
    }
   ],
   "source": [
    "R = (len(words) * 3 if pravilo_2 else 0) + sum([sum(map(str.isupper, word)) for word in words]) + sum(\n",
    "    [len(word) for word in words])\n",
    "f\"R = {R}\""
   ]
  },
  {
   "cell_type": "code",
   "execution_count": 176,
   "id": "2553f6b2ddc06cee",
   "metadata": {
    "ExecuteTime": {
     "end_time": "2023-12-16T17:43:01.743638900Z",
     "start_time": "2023-12-16T17:43:01.611513Z"
    },
    "collapsed": false,
    "jupyter": {
     "outputs_hidden": false
    }
   },
   "outputs": [
    {
     "data": {
      "text/plain": [
       "'Количество а + я = 38'"
      ]
     },
     "execution_count": 176,
     "metadata": {},
     "output_type": "execute_result"
    }
   ],
   "source": [
    "a_ya = (text.count(\"а\") + (text.count(\"А\") * 2 if pravilo_1 else text.count(\"А\")) +\n",
    "        (text.count(\"я\") + (text.count(\"Я\") * 2 if pravilo_1 else text.count(\"Я\"))) +\n",
    "        ((first_letters.count(\"а\") + first_letters.count(\"я\")) if pravilo_2 else 0))\n",
    "f\"Количество а + я = {a_ya}\""
   ]
  },
  {
   "cell_type": "code",
   "execution_count": 177,
   "id": "3499383ed98a6fbf",
   "metadata": {
    "ExecuteTime": {
     "end_time": "2023-12-16T17:43:01.744645400Z",
     "start_time": "2023-12-16T17:43:01.615023900Z"
    },
    "collapsed": false,
    "jupyter": {
     "outputs_hidden": false
    }
   },
   "outputs": [
    {
     "data": {
      "text/plain": [
       "'Количество О+0.5Ё = 49.0'"
      ]
     },
     "execution_count": 177,
     "metadata": {},
     "output_type": "execute_result"
    }
   ],
   "source": [
    "o_yo = (text.count(\"о\") + (text.count(\"О\") * 2 if pravilo_1 else text.count(\"О\")) +\n",
    "        (text.count(\"ё\") + (text.count(\"Ё\") * 2 if pravilo_1 else text.count(\"Ё\"))) * 0.5 +\n",
    "        ((first_letters.count(\"о\") + first_letters.count(\"ё\") * 0.5) if pravilo_2 else 0))\n",
    "f\"Количество О+0.5Ё = {o_yo}\""
   ]
  },
  {
   "cell_type": "code",
   "execution_count": 178,
   "id": "3127ce8464f3707e",
   "metadata": {
    "ExecuteTime": {
     "end_time": "2023-12-16T17:43:01.744645400Z",
     "start_time": "2023-12-16T17:43:01.622476900Z"
    },
    "collapsed": false,
    "jupyter": {
     "outputs_hidden": false
    }
   },
   "outputs": [
    {
     "data": {
      "text/plain": [
       "'Количество Е+0.5Ё = 25.0'"
      ]
     },
     "execution_count": 178,
     "metadata": {},
     "output_type": "execute_result"
    }
   ],
   "source": [
    "e_yo = (text.count(\"е\") + (text.count(\"Е\") * 2 if pravilo_1 else text.count(\"Е\")) +\n",
    "        (text.count(\"ё\") + (text.count(\"Ё\") * 2 if pravilo_1 else text.count(\"Ё\"))) * 0.5 +\n",
    "        ((first_letters.count(\"е\") + first_letters.count(\"ё\") * 0.5) if pravilo_2 else 0))\n",
    "f\"Количество Е+0.5Ё = {e_yo}\""
   ]
  },
  {
   "cell_type": "code",
   "execution_count": 179,
   "id": "49710b627c93c8f9",
   "metadata": {
    "ExecuteTime": {
     "end_time": "2023-12-16T17:43:01.744645400Z",
     "start_time": "2023-12-16T17:43:01.629253Z"
    },
    "collapsed": false,
    "jupyter": {
     "outputs_hidden": false
    }
   },
   "outputs": [
    {
     "data": {
      "text/plain": [
       "'Количество И+0.5Й = 26.0'"
      ]
     },
     "execution_count": 179,
     "metadata": {},
     "output_type": "execute_result"
    }
   ],
   "source": [
    "i_y = (text.count(\"и\") + (text.count(\"И\") * 2 if pravilo_1 else text.count(\"И\")) + text.count(\"й\") +\n",
    "       ((first_letters.count(\"и\") + first_letters.count(\"й\") * 0.5) if pravilo_2 else 0))\n",
    "f\"Количество И+0.5Й = {i_y}\""
   ]
  },
  {
   "cell_type": "code",
   "execution_count": 180,
   "id": "904c71db7ce8fa1a",
   "metadata": {
    "ExecuteTime": {
     "end_time": "2023-12-16T17:43:01.744645400Z",
     "start_time": "2023-12-16T17:43:01.636768900Z"
    },
    "collapsed": false,
    "jupyter": {
     "outputs_hidden": false
    }
   },
   "outputs": [
    {
     "data": {
      "text/plain": [
       "'Количество У+Ю = 9'"
      ]
     },
     "execution_count": 180,
     "metadata": {},
     "output_type": "execute_result"
    }
   ],
   "source": [
    "u_yu = (text.count(\"у\") + (text.count(\"У\") * 2 if pravilo_1 else text.count(\"У\")) +\n",
    "        (text.count(\"ю\") + (text.count(\"Ю\") * 2 if pravilo_1 else text.count(\"Ю\"))) +\n",
    "        ((first_letters.count(\"у\") + first_letters.count(\"ю\")) if pravilo_2 else 0))\n",
    "f\"Количество У+Ю = {u_yu}\""
   ]
  },
  {
   "cell_type": "code",
   "execution_count": 181,
   "id": "d6bc467831902878",
   "metadata": {
    "ExecuteTime": {
     "end_time": "2023-12-16T17:43:01.744645400Z",
     "start_time": "2023-12-16T17:43:01.643639700Z"
    },
    "collapsed": false,
    "jupyter": {
     "outputs_hidden": false
    }
   },
   "outputs": [
    {
     "data": {
      "text/plain": [
       "'Количество Ы = 16'"
      ]
     },
     "execution_count": 181,
     "metadata": {},
     "output_type": "execute_result"
    }
   ],
   "source": [
    "y = (text.count(\"ы\") + (text.count(\"Ы\") * 2 if pravilo_1 else text.count(\"Ы\")) +\n",
    "     (first_letters.count(\"ы\") if pravilo_2 else 0))\n",
    "f\"Количество Ы = {y}\""
   ]
  },
  {
   "cell_type": "code",
   "execution_count": 182,
   "id": "192f800d5bbc6dcc",
   "metadata": {
    "ExecuteTime": {
     "end_time": "2023-12-16T17:43:01.764505900Z",
     "start_time": "2023-12-16T17:43:01.650150600Z"
    },
    "collapsed": false,
    "jupyter": {
     "outputs_hidden": false
    }
   },
   "outputs": [
    {
     "data": {
      "text/html": [
       "<div>\n",
       "<style scoped>\n",
       "    .dataframe tbody tr th:only-of-type {\n",
       "        vertical-align: middle;\n",
       "    }\n",
       "\n",
       "    .dataframe tbody tr th {\n",
       "        vertical-align: top;\n",
       "    }\n",
       "\n",
       "    .dataframe thead th {\n",
       "        text-align: right;\n",
       "    }\n",
       "</style>\n",
       "<table border=\"1\" class=\"dataframe\">\n",
       "  <thead>\n",
       "    <tr style=\"text-align: right;\">\n",
       "      <th></th>\n",
       "      <th>Количество</th>\n",
       "      <th>Частость</th>\n",
       "      <th>Норма частости</th>\n",
       "      <th>Разброс</th>\n",
       "      <th>Сила цвета</th>\n",
       "    </tr>\n",
       "  </thead>\n",
       "  <tbody>\n",
       "    <tr>\n",
       "      <th>А+Я</th>\n",
       "      <td>38.0</td>\n",
       "      <td>0.081023</td>\n",
       "      <td>0.116</td>\n",
       "      <td>0.014787</td>\n",
       "      <td>-2.365420</td>\n",
       "    </tr>\n",
       "    <tr>\n",
       "      <th>О+0.5Ё</th>\n",
       "      <td>49.0</td>\n",
       "      <td>0.104478</td>\n",
       "      <td>0.126</td>\n",
       "      <td>0.015323</td>\n",
       "      <td>-1.404546</td>\n",
       "    </tr>\n",
       "    <tr>\n",
       "      <th>Е+0.5Ё</th>\n",
       "      <td>25.0</td>\n",
       "      <td>0.053305</td>\n",
       "      <td>0.102</td>\n",
       "      <td>0.013975</td>\n",
       "      <td>-3.484443</td>\n",
       "    </tr>\n",
       "    <tr>\n",
       "      <th>И+0.5Й</th>\n",
       "      <td>26.0</td>\n",
       "      <td>0.055437</td>\n",
       "      <td>0.077</td>\n",
       "      <td>0.012310</td>\n",
       "      <td>-1.751650</td>\n",
       "    </tr>\n",
       "    <tr>\n",
       "      <th>У+Ю</th>\n",
       "      <td>9.0</td>\n",
       "      <td>0.019190</td>\n",
       "      <td>0.040</td>\n",
       "      <td>0.009049</td>\n",
       "      <td>-2.299841</td>\n",
       "    </tr>\n",
       "    <tr>\n",
       "      <th>Ы</th>\n",
       "      <td>16.0</td>\n",
       "      <td>0.034115</td>\n",
       "      <td>0.024</td>\n",
       "      <td>0.007067</td>\n",
       "      <td>1.431290</td>\n",
       "    </tr>\n",
       "  </tbody>\n",
       "</table>\n",
       "</div>"
      ],
      "text/plain": [
       "        Количество  Частость  Норма частости   Разброс  Сила цвета\n",
       "А+Я           38.0  0.081023           0.116  0.014787   -2.365420\n",
       "О+0.5Ё        49.0  0.104478           0.126  0.015323   -1.404546\n",
       "Е+0.5Ё        25.0  0.053305           0.102  0.013975   -3.484443\n",
       "И+0.5Й        26.0  0.055437           0.077  0.012310   -1.751650\n",
       "У+Ю            9.0  0.019190           0.040  0.009049   -2.299841\n",
       "Ы             16.0  0.034115           0.024  0.007067    1.431290"
      ]
     },
     "execution_count": 182,
     "metadata": {},
     "output_type": "execute_result"
    }
   ],
   "source": [
    "def get_data(ni, num):\n",
    "    def di():\n",
    "        return math.sqrt(pin[num] * (1 - pin[num]) / R)\n",
    "\n",
    "    def ai():\n",
    "        return (ni / R - pin[num]) / di()\n",
    "\n",
    "    return [ni, ni / R, pin[num], di(), ai()]\n",
    "\n",
    "\n",
    "pd.DataFrame(\n",
    "    data=[get_data(a_ya, 0), get_data(o_yo, 1), get_data(e_yo, 2), get_data(i_y, 3), get_data(u_yu, 4), get_data(y, 5)],\n",
    "    columns=[\"Количество\", 'Частость', 'Норма частости', 'Разброс', 'Сила цвета'],\n",
    "    index=['А+Я', 'О+0.5Ё', 'Е+0.5Ё', 'И+0.5Й', 'У+Ю', 'Ы']\n",
    ")"
   ]
  }
 ],
 "metadata": {
  "kernelspec": {
   "display_name": "Python 3 (ipykernel)",
   "language": "python",
   "name": "python3"
  },
  "language_info": {
   "codemirror_mode": {
    "name": "ipython",
    "version": 3
   },
   "file_extension": ".py",
   "mimetype": "text/x-python",
   "name": "python",
   "nbconvert_exporter": "python",
   "pygments_lexer": "ipython3",
   "version": "3.11.7"
  }
 },
 "nbformat": 4,
 "nbformat_minor": 5
}
